{
 "cells": [
  {
   "cell_type": "code",
   "execution_count": 1,
   "metadata": {},
   "outputs": [],
   "source": [
    "from aocd import data, submit\n",
    "from aocd.get import get_data\n",
    "import numpy as np\n",
    "import pandas as pd\n",
    "import re\n",
    "from tqdm import tqdm"
   ]
  },
  {
   "cell_type": "code",
   "execution_count": 65,
   "metadata": {},
   "outputs": [
    {
     "data": {
      "text/plain": [
       "20060"
      ]
     },
     "execution_count": 65,
     "metadata": {},
     "output_type": "execute_result"
    }
   ],
   "source": [
    "#Part 1\n",
    "data = get_data(day=16, year=2020).split('\\n\\n')\n",
    "\n",
    "data\n",
    "rules, my_ticket, nearby_tickets = [x.split('\\n') for x in data]\n",
    "my_ticket, nearby_tickets = my_ticket[1:], nearby_tickets[1:]\n",
    "valid_ranges = []\n",
    "for i in range(len(nearby_tickets)):\n",
    "    nearby_tickets[i] = list(map(int, nearby_tickets[i].split(',')))\n",
    "my_ticket = list(map(int, my_ticket[0].split(',')))\n",
    "for rule in rules:\n",
    "    min1,max1,min2,max2 = re.findall('\\d+', rule)\n",
    "    valid_ranges += [[int(min1),int(max1)],[int(min2),int(max2)]]\n",
    "\n",
    "invalid_nos = 0\n",
    "valid_nearby_tickets = []\n",
    "for line in nearby_tickets:\n",
    "    \n",
    "    any_invalid = False\n",
    "    for no in line:\n",
    "        is_valid = False\n",
    "        for mi,ma in valid_ranges:\n",
    "            if mi <= no <= ma:\n",
    "                is_valid = True\n",
    "        if is_valid == False:\n",
    "            invalid_nos += no\n",
    "            any_invalid = True\n",
    "    if any_invalid == False:\n",
    "        valid_nearby_tickets += [line]\n",
    "invalid_nos"
   ]
  },
  {
   "cell_type": "code",
   "execution_count": 78,
   "metadata": {},
   "outputs": [
    {
     "data": {
      "text/plain": [
       "{'departure location': [5],\n",
       " 'departure station': [1],\n",
       " 'departure platform': [8],\n",
       " 'departure track': [2],\n",
       " 'departure date': [15],\n",
       " 'departure time': [11],\n",
       " 'arrival location': [17],\n",
       " 'arrival station': [16],\n",
       " 'arrival platform': [0, 3, 5, 10, 14, 19],\n",
       " 'arrival track': [0, 3, 5, 6, 9, 10, 14, 19],\n",
       " 'class': [4],\n",
       " 'duration': [0, 3, 5, 6, 7, 9, 10, 14, 19],\n",
       " 'price': [18],\n",
       " 'route': [12],\n",
       " 'row': [3, 5, 10],\n",
       " 'seat': [3, 5, 10, 14],\n",
       " 'train': [3, 5, 10, 14, 19],\n",
       " 'type': [3, 5],\n",
       " 'wagon': [13],\n",
       " 'zone': [0, 3, 5, 9, 10, 14, 19]}"
      ]
     },
     "execution_count": 78,
     "metadata": {},
     "output_type": "execute_result"
    }
   ],
   "source": [
    "#Part 1\n",
    "   \n",
    "rls = {}\n",
    "idxs = np.array(['X' for line in rules])\n",
    "for line in rules:\n",
    "    min1,max1,min2,max2 = re.findall('\\d+', line)\n",
    "    rls[line.split(':')[0]] = [[int(min1),int(max1)],[int(min2),int(max2)]]\n",
    "\n",
    "possible_idxs = {}\n",
    "for rn, rng in rls.items():\n",
    "    possible_idxs[rn] = []\n",
    "    mi1, ma1 = rng[0]\n",
    "    mi2, ma2 = rng[1]\n",
    "    for idx in range(len(rls.keys())):\n",
    "        possible_idx = True\n",
    "        for ticket in valid_nearby_tickets:\n",
    "            if (mi1<=ticket[idx]<=ma1)|(mi2<=ticket[idx]<=ma2):\n",
    "                pass\n",
    "            else:\n",
    "                possible_idx = False\n",
    "        if possible_idx == True:\n",
    "            possible_idxs[rn] += [idx]\n",
    "possible_idxs\n",
    "\n",
    "i=0\n",
    "while (len(possible_idxs['departure location'])>1)&(i<1000):\n",
    "    i+=1\n",
    "    for rn1, idxs in possible_idxs.items():\n",
    "        if len(idxs) == 1:\n",
    "            idx = idxs[0]\n",
    "            for rn2, idxs in possible_idxs.items():\n",
    "                if rn1 != rn2:\n",
    "                    if idx in possible_idxs[rn2]:\n",
    "                        possible_idxs[rn2].remove(idx)\n",
    "\n",
    "possible_idxs"
   ]
  },
  {
   "cell_type": "code",
   "execution_count": 80,
   "metadata": {},
   "outputs": [
    {
     "data": {
      "text/plain": [
       "2843534243843"
      ]
     },
     "execution_count": 80,
     "metadata": {},
     "output_type": "execute_result"
    }
   ],
   "source": [
    "a = my_ticket\n",
    "a[5]*a[1]*a[8]*a[2]*a[15]*a[11]"
   ]
  },
  {
   "cell_type": "code",
   "execution_count": null,
   "metadata": {},
   "outputs": [],
   "source": []
  }
 ],
 "metadata": {
  "kernelspec": {
   "display_name": "Python 3",
   "language": "python",
   "name": "python3"
  },
  "language_info": {
   "codemirror_mode": {
    "name": "ipython",
    "version": 3
   },
   "file_extension": ".py",
   "mimetype": "text/x-python",
   "name": "python",
   "nbconvert_exporter": "python",
   "pygments_lexer": "ipython3",
   "version": "3.8.5"
  }
 },
 "nbformat": 4,
 "nbformat_minor": 4
}
