{
 "cells": [
  {
   "cell_type": "code",
   "execution_count": 19,
   "metadata": {},
   "outputs": [],
   "source": [
    "import os\n",
    "import re\n",
    "import aocd\n",
    "import numpy as np\n",
    "import pandas as pd\n",
    "from aocd import submit"
   ]
  },
  {
   "cell_type": "code",
   "execution_count": 16,
   "metadata": {},
   "outputs": [
    {
     "data": {
      "text/plain": [
       "11841"
      ]
     },
     "execution_count": 16,
     "metadata": {},
     "output_type": "execute_result"
    }
   ],
   "source": [
    "#Part 1\n",
    "data = aocd.get_data(day=2, year=2022).split('\\n')\n",
    "data = [x.replace('X','A').replace('Y','B').replace('Z','C') for x in data]\n",
    "data = [x.replace('A','1').replace('B','2').replace('C','3') for x in data]\n",
    "data = [map(int,x.split(' ')) for x in data]\n",
    "df = pd.DataFrame(data, columns=['them','me'])\n",
    "df['diff'] = df['me'] - df['them']\n",
    "df['score'] = df['me'] + df['diff'].map({0:3,-1:0,-2:6,1:6,2:0})\n",
    "df['score'].sum()"
   ]
  },
  {
   "cell_type": "code",
   "execution_count": 32,
   "metadata": {},
   "outputs": [
    {
     "data": {
      "text/plain": [
       "13022"
      ]
     },
     "execution_count": 32,
     "metadata": {},
     "output_type": "execute_result"
    }
   ],
   "source": [
    "# Part 2\n",
    "def get_move(their_move, outcome):\n",
    "    if outcome == 'Y':\n",
    "        # tie\n",
    "        return their_move\n",
    "    elif outcome == 'X':\n",
    "        # lose\n",
    "        losses = [3,1,2]\n",
    "        return losses[their_move-1]\n",
    "    elif outcome == 'Z':\n",
    "        # lose\n",
    "        wins = [2,3,1]\n",
    "        return wins[their_move-1]\n",
    "        \n",
    "data = aocd.get_data(day=2, year=2022).split('\\n')\n",
    "#data = [x.replace('X','A').replace('Y','B').replace('Z','C') for x in data]\n",
    "data = [x.replace('A','1').replace('B','2').replace('C','3') for x in data]\n",
    "data = [x.split(' ') for x in data]\n",
    "df = pd.DataFrame(data, columns=['them','outcome'])\n",
    "df['them'] = df['them'].map(int)\n",
    "df['me'] = df.apply(lambda row: get_move(row['them'],row['outcome']), axis=1)\n",
    "df['diff'] = df['me'] - df['them']\n",
    "df['score'] = df['me'] + df['diff'].map({0:3,-1:0,-2:6,1:6,2:0})\n",
    "df['score'].sum()"
   ]
  },
  {
   "cell_type": "code",
   "execution_count": null,
   "metadata": {},
   "outputs": [],
   "source": []
  }
 ],
 "metadata": {
  "kernelspec": {
   "display_name": "Python 3",
   "language": "python",
   "name": "python3"
  },
  "language_info": {
   "codemirror_mode": {
    "name": "ipython",
    "version": 3
   },
   "file_extension": ".py",
   "mimetype": "text/x-python",
   "name": "python",
   "nbconvert_exporter": "python",
   "pygments_lexer": "ipython3",
   "version": "3.8.5"
  }
 },
 "nbformat": 4,
 "nbformat_minor": 4
}
