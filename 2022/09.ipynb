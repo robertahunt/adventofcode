{
 "cells": [
  {
   "cell_type": "code",
   "execution_count": 47,
   "metadata": {},
   "outputs": [],
   "source": [
    "import os\n",
    "import re\n",
    "import aocd\n",
    "import string\n",
    "import pprint\n",
    "import numpy as np\n",
    "import pandas as pd\n",
    "from functools import reduce  # forward compatibility for Python 3\n",
    "import operator\n",
    "from aocd import submit\n",
    "pp = pprint.PrettyPrinter(indent=4)\n",
    "\n",
    "data = aocd.get_data(day=9, year=2022).split('\\n')\n",
    "data\n",
    "\n",
    "def get_tail_position(h_x, h_y, t_x, t_y):\n",
    "\n",
    "\n",
    "    if abs(h_x - t_x) <= 1 and abs(h_y - t_y) <= 1:\n",
    "        #print('a')\n",
    "        # next to eachother\n",
    "        pass\n",
    "    elif h_x - t_x == 0 and abs(h_y - t_y) == 2:\n",
    "        #print('b')\n",
    "        t_y += np.sign(h_y - t_y)\n",
    "    elif abs(h_x - t_x) == 2 and h_y - t_y == 0:\n",
    "        #print('c')\n",
    "        t_x += np.sign(h_x - t_x)\n",
    "    elif abs(h_x - t_x) == 2 or abs(h_y - t_y) == 2:\n",
    "        #print('d')\n",
    "        t_x += np.sign(h_x - t_x)\n",
    "        t_y += np.sign(h_y - t_y)\n",
    "    else:\n",
    "        print(h_x, h_y, t_x, t_y)\n",
    "        wtf\n",
    "    return t_x, t_y\n",
    "\n",
    "pos = []\n",
    "for i in range(10):\n",
    "    pos += [[0,0]]\n",
    "t_visited = [(0,0)]\n",
    "for line in data:\n",
    "    direction, n = line.split(' ')\n",
    "    for i in range(int(n)):\n",
    "        if direction == 'R':\n",
    "            pos[0][0] += 1\n",
    "        elif direction == 'L':\n",
    "            pos[0][0] -= 1\n",
    "        elif direction == 'U':\n",
    "            pos[0][1] += 1\n",
    "        elif direction == 'D':\n",
    "            pos[0][1] -=1\n",
    "        \n",
    "        for knot in range(9):\n",
    "            h = pos[knot]\n",
    "            t = pos[knot+1]\n",
    "            tx, ty = get_tail_position(h[0],h[1],t[0],t[1])\n",
    "            pos[knot+1] = [tx, ty]\n",
    "        \n",
    "        t_visited += [(tx, ty)]\n",
    "\n",
    "    \n"
   ]
  },
  {
   "cell_type": "code",
   "execution_count": 48,
   "metadata": {},
   "outputs": [
    {
     "data": {
      "text/plain": [
       "2405"
      ]
     },
     "execution_count": 48,
     "metadata": {},
     "output_type": "execute_result"
    }
   ],
   "source": [
    "len(np.unique(t_visited, axis=0))"
   ]
  },
  {
   "cell_type": "code",
   "execution_count": null,
   "metadata": {},
   "outputs": [],
   "source": []
  }
 ],
 "metadata": {
  "kernelspec": {
   "display_name": "Python 3",
   "language": "python",
   "name": "python3"
  },
  "language_info": {
   "codemirror_mode": {
    "name": "ipython",
    "version": 3
   },
   "file_extension": ".py",
   "mimetype": "text/x-python",
   "name": "python",
   "nbconvert_exporter": "python",
   "pygments_lexer": "ipython3",
   "version": "3.8.5"
  }
 },
 "nbformat": 4,
 "nbformat_minor": 4
}
