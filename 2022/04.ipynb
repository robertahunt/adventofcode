{
 "cells": [
  {
   "cell_type": "code",
   "execution_count": 1,
   "metadata": {},
   "outputs": [],
   "source": [
    "import os\n",
    "import re\n",
    "import aocd\n",
    "import string\n",
    "import numpy as np\n",
    "import pandas as pd\n",
    "from aocd import submit\n",
    "\n",
    "data = aocd.get_data(day=4, year=2022).split('\\n')"
   ]
  },
  {
   "cell_type": "code",
   "execution_count": 3,
   "metadata": {},
   "outputs": [
    {
     "data": {
      "text/plain": [
       "518"
      ]
     },
     "execution_count": 3,
     "metadata": {},
     "output_type": "execute_result"
    }
   ],
   "source": [
    "contained = 0\n",
    "for pair in data:\n",
    "    pair = pair.split(',')\n",
    "    s1,e1 = map(int,pair[0].split('-'))\n",
    "    s2,e2 = map(int,pair[1].split('-'))\n",
    "    \n",
    "    if s1>=s2 and e1<=e2:\n",
    "        contained += 1\n",
    "    elif s2>=s1 and e2<=e1:\n",
    "        contained += 1\n",
    "contained"
   ]
  },
  {
   "cell_type": "code",
   "execution_count": 7,
   "metadata": {},
   "outputs": [
    {
     "data": {
      "text/plain": [
       "909"
      ]
     },
     "execution_count": 7,
     "metadata": {},
     "output_type": "execute_result"
    }
   ],
   "source": [
    "overlap = 0\n",
    "for pair in data:\n",
    "    add = 0\n",
    "    pair = pair.split(',')\n",
    "    s1,e1 = map(int,pair[0].split('-'))\n",
    "    s2,e2 = map(int,pair[1].split('-'))\n",
    "    \n",
    "    if s1<=e2 and e1>=s2:\n",
    "        add += 1\n",
    "    elif s2<=e1 and e2>=s1:\n",
    "        add += 1\n",
    "    overlap += add\n",
    "overlap"
   ]
  },
  {
   "cell_type": "code",
   "execution_count": null,
   "metadata": {},
   "outputs": [],
   "source": []
  }
 ],
 "metadata": {
  "kernelspec": {
   "display_name": "Python 3",
   "language": "python",
   "name": "python3"
  },
  "language_info": {
   "codemirror_mode": {
    "name": "ipython",
    "version": 3
   },
   "file_extension": ".py",
   "mimetype": "text/x-python",
   "name": "python",
   "nbconvert_exporter": "python",
   "pygments_lexer": "ipython3",
   "version": "3.8.5"
  }
 },
 "nbformat": 4,
 "nbformat_minor": 4
}
