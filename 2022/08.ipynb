{
 "cells": [
  {
   "cell_type": "code",
   "execution_count": 26,
   "metadata": {},
   "outputs": [
    {
     "data": {
      "text/plain": [
       "1807"
      ]
     },
     "execution_count": 26,
     "metadata": {},
     "output_type": "execute_result"
    }
   ],
   "source": [
    "import os\n",
    "import re\n",
    "import aocd\n",
    "import string\n",
    "import pprint\n",
    "import numpy as np\n",
    "import pandas as pd\n",
    "from functools import reduce  # forward compatibility for Python 3\n",
    "import operator\n",
    "from aocd import submit\n",
    "pp = pprint.PrettyPrinter(indent=4)\n",
    "\n",
    "data = aocd.get_data(day=8, year=2022).split('\\n')\n",
    "\n",
    "data = np.array([[int(y) for y in x] for x in data])\n",
    "data\n",
    "\n",
    "is_visible = np.zeros(data.shape, dtype=int)\n",
    "\n",
    "n_rows, n_cols = data.shape\n",
    "for row in range(n_rows):\n",
    "    for col in range(n_cols):\n",
    "        vis = 0\n",
    "        above = data[:row, col]\n",
    "        below = data[row+1:, col]\n",
    "        left = data[row, :col]\n",
    "        right = data[row, col+1:]\n",
    "        val = data[row,col]\n",
    "        if (row == 0) or (col == 0) or (row == (n_rows-1)) or (col == (n_rows-1)):\n",
    "            vis = 1\n",
    "        elif (above < val).all() or (below < val).all() or (left < val).all() or (right < val).all():\n",
    "            vis = 1\n",
    "        is_visible[row,col] = vis\n",
    "            \n",
    "is_visible.sum()\n",
    "        "
   ]
  },
  {
   "cell_type": "code",
   "execution_count": 44,
   "metadata": {},
   "outputs": [
    {
     "name": "stdout",
     "output_type": "stream",
     "text": [
      "2 [1 0 0 0 1 0] 6\n",
      "2 [2 2 2 1 0 3 3 0 2 2 3 4 2 4 1 4 4 4 0 3 3 3 3 0 3 0 2 4 1 2 3 5 2 5 5 2 5\n",
      " 3 3 4 2 3 5 2 3 1 4 4 3 3 2 3 5 3 2 3 2 5 3 4 3 1 3 1 1 3 1 0 3 1 4 3 1 3\n",
      " 3 4 1 1 0 3 3 0 2 3 0 2 3 2 2 2 1 0] 1\n",
      "2 [0 0] 2\n",
      "2 [0 2 2 2 2 3 3 3 2 1 4 3 3 2 3 3 2 0 0 3 0 0 0 4 1 1 1 4 3 1 4 3 4 1 5 3 3\n",
      " 5 2 1 5 3 3 2 1 4 1 4 1 5 4 4 5 3 4 4 2 5 5 2 3 2 1 3 3 2 3 4 1 3 5 5 1 3\n",
      " 2 4 4 4 0 3 0 4 4 2 1 1 0 1 0 3 2 0 3 2 1 2] 2\n"
     ]
    },
    {
     "data": {
      "text/plain": [
       "480000"
      ]
     },
     "execution_count": 44,
     "metadata": {},
     "output_type": "execute_result"
    }
   ],
   "source": [
    "import os\n",
    "import re\n",
    "import aocd\n",
    "import string\n",
    "import pprint\n",
    "import numpy as np\n",
    "import pandas as pd\n",
    "from functools import reduce  # forward compatibility for Python 3\n",
    "import operator\n",
    "from aocd import submit\n",
    "pp = pprint.PrettyPrinter(indent=4)\n",
    "\n",
    "data = aocd.get_data(day=8, year=2022).split('\\n')\n",
    "data = np.array([[int(y) for y in x] for x in data])\n",
    "data\n",
    "\n",
    "score = np.zeros(data.shape, dtype=int)\n",
    "\n",
    "n_rows, n_cols = data.shape\n",
    "for row in range(n_rows):\n",
    "    for col in range(n_cols):\n",
    "        vis = 0\n",
    "        above = data[:row, col]\n",
    "        below = data[row+1:, col]\n",
    "        left = data[row, :col]\n",
    "        right = data[row, col+1:]\n",
    "        val = data[row,col]\n",
    "        \n",
    "        scores = []\n",
    "        for l in [above[::-1], below, left[::-1], right]:\n",
    "            \n",
    "            _max = 0\n",
    "            trees_seen = 0\n",
    "            for tree_height in l:\n",
    "                trees_seen += 1\n",
    "                    \n",
    "                if tree_height >= val:\n",
    "                    break\n",
    "                \n",
    "            scores += [trees_seen]\n",
    "        score[row,col] = np.product(scores)\n",
    "        \n",
    "score.max()\n",
    "        "
   ]
  },
  {
   "cell_type": "code",
   "execution_count": null,
   "metadata": {},
   "outputs": [],
   "source": []
  }
 ],
 "metadata": {
  "kernelspec": {
   "display_name": "Python 3",
   "language": "python",
   "name": "python3"
  },
  "language_info": {
   "codemirror_mode": {
    "name": "ipython",
    "version": 3
   },
   "file_extension": ".py",
   "mimetype": "text/x-python",
   "name": "python",
   "nbconvert_exporter": "python",
   "pygments_lexer": "ipython3",
   "version": "3.8.5"
  }
 },
 "nbformat": 4,
 "nbformat_minor": 4
}
