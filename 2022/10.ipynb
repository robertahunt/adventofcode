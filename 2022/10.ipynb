{
 "cells": [
  {
   "cell_type": "code",
   "execution_count": 52,
   "metadata": {},
   "outputs": [
    {
     "data": {
      "text/plain": [
       "['addx 2',\n",
       " 'addx 3',\n",
       " 'addx 1',\n",
       " 'noop',\n",
       " 'addx 4',\n",
       " 'noop',\n",
       " 'noop',\n",
       " 'noop',\n",
       " 'addx 5',\n",
       " 'noop',\n",
       " 'addx 1',\n",
       " 'addx 4',\n",
       " 'addx -2',\n",
       " 'addx 3',\n",
       " 'addx 5',\n",
       " 'addx -1',\n",
       " 'addx 5',\n",
       " 'addx 3',\n",
       " 'addx -2',\n",
       " 'addx 4',\n",
       " 'noop',\n",
       " 'noop',\n",
       " 'noop',\n",
       " 'addx -27',\n",
       " 'addx -5',\n",
       " 'addx 2',\n",
       " 'addx -7',\n",
       " 'addx 3',\n",
       " 'addx 7',\n",
       " 'addx 5',\n",
       " 'addx 2',\n",
       " 'addx 5',\n",
       " 'noop',\n",
       " 'noop',\n",
       " 'addx -2',\n",
       " 'noop',\n",
       " 'addx 3',\n",
       " 'addx 2',\n",
       " 'addx 5',\n",
       " 'addx 2',\n",
       " 'addx 3',\n",
       " 'noop',\n",
       " 'addx 2',\n",
       " 'addx -29',\n",
       " 'addx 30',\n",
       " 'addx -26',\n",
       " 'addx -10',\n",
       " 'noop',\n",
       " 'addx 5',\n",
       " 'noop',\n",
       " 'addx 18',\n",
       " 'addx -13',\n",
       " 'noop',\n",
       " 'noop',\n",
       " 'addx 5',\n",
       " 'noop',\n",
       " 'noop',\n",
       " 'addx 5',\n",
       " 'noop',\n",
       " 'noop',\n",
       " 'noop',\n",
       " 'addx 1',\n",
       " 'addx 2',\n",
       " 'addx 7',\n",
       " 'noop',\n",
       " 'noop',\n",
       " 'addx 3',\n",
       " 'noop',\n",
       " 'addx 2',\n",
       " 'addx 3',\n",
       " 'noop',\n",
       " 'addx -37',\n",
       " 'noop',\n",
       " 'addx 16',\n",
       " 'addx -12',\n",
       " 'addx 29',\n",
       " 'addx -16',\n",
       " 'addx -10',\n",
       " 'addx 5',\n",
       " 'addx 2',\n",
       " 'addx -11',\n",
       " 'addx 11',\n",
       " 'addx 3',\n",
       " 'addx 5',\n",
       " 'addx 2',\n",
       " 'addx 2',\n",
       " 'addx -1',\n",
       " 'addx 2',\n",
       " 'addx 5',\n",
       " 'addx 2',\n",
       " 'noop',\n",
       " 'noop',\n",
       " 'noop',\n",
       " 'addx -37',\n",
       " 'noop',\n",
       " 'addx 17',\n",
       " 'addx -10',\n",
       " 'addx -2',\n",
       " 'noop',\n",
       " 'addx 7',\n",
       " 'addx 3',\n",
       " 'noop',\n",
       " 'addx 2',\n",
       " 'addx -10',\n",
       " 'addx 22',\n",
       " 'addx -9',\n",
       " 'addx 5',\n",
       " 'addx 2',\n",
       " 'addx -5',\n",
       " 'addx 6',\n",
       " 'addx 2',\n",
       " 'addx 5',\n",
       " 'addx 2',\n",
       " 'addx -28',\n",
       " 'addx -7',\n",
       " 'noop',\n",
       " 'noop',\n",
       " 'addx 1',\n",
       " 'addx 4',\n",
       " 'addx 17',\n",
       " 'addx -12',\n",
       " 'noop',\n",
       " 'noop',\n",
       " 'noop',\n",
       " 'noop',\n",
       " 'addx 5',\n",
       " 'addx 6',\n",
       " 'noop',\n",
       " 'addx -1',\n",
       " 'addx -17',\n",
       " 'addx 18',\n",
       " 'noop',\n",
       " 'addx 5',\n",
       " 'noop',\n",
       " 'noop',\n",
       " 'noop',\n",
       " 'addx 5',\n",
       " 'addx 4',\n",
       " 'addx -2',\n",
       " 'noop',\n",
       " 'noop',\n",
       " 'noop',\n",
       " 'noop',\n",
       " 'noop']"
      ]
     },
     "execution_count": 52,
     "metadata": {},
     "output_type": "execute_result"
    }
   ],
   "source": [
    "import os\n",
    "import re\n",
    "import aocd\n",
    "import string\n",
    "import pprint\n",
    "import numpy as np\n",
    "import pandas as pd\n",
    "from functools import reduce  # forward compatibility for Python 3\n",
    "import operator\n",
    "from aocd import submit\n",
    "import matplotlib.pyplot as plt\n",
    "pp = pprint.PrettyPrinter(indent=4)\n",
    "\n",
    "data = aocd.get_data(day=10, year=2022).split('\\n')\n",
    "data\n",
    "\n"
   ]
  },
  {
   "cell_type": "code",
   "execution_count": 24,
   "metadata": {},
   "outputs": [
    {
     "data": {
      "text/plain": [
       "15680"
      ]
     },
     "execution_count": 24,
     "metadata": {},
     "output_type": "execute_result"
    }
   ],
   "source": [
    "cycle_no = 0\n",
    "x = 1\n",
    "signal_strengths = {}\n",
    "next_clock = 20\n",
    "for line in data:\n",
    "    cycle_no += 1\n",
    "    if line == 'noop':\n",
    "        pass\n",
    "    elif line.startswith('addx'):\n",
    "        v = int(line.split(' ')[-1])\n",
    "        cycle_no += 1\n",
    "        if cycle_no == next_clock:\n",
    "            signal_strengths[next_clock] = (x, x*next_clock) \n",
    "            next_clock += 40\n",
    "        elif cycle_no > next_clock:\n",
    "            signal_strengths[next_clock] = (x, x*next_clock) \n",
    "            next_clock += 40\n",
    "        x += v\n",
    "            \n",
    "    else:\n",
    "        wtf\n",
    "    \n",
    "sum([x[1] for x in signal_strengths.values()])"
   ]
  },
  {
   "cell_type": "code",
   "execution_count": 53,
   "metadata": {},
   "outputs": [
    {
     "name": "stdout",
     "output_type": "stream",
     "text": [
      "15680\n"
     ]
    },
    {
     "data": {
      "text/plain": [
       "<matplotlib.image.AxesImage at 0x7fc07e5617f0>"
      ]
     },
     "execution_count": 53,
     "metadata": {},
     "output_type": "execute_result"
    },
    {
     "data": {
      "image/png": "[encoded data removed]",
      "text/plain": [
       "<Figure size 432x288 with 1 Axes>"
      ]
     },
     "metadata": {
      "needs_background": "light"
     },
     "output_type": "display_data"
    }
   ],
   "source": [
    "cycle_no = 0\n",
    "x = 1\n",
    "signal_strengths = {}\n",
    "next_clock = 20\n",
    "crt = np.zeros((6,40), int)\n",
    "px, py = 0,0\n",
    "for line in data:\n",
    "    sprite_pos = [x-1, x, x+1]\n",
    "    #print(cycle_no, sprite_pos)\n",
    "    if cycle_no%40 in sprite_pos:\n",
    "        crt[int(cycle_no/40),cycle_no%40] = 1\n",
    "    cycle_no += 1\n",
    "    \n",
    "    \n",
    "    if line == 'noop':\n",
    "        pass\n",
    "    elif line.startswith('addx'):\n",
    "        v = int(line.split(' ')[-1])\n",
    "        sprite_pos = [x-1, x, x+1]\n",
    "        #print(cycle_no%40, sprite_pos)\n",
    "        if cycle_no%40 in sprite_pos:\n",
    "            crt[int(cycle_no/40),cycle_no%40] = 1\n",
    "        #print(crt[:,:cycle_no+10])\n",
    "        cycle_no += 1\n",
    "        if cycle_no == next_clock:\n",
    "            signal_strengths[next_clock] = (x, x*next_clock) \n",
    "            next_clock += 40\n",
    "        elif cycle_no > next_clock:\n",
    "            signal_strengths[next_clock] = (x, x*next_clock) \n",
    "            next_clock += 40\n",
    "        x += v\n",
    "            \n",
    "    else:\n",
    "        wtf\n",
    "    \n",
    "print(sum([x[1] for x in signal_strengths.values()]))\n",
    "\n",
    "plt.imshow(crt.reshape(6,40))"
   ]
  },
  {
   "cell_type": "code",
   "execution_count": 42,
   "metadata": {},
   "outputs": [
    {
     "data": {
      "text/plain": [
       "<matplotlib.image.AxesImage at 0x7fc0802c11c0>"
      ]
     },
     "execution_count": 42,
     "metadata": {},
     "output_type": "execute_result"
    },
    {
     "data": {
      "image/png": "[encoded data removed]",
      "text/plain": [
       "<Figure size 432x288 with 1 Axes>"
      ]
     },
     "metadata": {
      "needs_background": "light"
     },
     "output_type": "display_data"
    }
   ],
   "source": [
    "\n",
    "plt.imshow(crt)"
   ]
  },
  {
   "cell_type": "code",
   "execution_count": null,
   "metadata": {},
   "outputs": [],
   "source": []
  }
 ],
 "metadata": {
  "kernelspec": {
   "display_name": "Python 3",
   "language": "python",
   "name": "python3"
  },
  "language_info": {
   "codemirror_mode": {
    "name": "ipython",
    "version": 3
   },
   "file_extension": ".py",
   "mimetype": "text/x-python",
   "name": "python",
   "nbconvert_exporter": "python",
   "pygments_lexer": "ipython3",
   "version": "3.8.5"
  }
 },
 "nbformat": 4,
 "nbformat_minor": 4
}
