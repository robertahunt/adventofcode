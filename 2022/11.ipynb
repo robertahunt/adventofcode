{
 "cells": [
  {
   "cell_type": "code",
   "execution_count": 28,
   "metadata": {},
   "outputs": [
    {
     "data": {
      "text/plain": [
       "['Monkey 0:',\n",
       " '  Starting items: 50, 70, 54, 83, 52, 78',\n",
       " '  Operation: new = old * 3',\n",
       " '  Test: divisible by 11',\n",
       " '    If true: throw to monkey 2',\n",
       " '    If false: throw to monkey 7',\n",
       " '',\n",
       " 'Monkey 1:',\n",
       " '  Starting items: 71, 52, 58, 60, 71',\n",
       " '  Operation: new = old * old',\n",
       " '  Test: divisible by 7',\n",
       " '    If true: throw to monkey 0',\n",
       " '    If false: throw to monkey 2',\n",
       " '',\n",
       " 'Monkey 2:',\n",
       " '  Starting items: 66, 56, 56, 94, 60, 86, 73',\n",
       " '  Operation: new = old + 1',\n",
       " '  Test: divisible by 3',\n",
       " '    If true: throw to monkey 7',\n",
       " '    If false: throw to monkey 5',\n",
       " '',\n",
       " 'Monkey 3:',\n",
       " '  Starting items: 83, 99',\n",
       " '  Operation: new = old + 8',\n",
       " '  Test: divisible by 5',\n",
       " '    If true: throw to monkey 6',\n",
       " '    If false: throw to monkey 4',\n",
       " '',\n",
       " 'Monkey 4:',\n",
       " '  Starting items: 98, 98, 79',\n",
       " '  Operation: new = old + 3',\n",
       " '  Test: divisible by 17',\n",
       " '    If true: throw to monkey 1',\n",
       " '    If false: throw to monkey 0',\n",
       " '',\n",
       " 'Monkey 5:',\n",
       " '  Starting items: 76',\n",
       " '  Operation: new = old + 4',\n",
       " '  Test: divisible by 13',\n",
       " '    If true: throw to monkey 6',\n",
       " '    If false: throw to monkey 3',\n",
       " '',\n",
       " 'Monkey 6:',\n",
       " '  Starting items: 52, 51, 84, 54',\n",
       " '  Operation: new = old * 17',\n",
       " '  Test: divisible by 19',\n",
       " '    If true: throw to monkey 4',\n",
       " '    If false: throw to monkey 1',\n",
       " '',\n",
       " 'Monkey 7:',\n",
       " '  Starting items: 82, 86, 91, 79, 94, 92, 59, 94',\n",
       " '  Operation: new = old + 7',\n",
       " '  Test: divisible by 2',\n",
       " '    If true: throw to monkey 5',\n",
       " '    If false: throw to monkey 3']"
      ]
     },
     "execution_count": 28,
     "metadata": {},
     "output_type": "execute_result"
    }
   ],
   "source": [
    "import os\n",
    "import re\n",
    "import aocd\n",
    "import string\n",
    "import pprint\n",
    "import numpy as np\n",
    "import pandas as pd\n",
    "from functools import reduce  # forward compatibility for Python 3\n",
    "import operator\n",
    "from aocd import submit\n",
    "from tqdm import tqdm\n",
    "pp = pprint.PrettyPrinter(indent=4)\n",
    "\n",
    "data = aocd.get_data(day=11, year=2022).split('\\n')\n",
    "data = \"\"\"Monkey 0:\n",
    "  Starting items: 79, 98\n",
    "  Operation: new = old * 19\n",
    "  Test: divisible by 23\n",
    "    If true: throw to monkey 2\n",
    "    If false: throw to monkey 3\n",
    "\n",
    "Monkey 1:\n",
    "  Starting items: 54, 65, 75, 74\n",
    "  Operation: new = old + 6\n",
    "  Test: divisible by 19\n",
    "    If true: throw to monkey 2\n",
    "    If false: throw to monkey 0\n",
    "\n",
    "Monkey 2:\n",
    "  Starting items: 79, 60, 97\n",
    "  Operation: new = old * old\n",
    "  Test: divisible by 13\n",
    "    If true: throw to monkey 1\n",
    "    If false: throw to monkey 3\n",
    "\n",
    "Monkey 3:\n",
    "  Starting items: 74\n",
    "  Operation: new = old + 3\n",
    "  Test: divisible by 17\n",
    "    If true: throw to monkey 0\n",
    "    If false: throw to monkey 1\"\"\"\n",
    "\n",
    "data = data.split('\\n')\n",
    "\n",
    "\n",
    "data = aocd.get_data(day=11, year=2022).split('\\n')\n",
    "\n",
    "monkeys = [x.split('  Starting items: ')[-1] for x in data if x.startswith('  Starting items')]\n",
    "monkeys = [list(map(int,x.split(', '))) for x in monkeys]\n",
    "operation = [x.split('  Operation: new =')[-1] for x in data if x.startswith('  Operation: new = old')]\n",
    "dividor = [int(x.split('  Test: divisible by ')[-1]) for x in data if x.startswith('  Test: divisible by ')]\n",
    "if_true = [int(x.split('    If true: throw to monkey ')[-1]) for x in data if x.startswith('    If true: throw to monkey ')]\n",
    "\n",
    "if_false = [int(x.split('    If false: throw to monkey ')[-1]) for x in data if x.startswith('    If false: throw to monkey ')]\n",
    "data"
   ]
  },
  {
   "cell_type": "code",
   "execution_count": 27,
   "metadata": {},
   "outputs": [
    {
     "data": {
      "text/plain": [
       "102399"
      ]
     },
     "execution_count": 27,
     "metadata": {},
     "output_type": "execute_result"
    }
   ],
   "source": [
    "no_inspections = [0 for monkey in monkeys]\n",
    "for _round in range(20):\n",
    "    for monkey_no in range(len(monkeys)):\n",
    "        monkey = monkeys[monkey_no]\n",
    "        for item in monkey:\n",
    "            old = item\n",
    "            exec('item = ' + operation[monkey_no])\n",
    "            item = int(item / 3)\n",
    "            if item%dividor[monkey_no] == 0:\n",
    "                next_monkey = if_true[monkey_no]\n",
    "            else:\n",
    "                next_monkey = if_false[monkey_no]\n",
    "            monkeys[next_monkey] += [item]\n",
    "            monkeys[monkey_no] = monkeys[monkey_no][1:]\n",
    "            no_inspections[monkey_no] += 1\n",
    "np.product(sorted(no_inspections)[-2:])"
   ]
  },
  {
   "cell_type": "code",
   "execution_count": 29,
   "metadata": {},
   "outputs": [
    {
     "name": "stderr",
     "output_type": "stream",
     "text": [
      "  3%|▎         | 306/10000 [1:20:32<42:31:47, 15.79s/it]   \n"
     ]
    },
    {
     "ename": "KeyboardInterrupt",
     "evalue": "",
     "output_type": "error",
     "traceback": [
      "\u001b[0;31m---------------------------------------------------------------------------\u001b[0m",
      "\u001b[0;31mKeyboardInterrupt\u001b[0m                         Traceback (most recent call last)",
      "\u001b[0;32m<ipython-input-29-c7e52bfbacde>\u001b[0m in \u001b[0;36m<module>\u001b[0;34m\u001b[0m\n\u001b[1;32m      5\u001b[0m         \u001b[0;32mfor\u001b[0m \u001b[0mitem\u001b[0m \u001b[0;32min\u001b[0m \u001b[0mmonkey\u001b[0m\u001b[0;34m:\u001b[0m\u001b[0;34m\u001b[0m\u001b[0;34m\u001b[0m\u001b[0m\n\u001b[1;32m      6\u001b[0m             \u001b[0mold\u001b[0m \u001b[0;34m=\u001b[0m \u001b[0mitem\u001b[0m\u001b[0;34m\u001b[0m\u001b[0;34m\u001b[0m\u001b[0m\n\u001b[0;32m----> 7\u001b[0;31m             \u001b[0mexec\u001b[0m\u001b[0;34m(\u001b[0m\u001b[0;34m'item = '\u001b[0m \u001b[0;34m+\u001b[0m \u001b[0moperation\u001b[0m\u001b[0;34m[\u001b[0m\u001b[0mmonkey_no\u001b[0m\u001b[0;34m]\u001b[0m\u001b[0;34m)\u001b[0m\u001b[0;34m\u001b[0m\u001b[0;34m\u001b[0m\u001b[0m\n\u001b[0m\u001b[1;32m      8\u001b[0m             \u001b[0;32mif\u001b[0m \u001b[0mitem\u001b[0m\u001b[0;34m%\u001b[0m\u001b[0mdividor\u001b[0m\u001b[0;34m[\u001b[0m\u001b[0mmonkey_no\u001b[0m\u001b[0;34m]\u001b[0m \u001b[0;34m==\u001b[0m \u001b[0;36m0\u001b[0m\u001b[0;34m:\u001b[0m\u001b[0;34m\u001b[0m\u001b[0;34m\u001b[0m\u001b[0m\n\u001b[1;32m      9\u001b[0m                 \u001b[0mnext_monkey\u001b[0m \u001b[0;34m=\u001b[0m \u001b[0mif_true\u001b[0m\u001b[0;34m[\u001b[0m\u001b[0mmonkey_no\u001b[0m\u001b[0;34m]\u001b[0m\u001b[0;34m\u001b[0m\u001b[0;34m\u001b[0m\u001b[0m\n",
      "\u001b[0;32m<string>\u001b[0m in \u001b[0;36m<module>\u001b[0;34m\u001b[0m\n",
      "\u001b[0;31mKeyboardInterrupt\u001b[0m: "
     ]
    }
   ],
   "source": [
    "no_inspections = [0 for monkey in monkeys]\n",
    "for _round in tqdm(range(10000)):\n",
    "    for monkey_no in range(len(monkeys)):\n",
    "        monkey = monkeys[monkey_no]\n",
    "        for item in monkey:\n",
    "            old = item\n",
    "            exec('item = ' + operation[monkey_no])\n",
    "            if item%dividor[monkey_no] == 0:\n",
    "                next_monkey = if_true[monkey_no]\n",
    "            else:\n",
    "                next_monkey = if_false[monkey_no]\n",
    "            monkeys[next_monkey] += [item]\n",
    "            monkeys[monkey_no] = monkeys[monkey_no][1:]\n",
    "            no_inspections[monkey_no] += 1\n"
   ]
  },
  {
   "cell_type": "code",
   "execution_count": null,
   "metadata": {},
   "outputs": [],
   "source": [
    "np.product(sorted(no_inspections)[-2:])"
   ]
  }
 ],
 "metadata": {
  "kernelspec": {
   "display_name": "Python 3",
   "language": "python",
   "name": "python3"
  },
  "language_info": {
   "codemirror_mode": {
    "name": "ipython",
    "version": 3
   },
   "file_extension": ".py",
   "mimetype": "text/x-python",
   "name": "python",
   "nbconvert_exporter": "python",
   "pygments_lexer": "ipython3",
   "version": "3.8.5"
  }
 },
 "nbformat": 4,
 "nbformat_minor": 4
}
