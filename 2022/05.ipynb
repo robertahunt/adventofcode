{
 "cells": [
  {
   "cell_type": "code",
   "execution_count": 1,
   "metadata": {},
   "outputs": [],
   "source": [
    "import os\n",
    "import re\n",
    "import aocd\n",
    "import string\n",
    "import numpy as np\n",
    "import pandas as pd\n",
    "from aocd import submit\n",
    "\n",
    "data = aocd.get_data(day=5, year=2022).split('\\n')"
   ]
  },
  {
   "cell_type": "code",
   "execution_count": 38,
   "metadata": {},
   "outputs": [
    {
     "name": "stdout",
     "output_type": "stream",
     "text": [
      "['BQC', 'RQWZ', 'BMRLV', 'CZHVTW', 'DZHBNVG', 'HNPCJFVQ', 'DGTRWZS', 'CGMNBWZP', 'NJBMWQFP']\n"
     ]
    },
    {
     "data": {
      "text/plain": [
       "['B', 'W', 'N', 'C', 'Q', 'R', 'M', 'D', 'B']"
      ]
     },
     "execution_count": 38,
     "metadata": {},
     "output_type": "execute_result"
    }
   ],
   "source": [
    "[x.replace(' ','-') for x in data]\n",
    "line_no = 0\n",
    "line = data[line_no]\n",
    "stacks = ['']*9\n",
    "while line != '':\n",
    "    line = line[1::4]\n",
    "    char_no = 0\n",
    "    for char_no in range(len(line)):\n",
    "        char = line[char_no]\n",
    "        if char != ' ':\n",
    "            stacks[char_no] = char + stacks[char_no]\n",
    "    \n",
    "    line_no += 1\n",
    "    line = data[line_no]\n",
    "stacks = [x[1:] for x in stacks]\n",
    "print(stacks)\n",
    "for line in data[line_no+1:]:\n",
    "    _, num, _, fra, _, til = line.split(' ')\n",
    "    num, fra, til = map(int, [num, fra, til])\n",
    "    fra = fra-1\n",
    "    til = til-1\n",
    "    \n",
    "    for i in range(num):\n",
    "        stacks[til] = stacks[til] + stacks[fra][-1]\n",
    "        stacks[fra] = stacks[fra][:-1]\n",
    "\n",
    "\n",
    "[x[-1] for x in stacks]"
   ]
  },
  {
   "cell_type": "code",
   "execution_count": 39,
   "metadata": {},
   "outputs": [
    {
     "name": "stdout",
     "output_type": "stream",
     "text": [
      "['BQC', 'RQWZ', 'BMRLV', 'CZHVTW', 'DZHBNVG', 'HNPCJFVQ', 'DGTRWZS', 'CGMNBWZP', 'NJBMWQFP']\n"
     ]
    },
    {
     "data": {
      "text/plain": [
       "['N', 'H', 'W', 'Z', 'C', 'B', 'N', 'B', 'F']"
      ]
     },
     "execution_count": 39,
     "metadata": {},
     "output_type": "execute_result"
    }
   ],
   "source": [
    "[x.replace(' ','-') for x in data]\n",
    "line_no = 0\n",
    "line = data[line_no]\n",
    "stacks = ['']*9\n",
    "while line != '':\n",
    "    line = line[1::4]\n",
    "    char_no = 0\n",
    "    for char_no in range(len(line)):\n",
    "        char = line[char_no]\n",
    "        if char != ' ':\n",
    "            stacks[char_no] = char + stacks[char_no]\n",
    "    \n",
    "    line_no += 1\n",
    "    line = data[line_no]\n",
    "stacks = [x[1:] for x in stacks]\n",
    "print(stacks)\n",
    "for line in data[line_no+1:]:\n",
    "    _, num, _, fra, _, til = line.split(' ')\n",
    "    num, fra, til = map(int, [num, fra, til])\n",
    "    fra = fra-1\n",
    "    til = til-1\n",
    "    \n",
    "    stacks[til] = stacks[til] + stacks[fra][-num:]\n",
    "    stacks[fra] = stacks[fra][:-num]\n",
    "\n",
    "\n",
    "[x[-1] for x in stacks]"
   ]
  },
  {
   "cell_type": "code",
   "execution_count": 7,
   "metadata": {},
   "outputs": [
    {
     "data": {
      "text/plain": [
       "909"
      ]
     },
     "execution_count": 7,
     "metadata": {},
     "output_type": "execute_result"
    }
   ],
   "source": [
    "overlap = 0\n",
    "for pair in data:\n",
    "    add = 0\n",
    "    pair = pair.split(',')\n",
    "    s1,e1 = map(int,pair[0].split('-'))\n",
    "    s2,e2 = map(int,pair[1].split('-'))\n",
    "    \n",
    "    if s1<=e2 and e1>=s2:\n",
    "        add += 1\n",
    "    elif s2<=e1 and e2>=s1:\n",
    "        add += 1\n",
    "    overlap += add\n",
    "overlap"
   ]
  },
  {
   "cell_type": "code",
   "execution_count": null,
   "metadata": {},
   "outputs": [],
   "source": []
  }
 ],
 "metadata": {
  "kernelspec": {
   "display_name": "Python 3",
   "language": "python",
   "name": "python3"
  },
  "language_info": {
   "codemirror_mode": {
    "name": "ipython",
    "version": 3
   },
   "file_extension": ".py",
   "mimetype": "text/x-python",
   "name": "python",
   "nbconvert_exporter": "python",
   "pygments_lexer": "ipython3",
   "version": "3.8.5"
  }
 },
 "nbformat": 4,
 "nbformat_minor": 4
}
