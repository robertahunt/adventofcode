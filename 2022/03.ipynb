{
 "cells": [
  {
   "cell_type": "code",
   "execution_count": 4,
   "metadata": {},
   "outputs": [],
   "source": [
    "import os\n",
    "import re\n",
    "import aocd\n",
    "import string\n",
    "import numpy as np\n",
    "import pandas as pd\n",
    "from aocd import submit\n",
    "\n",
    "data = aocd.get_data(day=3, year=2022).split('\\n')"
   ]
  },
  {
   "cell_type": "code",
   "execution_count": 12,
   "metadata": {},
   "outputs": [
    {
     "data": {
      "text/plain": [
       "7766"
      ]
     },
     "execution_count": 12,
     "metadata": {},
     "output_type": "execute_result"
    }
   ],
   "source": [
    "priority_dict = {l:n for l, n in zip(string.ascii_letters, range(1,1+len(string.ascii_letters)))}\n",
    "tot = 0\n",
    "for line in data:\n",
    "    l = len(line)\n",
    "    com1, com2 = line[:l//2],line[l//2:]\n",
    "    shared = [x for x in com1 if x in com2][0]\n",
    "    tot += priority_dict[shared]\n",
    "tot"
   ]
  },
  {
   "cell_type": "code",
   "execution_count": 23,
   "metadata": {},
   "outputs": [
    {
     "data": {
      "text/plain": [
       "2415"
      ]
     },
     "execution_count": 23,
     "metadata": {},
     "output_type": "execute_result"
    }
   ],
   "source": [
    "priority_dict = {l:n for l, n in zip(string.ascii_letters, range(1,1+len(string.ascii_letters)))}\n",
    "tot = 0\n",
    "for group in np.reshape(data,(100,3)):\n",
    "    l1,l2,l3 = group\n",
    "    shared = [x for x in l1 if x in l2]\n",
    "    shared = [x for x in shared if x in l3][0]\n",
    "    tot += priority_dict[shared]\n",
    "tot"
   ]
  },
  {
   "cell_type": "code",
   "execution_count": null,
   "metadata": {},
   "outputs": [],
   "source": []
  }
 ],
 "metadata": {
  "kernelspec": {
   "display_name": "Python 3",
   "language": "python",
   "name": "python3"
  },
  "language_info": {
   "codemirror_mode": {
    "name": "ipython",
    "version": 3
   },
   "file_extension": ".py",
   "mimetype": "text/x-python",
   "name": "python",
   "nbconvert_exporter": "python",
   "pygments_lexer": "ipython3",
   "version": "3.8.5"
  }
 },
 "nbformat": 4,
 "nbformat_minor": 4
}
