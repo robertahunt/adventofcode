{
 "cells": [
  {
   "cell_type": "code",
   "execution_count": 1,
   "metadata": {},
   "outputs": [],
   "source": [
    "from aocd import data, submit\n",
    "from aocd.get import get_data\n",
    "import numpy as np\n",
    "import pandas as pd\n",
    "import re\n",
    "from tqdm import tqdm"
   ]
  },
  {
   "cell_type": "code",
   "execution_count": 2,
   "metadata": {},
   "outputs": [
    {
     "data": {
      "text/plain": [
       "[8, 11, 0, 19, 1, 2]"
      ]
     },
     "execution_count": 2,
     "metadata": {},
     "output_type": "execute_result"
    }
   ],
   "source": [
    "#Part 1\n",
    "data = get_data(day=15, year=2020).split(',')\n",
    "#data = '0,3,6'.split(',')\n",
    "data = [int(x) for x in data]\n",
    "data"
   ]
  },
  {
   "cell_type": "code",
   "execution_count": 56,
   "metadata": {},
   "outputs": [
    {
     "name": "stderr",
     "output_type": "stream",
     "text": [
      "100%|██████████| 2020/2020 [00:00<00:00, 75674.30it/s]\n"
     ]
    },
    {
     "data": {
      "text/plain": [
       "array([  8.,  11.,   0., ...,  29., 387., 447.])"
      ]
     },
     "execution_count": 56,
     "metadata": {},
     "output_type": "execute_result"
    }
   ],
   "source": [
    "spoken = np.array([np.nan]*2020)\n",
    "for i in tqdm(range(2020)):\n",
    "    if i <= len(data)-1:\n",
    "        spoken[i] = data[i]\n",
    "    else:\n",
    "        prev = spoken[i-1]\n",
    "        \n",
    "        last_spoken = np.where(spoken == prev)[0]\n",
    "        if len(last_spoken):\n",
    "            if len(last_spoken) == 1:\n",
    "                spoken[i] = 0\n",
    "                continue\n",
    "            else:\n",
    "                spoken[i] = last_spoken[-1] - last_spoken[-2]\n",
    "        else:\n",
    "            spoken[i] = 0\n",
    "        \n",
    "\n",
    "spoken"
   ]
  },
  {
   "cell_type": "code",
   "execution_count": 57,
   "metadata": {},
   "outputs": [
    {
     "name": "stderr",
     "output_type": "stream",
     "text": [
      "100%|██████████| 30000000/30000000 [00:56<00:00, 535425.29it/s]\n"
     ]
    }
   ],
   "source": [
    "#Part 2\n",
    "\n",
    "spoken = {}\n",
    "for i in tqdm(range(30000000)):\n",
    "    if i <= len(data)-1:\n",
    "        spoken[data[i]] = [i]\n",
    "        prev = data[i]\n",
    "    else:\n",
    "        last_spoken = spoken.get(prev,[])\n",
    "        if len(last_spoken) == 0:\n",
    "            spoken_now = 0\n",
    "            spoken[spoken_now] = (spoken.get(spoken_now,[]) + [i])[-2:]\n",
    "        if len(last_spoken) == 1:\n",
    "            spoken_now = 0\n",
    "            spoken[spoken_now] = (spoken.get(spoken_now,[]) + [i])[-2:]\n",
    "        else:\n",
    "            spoken_now = spoken[prev][-1] - spoken[prev][-2]\n",
    "            spoken[spoken_now] = (spoken.get(spoken_now,[]) + [i])[-2:]\n",
    "        prev = spoken_now"
   ]
  },
  {
   "cell_type": "code",
   "execution_count": 58,
   "metadata": {},
   "outputs": [
    {
     "data": {
      "text/plain": [
       "11721679"
      ]
     },
     "execution_count": 58,
     "metadata": {},
     "output_type": "execute_result"
    }
   ],
   "source": [
    "prev"
   ]
  },
  {
   "cell_type": "code",
   "execution_count": null,
   "metadata": {},
   "outputs": [],
   "source": []
  }
 ],
 "metadata": {
  "kernelspec": {
   "display_name": "Python 3",
   "language": "python",
   "name": "python3"
  },
  "language_info": {
   "codemirror_mode": {
    "name": "ipython",
    "version": 3
   },
   "file_extension": ".py",
   "mimetype": "text/x-python",
   "name": "python",
   "nbconvert_exporter": "python",
   "pygments_lexer": "ipython3",
   "version": "3.8.5"
  }
 },
 "nbformat": 4,
 "nbformat_minor": 4
}
