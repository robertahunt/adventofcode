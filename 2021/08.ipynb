{
 "cells": [
  {
   "cell_type": "code",
   "execution_count": 6,
   "metadata": {},
   "outputs": [
    {
     "data": {
      "text/plain": [
       "321"
      ]
     },
     "execution_count": 6,
     "metadata": {},
     "output_type": "execute_result"
    }
   ],
   "source": [
    "import os\n",
    "import re\n",
    "import aocd\n",
    "import numpy as np\n",
    "import pandas as pd\n",
    "from aocd import submit\n",
    "from tqdm import tqdm\n",
    "\n",
    "data = aocd.get_data(day=8, year=2021).split('\\n')\n",
    "test = \"\"\"acedgfb cdfbe gcdfa fbcad dab cefabd cdfgeb eafb cagedb ab | cdfeb fcadb cdfeb cdbaf\"\"\".split(',')\n",
    "#data = test\n",
    "#data = np.array([int(x) for x in data])\n",
    "data\n",
    "lengths = {1:2, 4:4, 7:3, 8:7}\n",
    "tot = 0\n",
    "for line in data:\n",
    "    inp, out = line.split('|')\n",
    "    out = out.strip().split(' ')\n",
    "    out = [len(x) for x in out]\n",
    "    tot += sum([1 for x in out if x in [2,4,3,7]])\n",
    "\n",
    "tot"
   ]
  },
  {
   "cell_type": "code",
   "execution_count": 68,
   "metadata": {},
   "outputs": [
    {
     "data": {
      "text/plain": [
       "1028926"
      ]
     },
     "execution_count": 68,
     "metadata": {},
     "output_type": "execute_result"
    }
   ],
   "source": [
    "from collections import Counter\n",
    "\n",
    "data = aocd.get_data(day=8, year=2021).split('\\n')\n",
    "test = \"\"\"acedgfb cdfbe gcdfa fbcad dab cefabd cdfgeb eafb cagedb ab | cdfeb fcadb cdfeb cdbaf\"\"\".split(',')\n",
    "#data = test\n",
    "#data = np.array([int(x) for x in data])\n",
    "data\n",
    "lengths = {1:2, 4:4, 7:3, 8:7}\n",
    "tot = 0\n",
    "for line in data:\n",
    "    inp, out = line.split('|')\n",
    "    out = out.strip().split(' ')\n",
    "    inp_counts = dict(Counter(inp.replace(' ','')))\n",
    "    inp = inp.strip().split(' ')\n",
    "    \n",
    "    #output loc to actual loc\n",
    "    location_map = {}\n",
    "    \n",
    "    broken_e = list(inp_counts.keys())[list(inp_counts.values()).index(4)]\n",
    "    location_map[broken_e] = 'e'\n",
    "    \n",
    "    broken_b = list(inp_counts.keys())[list(inp_counts.values()).index(6)]\n",
    "    location_map[broken_b] = 'b'\n",
    "    \n",
    "    broken_f = list(inp_counts.keys())[list(inp_counts.values()).index(9)]\n",
    "    location_map[broken_f] = 'f'\n",
    "    \n",
    "    #to find the others we need to include the number of letters\n",
    "    one = [x for x in inp if len(x)==2][0]\n",
    "    broken_c = one.replace(broken_f, '')\n",
    "    location_map[broken_c] = 'c'\n",
    "    \n",
    "    seven = [x for x in inp if len(x) == 3][0]\n",
    "    broken_a = seven.replace(broken_f,'').replace(broken_c,'')\n",
    "    location_map[broken_a] = 'a'\n",
    "    \n",
    "    four = [x for x in inp if len(x) == 4][0]\n",
    "    broken_d = four.replace(broken_f,'').replace(broken_c,'').replace(broken_b,'')\n",
    "    location_map[broken_d] = 'd'\n",
    "    \n",
    "    eight = [x for x in inp if len(x) == 7][0]\n",
    "    broken_g = eight.replace(broken_a,'').replace(broken_b,'').replace(broken_c,'').replace(broken_d,'').replace(broken_e,'').replace(broken_f,'')\n",
    "    location_map[broken_g] = 'g'\n",
    "    \n",
    "    output_nums = []\n",
    "    for o in out:\n",
    "        o = ''.join(sorted(list(map(lambda x: location_map[x],o))))\n",
    "        if o == 'abcefg':\n",
    "            output_nums += ['0']\n",
    "        elif o == 'cf':\n",
    "            output_nums += ['1']\n",
    "        elif o == 'acdeg':\n",
    "            output_nums += ['2']\n",
    "        elif o == 'acdfg':\n",
    "            output_nums += ['3']\n",
    "        elif o == 'bcdf':\n",
    "            output_nums += ['4']\n",
    "        elif o == 'abdfg':\n",
    "            output_nums += ['5']\n",
    "        elif o == 'abdefg':\n",
    "            output_nums += ['6']\n",
    "        elif o == 'acf':\n",
    "            output_nums += ['7']\n",
    "        elif o == 'abcdefg':\n",
    "            output_nums += ['8']\n",
    "        elif o == 'abcdfg':\n",
    "            output_nums += ['9']\n",
    "        else:\n",
    "            wtf\n",
    "    output_nums = int(''.join(output_nums))\n",
    "    tot += output_nums\n",
    "\n",
    "\n",
    "tot"
   ]
  },
  {
   "cell_type": "code",
   "execution_count": 49,
   "metadata": {},
   "outputs": [
    {
     "data": {
      "text/plain": [
       "array([0, 1])"
      ]
     },
     "execution_count": 49,
     "metadata": {},
     "output_type": "execute_result"
    }
   ],
   "source": [
    "np.where(np.array(list(inp_counts.values()))==8)[0]"
   ]
  },
  {
   "cell_type": "code",
   "execution_count": 45,
   "metadata": {},
   "outputs": [
    {
     "data": {
      "text/plain": [
       "array([[1., 0., 1., 1., 1.],\n",
       "       [1., 1., 1., 1., 0.],\n",
       "       [0., 0., 1., 1., 1.],\n",
       "       [1., 1., 0., 1., 1.],\n",
       "       [1., 1., 1., 1., 1.]])"
      ]
     },
     "execution_count": 45,
     "metadata": {},
     "output_type": "execute_result"
    }
   ],
   "source": [
    "called[board_num]#.sum(axis=1)"
   ]
  },
  {
   "cell_type": "code",
   "execution_count": null,
   "metadata": {},
   "outputs": [],
   "source": []
  }
 ],
 "metadata": {
  "kernelspec": {
   "display_name": "Python 3",
   "language": "python",
   "name": "python3"
  },
  "language_info": {
   "codemirror_mode": {
    "name": "ipython",
    "version": 3
   },
   "file_extension": ".py",
   "mimetype": "text/x-python",
   "name": "python",
   "nbconvert_exporter": "python",
   "pygments_lexer": "ipython3",
   "version": "3.8.5"
  }
 },
 "nbformat": 4,
 "nbformat_minor": 4
}
