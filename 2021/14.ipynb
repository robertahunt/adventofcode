{
 "cells": [
  {
   "cell_type": "code",
   "execution_count": 20,
   "metadata": {},
   "outputs": [],
   "source": [
    "import os\n",
    "import re\n",
    "import aocd\n",
    "import numpy as np\n",
    "import pandas as pd\n",
    "from aocd import submit\n",
    "from tqdm import tqdm\n",
    "from collections import Counter\n",
    "\n",
    "\n",
    "data = \"\"\"CBNBOKHVBONCPPBBCKVH\n",
    "\n",
    "FK -> O\n",
    "BK -> B\n",
    "PB -> N\n",
    "VS -> P\n",
    "OF -> H\n",
    "KP -> K\n",
    "PS -> K\n",
    "OV -> N\n",
    "FO -> H\n",
    "KN -> P\n",
    "HF -> K\n",
    "BV -> N\n",
    "OO -> B\n",
    "KC -> V\n",
    "CK -> H\n",
    "BC -> P\n",
    "VV -> S\n",
    "NS -> C\n",
    "SF -> O\n",
    "BN -> V\n",
    "NH -> N\n",
    "VP -> F\n",
    "KH -> S\n",
    "BO -> N\n",
    "VN -> K\n",
    "BB -> H\n",
    "CH -> H\n",
    "HP -> O\n",
    "KK -> O\n",
    "CB -> S\n",
    "VC -> P\n",
    "FH -> B\n",
    "SP -> C\n",
    "NF -> O\n",
    "HN -> N\n",
    "PO -> P\n",
    "PP -> C\n",
    "SO -> F\n",
    "FB -> B\n",
    "SB -> B\n",
    "SC -> B\n",
    "HK -> O\n",
    "BF -> V\n",
    "OB -> B\n",
    "NC -> V\n",
    "HC -> F\n",
    "KO -> C\n",
    "NV -> C\n",
    "HB -> H\n",
    "FP -> S\n",
    "OS -> O\n",
    "HH -> K\n",
    "OK -> B\n",
    "OH -> C\n",
    "NP -> V\n",
    "SN -> H\n",
    "SK -> B\n",
    "HV -> F\n",
    "VF -> P\n",
    "CP -> H\n",
    "FN -> H\n",
    "FV -> B\n",
    "CN -> H\n",
    "OC -> O\n",
    "KV -> P\n",
    "CF -> B\n",
    "OP -> B\n",
    "FC -> O\n",
    "PC -> B\n",
    "CV -> S\n",
    "PV -> H\n",
    "VK -> N\n",
    "SS -> C\n",
    "HO -> F\n",
    "VH -> C\n",
    "NB -> S\n",
    "NN -> F\n",
    "FF -> K\n",
    "CC -> H\n",
    "SV -> H\n",
    "CO -> K\n",
    "BP -> O\n",
    "SH -> H\n",
    "KS -> K\n",
    "FS -> F\n",
    "PF -> S\n",
    "BS -> H\n",
    "VO -> H\n",
    "NK -> F\n",
    "PK -> B\n",
    "KB -> K\n",
    "CS -> C\n",
    "VB -> V\n",
    "BH -> O\n",
    "KF -> N\n",
    "HS -> H\n",
    "PH -> K\n",
    "ON -> H\n",
    "PN -> K\n",
    "NO -> S\"\"\".split('\\n\\n')\n",
    "\n",
    "test = \"\"\"NNCB\n",
    "\n",
    "CH -> B\n",
    "HH -> N\n",
    "CB -> H\n",
    "NH -> C\n",
    "HB -> C\n",
    "HC -> B\n",
    "HN -> C\n",
    "NN -> C\n",
    "BH -> H\n",
    "NC -> B\n",
    "NB -> B\n",
    "BN -> B\n",
    "BB -> N\n",
    "BC -> B\n",
    "CC -> N\n",
    "CN -> C\"\"\".split('\\n\\n')\n",
    "#data = test"
   ]
  },
  {
   "cell_type": "code",
   "execution_count": 2,
   "metadata": {},
   "outputs": [
    {
     "name": "stderr",
     "output_type": "stream",
     "text": [
      "  0%|          | 0/40 [00:00<?, ?it/s]"
     ]
    },
    {
     "name": "stdout",
     "output_type": "stream",
     "text": [
      "4\n",
      "Counter({'N': 2, 'C': 1, 'B': 1})\n",
      "NCNBCHB NCNBCHB\n"
     ]
    },
    {
     "name": "stderr",
     "output_type": "stream",
     "text": [
      "\n"
     ]
    },
    {
     "data": {
      "text/plain": [
       "Counter({'N': 2, 'C': 2, 'B': 2, 'H': 1})"
      ]
     },
     "execution_count": 2,
     "metadata": {},
     "output_type": "execute_result"
    }
   ],
   "source": [
    "prev, rules = data\n",
    "rules = rules.split('\\n')\n",
    "rules = [x.split(' -> ') for x in rules]\n",
    "rules = {k:v for k,v in rules}\n",
    "prev, rules\n",
    "n_steps = 10\n",
    "for i in tqdm(range(1,n_steps+1)):\n",
    "    print(len(prev))\n",
    "    counts = Counter(prev)\n",
    "    print(counts)\n",
    "    new = ''\n",
    "    for j in range(len(prev)-1):\n",
    "        pair = prev[j:j+2]\n",
    "        if pair in rules.keys():\n",
    "            new += prev[j] + rules[pair]\n",
    "            \n",
    "        if j == (len(prev)-2):\n",
    "            new += prev[-1]\n",
    "    prev = new\n",
    "    #print(prev, new)\n",
    "\n",
    "counts = Counter(prev)\n",
    "counts"
   ]
  },
  {
   "cell_type": "code",
   "execution_count": 21,
   "metadata": {},
   "outputs": [
    {
     "data": {
      "text/plain": [
       "({'FK': ['FO', 'OK'],\n",
       "  'BK': ['BB', 'BK'],\n",
       "  'PB': ['PN', 'NB'],\n",
       "  'VS': ['VP', 'PS'],\n",
       "  'OF': ['OH', 'HF'],\n",
       "  'KP': ['KK', 'KP'],\n",
       "  'PS': ['PK', 'KS'],\n",
       "  'OV': ['ON', 'NV'],\n",
       "  'FO': ['FH', 'HO'],\n",
       "  'KN': ['KP', 'PN'],\n",
       "  'HF': ['HK', 'KF'],\n",
       "  'BV': ['BN', 'NV'],\n",
       "  'OO': ['OB', 'BO'],\n",
       "  'KC': ['KV', 'VC'],\n",
       "  'CK': ['CH', 'HK'],\n",
       "  'BC': ['BP', 'PC'],\n",
       "  'VV': ['VS', 'SV'],\n",
       "  'NS': ['NC', 'CS'],\n",
       "  'SF': ['SO', 'OF'],\n",
       "  'BN': ['BV', 'VN'],\n",
       "  'NH': ['NN', 'NH'],\n",
       "  'VP': ['VF', 'FP'],\n",
       "  'KH': ['KS', 'SH'],\n",
       "  'BO': ['BN', 'NO'],\n",
       "  'VN': ['VK', 'KN'],\n",
       "  'BB': ['BH', 'HB'],\n",
       "  'CH': ['CH', 'HH'],\n",
       "  'HP': ['HO', 'OP'],\n",
       "  'KK': ['KO', 'OK'],\n",
       "  'CB': ['CS', 'SB'],\n",
       "  'VC': ['VP', 'PC'],\n",
       "  'FH': ['FB', 'BH'],\n",
       "  'SP': ['SC', 'CP'],\n",
       "  'NF': ['NO', 'OF'],\n",
       "  'HN': ['HN', 'NN'],\n",
       "  'PO': ['PP', 'PO'],\n",
       "  'PP': ['PC', 'CP'],\n",
       "  'SO': ['SF', 'FO'],\n",
       "  'FB': ['FB', 'BB'],\n",
       "  'SB': ['SB', 'BB'],\n",
       "  'SC': ['SB', 'BC'],\n",
       "  'HK': ['HO', 'OK'],\n",
       "  'BF': ['BV', 'VF'],\n",
       "  'OB': ['OB', 'BB'],\n",
       "  'NC': ['NV', 'VC'],\n",
       "  'HC': ['HF', 'FC'],\n",
       "  'KO': ['KC', 'CO'],\n",
       "  'NV': ['NC', 'CV'],\n",
       "  'HB': ['HH', 'HB'],\n",
       "  'FP': ['FS', 'SP'],\n",
       "  'OS': ['OO', 'OS'],\n",
       "  'HH': ['HK', 'KH'],\n",
       "  'OK': ['OB', 'BK'],\n",
       "  'OH': ['OC', 'CH'],\n",
       "  'NP': ['NV', 'VP'],\n",
       "  'SN': ['SH', 'HN'],\n",
       "  'SK': ['SB', 'BK'],\n",
       "  'HV': ['HF', 'FV'],\n",
       "  'VF': ['VP', 'PF'],\n",
       "  'CP': ['CH', 'HP'],\n",
       "  'FN': ['FH', 'HN'],\n",
       "  'FV': ['FB', 'BV'],\n",
       "  'CN': ['CH', 'HN'],\n",
       "  'OC': ['OO', 'OC'],\n",
       "  'KV': ['KP', 'PV'],\n",
       "  'CF': ['CB', 'BF'],\n",
       "  'OP': ['OB', 'BP'],\n",
       "  'FC': ['FO', 'OC'],\n",
       "  'PC': ['PB', 'BC'],\n",
       "  'CV': ['CS', 'SV'],\n",
       "  'PV': ['PH', 'HV'],\n",
       "  'VK': ['VN', 'NK'],\n",
       "  'SS': ['SC', 'CS'],\n",
       "  'HO': ['HF', 'FO'],\n",
       "  'VH': ['VC', 'CH'],\n",
       "  'NB': ['NS', 'SB'],\n",
       "  'NN': ['NF', 'FN'],\n",
       "  'FF': ['FK', 'KF'],\n",
       "  'CC': ['CH', 'HC'],\n",
       "  'SV': ['SH', 'HV'],\n",
       "  'CO': ['CK', 'KO'],\n",
       "  'BP': ['BO', 'OP'],\n",
       "  'SH': ['SH', 'HH'],\n",
       "  'KS': ['KK', 'KS'],\n",
       "  'FS': ['FF', 'FS'],\n",
       "  'PF': ['PS', 'SF'],\n",
       "  'BS': ['BH', 'HS'],\n",
       "  'VO': ['VH', 'HO'],\n",
       "  'NK': ['NF', 'FK'],\n",
       "  'PK': ['PB', 'BK'],\n",
       "  'KB': ['KK', 'KB'],\n",
       "  'CS': ['CC', 'CS'],\n",
       "  'VB': ['VV', 'VB'],\n",
       "  'BH': ['BO', 'OH'],\n",
       "  'KF': ['KN', 'NF'],\n",
       "  'HS': ['HH', 'HS'],\n",
       "  'PH': ['PK', 'KH'],\n",
       "  'ON': ['OH', 'HN'],\n",
       "  'PN': ['PK', 'KN'],\n",
       "  'NO': ['NS', 'SO']},\n",
       " 'CBNBOKHVBONCPPBBCKVH',\n",
       " Counter({'CB': 1,\n",
       "          'BN': 1,\n",
       "          'NB': 1,\n",
       "          'BO': 2,\n",
       "          'OK': 1,\n",
       "          'KH': 1,\n",
       "          'HV': 1,\n",
       "          'VB': 1,\n",
       "          'ON': 1,\n",
       "          'NC': 1,\n",
       "          'CP': 1,\n",
       "          'PP': 1,\n",
       "          'PB': 1,\n",
       "          'BB': 1,\n",
       "          'BC': 1,\n",
       "          'CK': 1,\n",
       "          'KV': 1,\n",
       "          'VH': 1}))"
      ]
     },
     "execution_count": 21,
     "metadata": {},
     "output_type": "execute_result"
    }
   ],
   "source": [
    "from copy import deepcopy\n",
    "#for each pair, we know which new pair will be created\n",
    "prev, rules = data\n",
    "rules = rules.split('\\n')\n",
    "rules = [x.split(' -> ') for x in rules]\n",
    "#rules = {k:v for k,v in rules}\n",
    "\n",
    "added_counts = []\n",
    "for x,mid in rules:\n",
    "    added_counts += [[x, [x[0]+mid,mid+x[1]]]]\n",
    "added_counts = {k:v for k,v in added_counts}\n",
    "added_counts, prev,Counter([prev[j:j+2] for j in range(len(prev)-1)])"
   ]
  },
  {
   "cell_type": "code",
   "execution_count": 22,
   "metadata": {},
   "outputs": [
    {
     "name": "stderr",
     "output_type": "stream",
     "text": [
      "100%|██████████| 40/40 [00:00<00:00, 4437.95it/s]\n"
     ]
    }
   ],
   "source": [
    "prev, rules\n",
    "n_steps = 40\n",
    "prev_counts = Counter([prev[j:j+2] for j in range(len(prev)-1)])\n",
    "for i in tqdm(range(1,n_steps+1)):\n",
    "    #print(i,prev_counts,'\\n')\n",
    "    new_counts = deepcopy(prev_counts)\n",
    "    for c in prev_counts:\n",
    "        #print('c',c)\n",
    "        if prev_counts[c] == 0:\n",
    "            #print('skipping, no values')\n",
    "            continue\n",
    "        additions = added_counts[c]\n",
    "            \n",
    "        for a in additions:\n",
    "            #print('a',a)\n",
    "            if new_counts.get(a,None) is None:\n",
    "                new_counts[a] = 0\n",
    "            new_counts[a] += prev_counts[c]\n",
    "        new_counts[c] -= prev_counts[c]\n",
    "    prev_counts = new_counts\n",
    "pair_counts = new_counts"
   ]
  },
  {
   "cell_type": "code",
   "execution_count": 31,
   "metadata": {},
   "outputs": [
    {
     "data": {
      "text/plain": [
       "Counter({'C': 1428517996063.0,\n",
       "         'B': 3703497099947.0,\n",
       "         'N': 1127204489569.0,\n",
       "         'O': 2921790654982.0,\n",
       "         'K': 3428002915512.0,\n",
       "         'H': 4439532321735.0,\n",
       "         'V': 679219618858.0,\n",
       "         'P': 750750900551.0,\n",
       "         'S': 1162667583469.0,\n",
       "         'F': 1249537347059.0})"
      ]
     },
     "execution_count": 31,
     "metadata": {},
     "output_type": "execute_result"
    }
   ],
   "source": [
    "indiv_counts = Counter()\n",
    "for pair in pair_counts:\n",
    "    #print(pair)\n",
    "    for indiv in pair:\n",
    "        if indiv_counts.get(indiv, None) is None:\n",
    "            indiv_counts[indiv] = 0\n",
    "        indiv_counts[indiv] += pair_counts[pair]\n",
    "indiv_counts[prev[0]] += 1\n",
    "indiv_counts[prev[-1]] += 1\n",
    "for indiv in indiv_counts:\n",
    "    indiv_counts[indiv] = indiv_counts[indiv]/2\n",
    "indiv_counts"
   ]
  },
  {
   "cell_type": "code",
   "execution_count": 32,
   "metadata": {},
   "outputs": [
    {
     "data": {
      "text/plain": [
       "3760312702877"
      ]
     },
     "execution_count": 32,
     "metadata": {},
     "output_type": "execute_result"
    }
   ],
   "source": [
    "4439532321735 - 679219618858"
   ]
  },
  {
   "cell_type": "code",
   "execution_count": 46,
   "metadata": {},
   "outputs": [
    {
     "data": {
      "text/plain": [
       "Counter({'CB': 2,\n",
       "         'BN': 1,\n",
       "         'NB': 1,\n",
       "         'BO': 2,\n",
       "         'OK': 1,\n",
       "         'KH': 1,\n",
       "         'HV': 1,\n",
       "         'VB': 1,\n",
       "         'ON': 1,\n",
       "         'NC': 1,\n",
       "         'CP': 1,\n",
       "         'PP': 1,\n",
       "         'PB': 1,\n",
       "         'BB': 1,\n",
       "         'BC': 1,\n",
       "         'CK': 1,\n",
       "         'KV': 1,\n",
       "         'VH': 1})"
      ]
     },
     "execution_count": 46,
     "metadata": {},
     "output_type": "execute_result"
    }
   ],
   "source": [
    "counts = Counter([prev[j:j+2] for j in range(len(prev)-1)])\n",
    "counts['CB'] += 1\n",
    "counts"
   ]
  },
  {
   "cell_type": "code",
   "execution_count": 47,
   "metadata": {},
   "outputs": [
    {
     "name": "stdout",
     "output_type": "stream",
     "text": [
      "CB\n",
      "BN\n",
      "NB\n",
      "BO\n",
      "OK\n",
      "KH\n",
      "HV\n",
      "VB\n",
      "ON\n",
      "NC\n",
      "CP\n",
      "PP\n",
      "PB\n",
      "BB\n",
      "BC\n",
      "CK\n",
      "KV\n",
      "VH\n"
     ]
    }
   ],
   "source": [
    "rules\n",
    "\n",
    "for c in counts:\n",
    "    print(c)"
   ]
  },
  {
   "cell_type": "code",
   "execution_count": null,
   "metadata": {},
   "outputs": [],
   "source": []
  }
 ],
 "metadata": {
  "kernelspec": {
   "display_name": "Python 3",
   "language": "python",
   "name": "python3"
  },
  "language_info": {
   "codemirror_mode": {
    "name": "ipython",
    "version": 3
   },
   "file_extension": ".py",
   "mimetype": "text/x-python",
   "name": "python",
   "nbconvert_exporter": "python",
   "pygments_lexer": "ipython3",
   "version": "3.8.5"
  }
 },
 "nbformat": 4,
 "nbformat_minor": 4
}
