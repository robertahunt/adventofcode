{
 "cells": [
  {
   "cell_type": "code",
   "execution_count": 39,
   "metadata": {},
   "outputs": [
    {
     "name": "stderr",
     "output_type": "stream",
     "text": [
      "  0%|          | 0/5 [00:00<?, ?it/s]\n",
      "100%|██████████| 80/80 [00:00<00:00, 3263.10it/s]\n",
      "\n",
      "100%|██████████| 80/80 [00:00<00:00, 5269.14it/s]\n",
      "\n",
      "100%|██████████| 80/80 [00:00<00:00, 5502.44it/s]\n",
      "\n",
      "100%|██████████| 80/80 [00:00<00:00, 5925.94it/s]\n",
      "\n",
      "100%|██████████| 80/80 [00:00<00:00, 6021.32it/s]\n",
      "100%|██████████| 5/5 [00:00<00:00, 51.31it/s]\n"
     ]
    },
    {
     "data": {
      "text/plain": [
       "353274"
      ]
     },
     "execution_count": 39,
     "metadata": {},
     "output_type": "execute_result"
    }
   ],
   "source": [
    "import os\n",
    "import re\n",
    "import aocd\n",
    "import numpy as np\n",
    "import pandas as pd\n",
    "from aocd import submit\n",
    "from tqdm import tqdm\n",
    "\n",
    "data = aocd.get_data(day=6, year=2021).split(',')\n",
    "test = \"\"\"3,4,3,1,2\"\"\".split(',')\n",
    "#data = test\n",
    "\n",
    "data = [int(x) for x in data]\n",
    "data = sorted(data)\n",
    "outcomes = {}\n",
    "n_days = 80\n",
    "for i in tqdm(range(1,6)):\n",
    "    cur = np.array([i])\n",
    "    for d in tqdm(range(n_days)):\n",
    "        #print('Day', d, cur)\n",
    "        cur -= 1\n",
    "        for j in range(len(cur)):\n",
    "            if cur[j] == -1:\n",
    "                cur = np.append(cur, [8])\n",
    "                cur[j] = 6\n",
    "    outcomes[i] = len(cur)\n",
    "\n",
    "\n",
    "\n",
    "outcomes, data\n",
    "outcomes, data\n",
    "\n",
    "sum([outcomes[x] for x in data])"
   ]
  },
  {
   "cell_type": "code",
   "execution_count": null,
   "metadata": {},
   "outputs": [],
   "source": []
  },
  {
   "cell_type": "code",
   "execution_count": 26,
   "metadata": {},
   "outputs": [
    {
     "name": "stderr",
     "output_type": "stream",
     "text": [
      "100%|██████████| 9/9 [00:00<00:00, 17573.90it/s]\n",
      "100%|██████████| 9/9 [00:00<00:00, 6501.68it/s]\n",
      "100%|██████████| 9/9 [00:00<00:00, 20.08it/s]\n"
     ]
    }
   ],
   "source": [
    "#part 2\n",
    "data = [int(x) for x in data]\n",
    "data = sorted(data)\n",
    "outcomes = {}\n",
    "n_days = 100\n",
    "for n_days in [1,10,100]:\n",
    "    outcomes[n_days] = {}\n",
    "    for i in tqdm(range(0,9)):\n",
    "        cur = np.array([i])\n",
    "        for d in range(n_days):\n",
    "            #print('Day', d, cur)\n",
    "            cur -= 1\n",
    "            for j in range(len(cur)):\n",
    "                if cur[j] == -1:\n",
    "                    cur = np.append(cur, [8])\n",
    "                    cur[j] = 6\n",
    "        outcomes[n_days][i] = cur\n",
    "\n",
    "\n"
   ]
  },
  {
   "cell_type": "code",
   "execution_count": 35,
   "metadata": {
    "scrolled": true
   },
   "outputs": [
    {
     "name": "stderr",
     "output_type": "stream",
     "text": [
      "  0%|          | 0/5 [00:00<?, ?it/s]\n",
      "  0%|          | 0/2 [00:00<?, ?it/s]\u001b[A\n",
      "\n",
      "100%|██████████| 157/157 [00:00<00:00, 2614.23it/s]\n",
      "\n",
      "\n",
      "  0%|          | 0/1017365 [00:00<?, ?it/s]\u001b[A\u001b[A\n",
      "\n",
      "  6%|▌         | 57736/1017365 [00:00<00:01, 577356.42it/s]\u001b[A\u001b[A"
     ]
    },
    {
     "name": "stdout",
     "output_type": "stream",
     "text": [
      "1017365\n"
     ]
    },
    {
     "name": "stderr",
     "output_type": "stream",
     "text": [
      "\n",
      "\n",
      " 12%|█▏        | 125965/1017365 [00:00<00:01, 605282.89it/s]\u001b[A\u001b[A\n",
      "\n",
      " 20%|██        | 204734/1017365 [00:00<00:01, 650469.36it/s]\u001b[A\u001b[A\n",
      "\n",
      " 29%|██▉       | 294249/1017365 [00:00<00:01, 708572.07it/s]\u001b[A\u001b[A\n",
      "\n",
      " 39%|███▉      | 395123/1017365 [00:00<00:00, 778026.38it/s]\u001b[A\u001b[A\n",
      "\n",
      " 50%|████▉     | 504864/1017365 [00:00<00:00, 852453.58it/s]\u001b[A\u001b[A\n",
      "\n",
      " 61%|██████    | 622261/1017365 [00:00<00:00, 928761.56it/s]\u001b[A\u001b[A\n",
      "\n",
      " 73%|███████▎  | 746366/1017365 [00:00<00:00, 1004596.34it/s]\u001b[A\u001b[A\n",
      "\n",
      " 86%|████████▋ | 879251/1017365 [00:00<00:00, 1083944.19it/s]\u001b[A\u001b[A\n",
      "\n",
      "100%|██████████| 1017365/1017365 [00:01<00:00, 1015567.91it/s]\u001b[A\u001b[A\n",
      " 50%|█████     | 1/2 [00:01<00:01,  1.07s/it]\n",
      " 20%|██        | 1/5 [00:01<00:04,  1.07s/it]\n",
      "  0%|          | 0/2 [00:00<?, ?it/s]\u001b[A\n",
      "\n",
      "100%|██████████| 156/156 [00:00<00:00, 2328.73it/s]\n",
      "\n",
      "\n",
      "  0%|          | 0/936784 [00:00<?, ?it/s]\u001b[A\u001b[A\n",
      "\n",
      "  6%|▌         | 55404/936784 [00:00<00:01, 554032.60it/s]\u001b[A\u001b[A"
     ]
    },
    {
     "name": "stdout",
     "output_type": "stream",
     "text": [
      "936784\n"
     ]
    },
    {
     "name": "stderr",
     "output_type": "stream",
     "text": [
      "\n",
      "\n",
      " 13%|█▎        | 121676/936784 [00:00<00:01, 582700.56it/s]\u001b[A\u001b[A\n",
      "\n",
      " 21%|██▏       | 199580/936784 [00:00<00:01, 630356.81it/s]\u001b[A\u001b[A\n",
      "\n",
      " 31%|███       | 288816/936784 [00:00<00:00, 691242.72it/s]\u001b[A\u001b[A\n",
      "\n",
      " 41%|████▏     | 388037/936784 [00:00<00:00, 760440.34it/s]\u001b[A\u001b[A\n",
      "\n",
      " 53%|█████▎    | 495593/936784 [00:00<00:00, 833719.52it/s]\u001b[A\u001b[A\n",
      "\n",
      " 65%|██████▌   | 612992/936784 [00:00<00:00, 913113.30it/s]\u001b[A\u001b[A\n",
      "\n",
      " 79%|███████▊  | 736541/936784 [00:00<00:00, 990659.88it/s]\u001b[A\u001b[A\n",
      "\n",
      "100%|██████████| 936784/936784 [00:00<00:00, 1002391.43it/s]\u001b[A\u001b[A\n",
      " 50%|█████     | 1/2 [00:01<00:01,  1.01s/it]\n",
      " 40%|████      | 2/5 [00:02<00:03,  1.05s/it]\n",
      "  0%|          | 0/2 [00:00<?, ?it/s]\u001b[A\n",
      "\n",
      "100%|██████████| 135/135 [00:00<00:00, 3625.64it/s]\n",
      "\n",
      "\n",
      "  0%|          | 0/843075 [00:00<?, ?it/s]\u001b[A\u001b[A\n",
      "\n",
      "  7%|▋         | 57827/843075 [00:00<00:01, 578269.17it/s]\u001b[A\u001b[A"
     ]
    },
    {
     "name": "stdout",
     "output_type": "stream",
     "text": [
      "843075\n"
     ]
    },
    {
     "name": "stderr",
     "output_type": "stream",
     "text": [
      "\n",
      "\n",
      " 15%|█▍        | 126331/843075 [00:00<00:01, 606633.31it/s]\u001b[A\u001b[A\n",
      "\n",
      " 25%|██▍       | 206603/843075 [00:00<00:00, 654603.58it/s]\u001b[A\u001b[A\n",
      "\n",
      " 35%|███▌      | 297150/843075 [00:00<00:00, 713942.63it/s]\u001b[A\u001b[A\n",
      "\n",
      " 47%|████▋     | 396900/843075 [00:00<00:00, 780502.35it/s]\u001b[A\u001b[A\n",
      "\n",
      " 60%|██████    | 507009/843075 [00:00<00:00, 855200.37it/s]\u001b[A\u001b[A\n",
      "\n",
      " 74%|███████▍  | 625770/843075 [00:00<00:00, 933591.25it/s]\u001b[A\u001b[A\n",
      "\n",
      "100%|██████████| 843075/843075 [00:00<00:00, 999635.56it/s] \u001b[A\u001b[A\n",
      " 50%|█████     | 1/2 [00:00<00:00,  1.13it/s]\n",
      " 60%|██████    | 3/5 [00:02<00:02,  1.01s/it]\n",
      "  0%|          | 0/2 [00:00<?, ?it/s]\u001b[A\n",
      "\n",
      "100%|██████████| 129/129 [00:00<00:00, 3244.52it/s]\n",
      "\n",
      "\n",
      "  0%|          | 0/795747 [00:00<?, ?it/s]\u001b[A\u001b[A\n",
      "\n",
      "  7%|▋         | 57742/795747 [00:00<00:01, 577413.67it/s]\u001b[A\u001b[A"
     ]
    },
    {
     "name": "stdout",
     "output_type": "stream",
     "text": [
      "795747\n"
     ]
    },
    {
     "name": "stderr",
     "output_type": "stream",
     "text": [
      "\n",
      "\n",
      " 16%|█▌        | 127795/795747 [00:00<00:01, 609551.21it/s]\u001b[A\u001b[A\n",
      "\n",
      " 26%|██▋       | 209100/795747 [00:00<00:00, 659035.02it/s]\u001b[A\u001b[A\n",
      "\n",
      " 38%|███▊      | 300876/795747 [00:00<00:00, 719919.65it/s]\u001b[A\u001b[A\n",
      "\n",
      " 51%|█████     | 402826/795747 [00:00<00:00, 789518.70it/s]\u001b[A\u001b[A\n",
      "\n",
      " 65%|██████▍   | 513318/795747 [00:00<00:00, 863459.46it/s]\u001b[A\u001b[A\n",
      "\n",
      " 79%|███████▉  | 631937/795747 [00:00<00:00, 940200.15it/s]\u001b[A\u001b[A\n",
      "\n",
      "100%|██████████| 795747/795747 [00:00<00:00, 970948.06it/s] \u001b[A\u001b[A\n",
      " 50%|█████     | 1/2 [00:00<00:00,  1.16it/s]\n",
      " 80%|████████  | 4/5 [00:03<00:00,  1.04it/s]\n",
      "  0%|          | 0/2 [00:00<?, ?it/s]\u001b[A\n",
      "\n",
      "100%|██████████| 122/122 [00:00<00:00, 3908.95it/s]\n",
      "\n",
      "\n",
      "  0%|          | 0/703142 [00:00<?, ?it/s]\u001b[A\u001b[A\n",
      "\n",
      "  8%|▊         | 57478/703142 [00:00<00:01, 574772.33it/s]\u001b[A\u001b[A"
     ]
    },
    {
     "name": "stdout",
     "output_type": "stream",
     "text": [
      "703142\n"
     ]
    },
    {
     "name": "stderr",
     "output_type": "stream",
     "text": [
      "\n",
      "\n",
      " 18%|█▊        | 126824/703142 [00:00<00:00, 605881.25it/s]\u001b[A\u001b[A\n",
      "\n",
      " 30%|██▉       | 207457/703142 [00:00<00:00, 654706.44it/s]\u001b[A\u001b[A\n",
      "\n",
      " 42%|████▏     | 298049/703142 [00:00<00:00, 714113.00it/s]\u001b[A\u001b[A\n",
      "\n",
      " 57%|█████▋    | 399301/703142 [00:00<00:00, 783372.38it/s]\u001b[A\u001b[A\n",
      "\n",
      " 72%|███████▏  | 509219/703142 [00:00<00:00, 857261.72it/s]\u001b[A\u001b[A\n",
      "\n",
      "100%|██████████| 703142/703142 [00:00<00:00, 952227.78it/s]\u001b[A\u001b[A\n",
      " 50%|█████     | 1/2 [00:00<00:00,  1.29it/s]\n",
      "100%|██████████| 5/5 [00:04<00:00,  1.08it/s]\n"
     ]
    }
   ],
   "source": [
    "out = {}\n",
    "n_days = 256\n",
    "n_h = n_days // 100\n",
    "n_t = (n_days-n_h*100) // 10\n",
    "n_d = (n_days - n_h*100 - n_t*10) // 1 \n",
    "n_h, n_t, n_d\n",
    "\n",
    "for i in tqdm(range(1,6)):\n",
    "    \n",
    "    l = 0\n",
    "    cur = np.array([i])\n",
    "    for d in range(n_d):\n",
    "        new_cur = np.array([])\n",
    "        for c in cur:\n",
    "            o = outcomes[1][c]\n",
    "            new_cur = np.append(new_cur,o)\n",
    "        cur = new_cur\n",
    "    for t in range(n_t):\n",
    "        new_cur = np.array([])\n",
    "        for c in cur:\n",
    "            o = outcomes[10][c]\n",
    "            new_cur = np.append(new_cur,o)\n",
    "        cur = new_cur\n",
    "    for h in tqdm(range(n_h)):\n",
    "        new_cur = np.array([])\n",
    "        if h == 1:\n",
    "            for c in tqdm(cur):\n",
    "                l += len(outcomes[100][c]) \n",
    "            break\n",
    "        for c in tqdm(cur):\n",
    "            o = outcomes[100][c]\n",
    "            new_cur = np.append(new_cur,o)\n",
    "        cur = new_cur\n",
    "        print(len(cur))\n",
    "    if n_days > 100:\n",
    "        out[i] = l\n",
    "    else:\n",
    "        out[i] = len(cur)\n",
    "        \n",
    "#sum([out[x] for x in data])"
   ]
  },
  {
   "cell_type": "code",
   "execution_count": 40,
   "metadata": {},
   "outputs": [
    {
     "data": {
      "text/plain": [
       "1609314870967"
      ]
     },
     "execution_count": 40,
     "metadata": {},
     "output_type": "execute_result"
    }
   ],
   "source": [
    "sum([out[x] for x in data])"
   ]
  },
  {
   "cell_type": "code",
   "execution_count": 38,
   "metadata": {},
   "outputs": [
    {
     "data": {
      "text/plain": [
       "[1, 2, 3, 3, 4]"
      ]
     },
     "execution_count": 38,
     "metadata": {},
     "output_type": "execute_result"
    }
   ],
   "source": [
    "data"
   ]
  },
  {
   "cell_type": "code",
   "execution_count": null,
   "metadata": {},
   "outputs": [],
   "source": []
  }
 ],
 "metadata": {
  "kernelspec": {
   "display_name": "Python 3",
   "language": "python",
   "name": "python3"
  },
  "language_info": {
   "codemirror_mode": {
    "name": "ipython",
    "version": 3
   },
   "file_extension": ".py",
   "mimetype": "text/x-python",
   "name": "python",
   "nbconvert_exporter": "python",
   "pygments_lexer": "ipython3",
   "version": "3.8.5"
  }
 },
 "nbformat": 4,
 "nbformat_minor": 4
}
