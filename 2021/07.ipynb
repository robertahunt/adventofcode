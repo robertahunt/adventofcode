{
 "cells": [
  {
   "cell_type": "code",
   "execution_count": 42,
   "metadata": {},
   "outputs": [
    {
     "name": "stderr",
     "output_type": "stream",
     "text": [
      "100%|██████████| 1953/1953 [02:03<00:00, 15.83it/s]\n"
     ]
    },
    {
     "data": {
      "text/plain": [
       "91257582"
      ]
     },
     "execution_count": 42,
     "metadata": {},
     "output_type": "execute_result"
    }
   ],
   "source": [
    "import os\n",
    "import re\n",
    "import aocd\n",
    "import numpy as np\n",
    "import pandas as pd\n",
    "from aocd import submit\n",
    "from tqdm import tqdm\n",
    "\n",
    "data = aocd.get_data(day=7, year=2021).split(',')\n",
    "test = \"\"\"16,1,2,0,4,2,7,1,2,14\"\"\".split(',')\n",
    "#data = test\n",
    "data = np.array([int(x) for x in data])\n",
    "sums = []\n",
    "for i in tqdm(range(0,max(data)+1)):\n",
    "    tmp = np.abs(np.array(data)-i)\n",
    "    tmp = np.sum(np.sum([np.sum(range(1, j+1)) for j in tmp]))\n",
    "    sums += [tmp]\n",
    "min(sums)"
   ]
  },
  {
   "cell_type": "code",
   "execution_count": 28,
   "metadata": {},
   "outputs": [
    {
     "data": {
      "text/plain": [
       "[[1, 2, 3, 4, 5, 6, 7, 8, 9, 10, 11, 12, 13, 14, 15, 16],\n",
       " [1],\n",
       " [1, 2],\n",
       " [],\n",
       " [1, 2, 3, 4],\n",
       " [1, 2],\n",
       " [1, 2, 3, 4, 5, 6, 7],\n",
       " [1],\n",
       " [1, 2],\n",
       " [1, 2, 3, 4, 5, 6, 7, 8, 9, 10, 11, 12, 13, 14]]"
      ]
     },
     "execution_count": 28,
     "metadata": {},
     "output_type": "execute_result"
    }
   ],
   "source": []
  },
  {
   "cell_type": "code",
   "execution_count": 57,
   "metadata": {},
   "outputs": [
    {
     "data": {
      "text/plain": [
       "[]"
      ]
     },
     "execution_count": 57,
     "metadata": {},
     "output_type": "execute_result"
    }
   ],
   "source": [
    "list(np.arange(8,0))"
   ]
  },
  {
   "cell_type": "code",
   "execution_count": 45,
   "metadata": {},
   "outputs": [
    {
     "data": {
      "text/plain": [
       "array([[1., 0., 1., 1., 1.],\n",
       "       [1., 1., 1., 1., 0.],\n",
       "       [0., 0., 1., 1., 1.],\n",
       "       [1., 1., 0., 1., 1.],\n",
       "       [1., 1., 1., 1., 1.]])"
      ]
     },
     "execution_count": 45,
     "metadata": {},
     "output_type": "execute_result"
    }
   ],
   "source": [
    "called[board_num]#.sum(axis=1)"
   ]
  },
  {
   "cell_type": "code",
   "execution_count": null,
   "metadata": {},
   "outputs": [],
   "source": []
  }
 ],
 "metadata": {
  "kernelspec": {
   "display_name": "Python 3",
   "language": "python",
   "name": "python3"
  },
  "language_info": {
   "codemirror_mode": {
    "name": "ipython",
    "version": 3
   },
   "file_extension": ".py",
   "mimetype": "text/x-python",
   "name": "python",
   "nbconvert_exporter": "python",
   "pygments_lexer": "ipython3",
   "version": "3.8.5"
  }
 },
 "nbformat": 4,
 "nbformat_minor": 4
}
