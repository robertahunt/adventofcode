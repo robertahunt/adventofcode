{
 "cells": [
  {
   "cell_type": "code",
   "execution_count": 35,
   "metadata": {},
   "outputs": [
    {
     "name": "stdout",
     "output_type": "stream",
     "text": [
      "Bingo! 2\n"
     ]
    },
    {
     "data": {
      "text/plain": [
       "25410.0"
      ]
     },
     "execution_count": 35,
     "metadata": {},
     "output_type": "execute_result"
    }
   ],
   "source": [
    "import os\n",
    "import re\n",
    "import aocd\n",
    "import numpy as np\n",
    "import pandas as pd\n",
    "from aocd import submit\n",
    "\n",
    "data = aocd.get_data(day=4, year=2021).split('\\n\\n')\n",
    "nums = data[0]\n",
    "nums = [int(x) for x in nums.split(',')]\n",
    "\n",
    "boards = data[1:]\n",
    "\n",
    "boards = [x.split('\\n') for x in boards]\n",
    "boards = [[x.strip().replace('  ',' ').split(' ') for x in board] for board in boards]\n",
    "#boards = [[[int(y) for y in x] for x in board] for board in boards]\n",
    "boards = np.array(boards).astype('uint8')\n",
    "called = np.zeros(boards.shape)\n",
    "\n",
    "nums, boards, boards.shape\n",
    "\n",
    "for num in nums:\n",
    "    called[np.where(boards==num)] = 1\n",
    "    if (called.sum(axis=1) == 5).any():\n",
    "        print('Bingo! 1')\n",
    "        break\n",
    "    if (called.sum(axis=2) == 5).any():\n",
    "        print('Bingo! 2')\n",
    "        \n",
    "        break\n",
    "np.where(called.sum(axis=2) ==5 )\n",
    "boards[53][np.where(called[53]==0)].sum()*num\n",
    "#called[53], num"
   ]
  },
  {
   "cell_type": "code",
   "execution_count": 51,
   "metadata": {},
   "outputs": [
    {
     "name": "stdout",
     "output_type": "stream",
     "text": [
      "Found Board!\n"
     ]
    },
    {
     "data": {
      "text/plain": [
       "2730.0"
      ]
     },
     "execution_count": 51,
     "metadata": {},
     "output_type": "execute_result"
    }
   ],
   "source": [
    "#part 2\n",
    "nums = data[0]\n",
    "nums = [int(x) for x in nums.split(',')]\n",
    "\n",
    "boards = data[1:]\n",
    "\n",
    "boards = [x.split('\\n') for x in boards]\n",
    "boards = [[x.strip().replace('  ',' ').split(' ') for x in board] for board in boards]\n",
    "#boards = [[[int(y) for y in x] for x in board] for board in boards]\n",
    "boards = np.array(boards).astype('uint8')\n",
    "called = np.zeros(boards.shape)\n",
    "\n",
    "nums, boards, boards.shape\n",
    "\n",
    "boards_left = list(range(100))\n",
    "\n",
    "for num in nums:\n",
    "    called[np.where(boards==num)] = 1\n",
    "    for board_num in range(100):\n",
    "        if (called[board_num].sum(axis=0) == 5).any() or (called[board_num].sum(axis=1) == 5).any():\n",
    "            boards_left = [x for x in boards_left if x!= board_num]\n",
    "            \n",
    "    if len(boards_left) == 1:\n",
    "        print('Found Board!', board_num)\n",
    "        break\n",
    "    if len(boards_left) == 0:\n",
    "        print('Found Board!')\n",
    "        break\n",
    "boards_left\n",
    "#np.where(called.sum(axis=2) ==5 )\n",
    "boards[40][np.where(called[40]==0)].sum()*num\n",
    "#*boards[board_num]#.sum(axis=0)"
   ]
  },
  {
   "cell_type": "code",
   "execution_count": 50,
   "metadata": {},
   "outputs": [
    {
     "data": {
      "text/plain": [
       "array([[0., 1., 1., 1., 1.],\n",
       "       [1., 1., 0., 1., 0.],\n",
       "       [1., 0., 1., 1., 1.],\n",
       "       [1., 1., 1., 0., 1.],\n",
       "       [1., 1., 0., 1., 1.]])"
      ]
     },
     "execution_count": 50,
     "metadata": {},
     "output_type": "execute_result"
    }
   ],
   "source": [
    "called[40]"
   ]
  },
  {
   "cell_type": "code",
   "execution_count": 45,
   "metadata": {},
   "outputs": [
    {
     "data": {
      "text/plain": [
       "array([[1., 0., 1., 1., 1.],\n",
       "       [1., 1., 1., 1., 0.],\n",
       "       [0., 0., 1., 1., 1.],\n",
       "       [1., 1., 0., 1., 1.],\n",
       "       [1., 1., 1., 1., 1.]])"
      ]
     },
     "execution_count": 45,
     "metadata": {},
     "output_type": "execute_result"
    }
   ],
   "source": [
    "called[board_num]#.sum(axis=1)"
   ]
  },
  {
   "cell_type": "code",
   "execution_count": null,
   "metadata": {},
   "outputs": [],
   "source": []
  }
 ],
 "metadata": {
  "kernelspec": {
   "display_name": "Python 3",
   "language": "python",
   "name": "python3"
  },
  "language_info": {
   "codemirror_mode": {
    "name": "ipython",
    "version": 3
   },
   "file_extension": ".py",
   "mimetype": "text/x-python",
   "name": "python",
   "nbconvert_exporter": "python",
   "pygments_lexer": "ipython3",
   "version": "3.8.5"
  }
 },
 "nbformat": 4,
 "nbformat_minor": 4
}
