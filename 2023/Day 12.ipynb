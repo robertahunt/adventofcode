{
 "cells": [
  {
   "cell_type": "code",
   "execution_count": 63,
   "metadata": {},
   "outputs": [],
   "source": [
    "import os\n",
    "import re\n",
    "import aocd\n",
    "import string\n",
    "import itertools\n",
    "import numpy as np\n",
    "import pandas as pd\n",
    "import matplotlib.pyplot as plt\n",
    "from tqdm import tqdm\n",
    "from copy import deepcopy\n",
    "from aocd import submit\n",
    "\n",
    "\n",
    "#Part 1\n",
    "data = aocd.get_data(day=12, year=2023).split('\\n')"
   ]
  },
  {
   "cell_type": "code",
   "execution_count": 64,
   "metadata": {},
   "outputs": [],
   "source": [
    "data = \"\"\"???.### 1,1,3\n",
    ".??..??...?##. 1,1,3\n",
    "?#?#?#?#?#?#?#? 1,3,1,6\n",
    "????.#...#... 4,1,1\n",
    "????.######..#####. 1,6,5\n",
    "?###???????? 3,2,1\"\"\".split('\\n')"
   ]
  },
  {
   "cell_type": "code",
   "execution_count": 65,
   "metadata": {},
   "outputs": [],
   "source": [
    "\n",
    "\n",
    "\n",
    "def is_hash_at(i, placement, contig_damaged, contig_damaged_cumsum):\n",
    "\n",
    "    end = np.array(placement) + contig_damaged_cumsum\n",
    "    start = end - contig_damaged\n",
    "    #print(start,end)\n",
    "    for j in range(len(end)):\n",
    "        if end[j] > i:\n",
    "            #print(i,end[j],start[j])\n",
    "            if start[j] <= i:\n",
    "                return True\n",
    "            else:\n",
    "                return False\n"
   ]
  },
  {
   "cell_type": "code",
   "execution_count": 16,
   "metadata": {},
   "outputs": [
    {
     "name": "stderr",
     "output_type": "stream",
     "text": [
      "  0%|          | 0/6 [00:00<?, ?it/s]"
     ]
    },
    {
     "name": "stdout",
     "output_type": "stream",
     "text": [
      "???.### 1,1,3\n",
      "1\n",
      "1\n"
     ]
    },
    {
     "name": "stderr",
     "output_type": "stream",
     "text": [
      "\n"
     ]
    },
    {
     "data": {
      "text/plain": [
       "1"
      ]
     },
     "execution_count": 16,
     "metadata": {},
     "output_type": "execute_result"
    }
   ],
   "source": [
    "# part 1\n",
    "\n",
    "_sum = 0\n",
    "for line in tqdm(data):\n",
    "    print(line)\n",
    "    condition, contig_damaged = line.split(' ')\n",
    "    #print('\\nLine:',condition, contig_damaged)\n",
    "    contig_damaged = contig_damaged.split(',')\n",
    "    contig_damaged = [int(x) for x in contig_damaged]\n",
    "        \n",
    "    # replace dots next to eachother with single dot.\n",
    "    condition = re.sub('\\.+', '.', condition)\n",
    "    condition = re.sub('^\\.+','',condition)\n",
    "    condition = re.sub('\\.+$','',condition)\n",
    "    \n",
    "    total = len(condition)\n",
    "    no_damaged = sum(contig_damaged)\n",
    "    no_undamaged = total - no_damaged\n",
    "    \n",
    "    no_known_damaged = len([x for x in condition if x == '#'])\n",
    "    \n",
    "    no_unknown_damaged = no_damaged - no_known_damaged\n",
    "    no_unknown = len([x for x in condition if x == '?'])\n",
    "    no_unknown_undamaged = no_unknown - no_unknown_damaged\n",
    "    \n",
    "    possible_placements = list(range(no_undamaged + 1))\n",
    "\n",
    "    possible_placements = list(itertools.combinations(possible_placements,len(contig_damaged)))\n",
    "    print(len(possible_placements))\n",
    "    contig_damaged_cumsum = np.cumsum(contig_damaged)\n",
    "    for i in range(len(condition)):\n",
    "        char = condition[i]\n",
    "        #print(char)\n",
    "        if char == '?':\n",
    "            pass\n",
    "        elif char == '.':\n",
    "            for placement in list(possible_placements):\n",
    "                if is_hash_at(i, placement, contig_damaged, contig_damaged_cumsum):\n",
    "                    possible_placements.remove(placement)\n",
    "        elif char == '#':\n",
    "            for placement in list(possible_placements):\n",
    "                #print(i, placement)\n",
    "                if not is_hash_at(i, placement, contig_damaged, contig_damaged_cumsum):\n",
    "                    #print('deleting...', placement)\n",
    "                    possible_placements.remove(placement)\n",
    "    \n",
    "    print(len(possible_placements))\n",
    "    _sum += len(possible_placements)\n",
    "    break\n",
    "_sum"
   ]
  },
  {
   "cell_type": "code",
   "execution_count": 67,
   "metadata": {},
   "outputs": [
    {
     "name": "stderr",
     "output_type": "stream",
     "text": [
      "  0%|          | 0/1000 [00:00<?, ?it/s]"
     ]
    },
    {
     "name": "stdout",
     "output_type": "stream",
     "text": [
      "\n",
      "Line ??#.????#???.#?# [1, 5, 1, 1, 1]\n",
      " Possible States:  ['._0', '#_0', '._1', '#_1', '#_2', '#_3', '#_4', '#_5', '._2', '#_6', '._3', '#_7', '._4', '#_8', '._5']\n",
      " Possible Transitions:  {'._0': ['._0', '#_0'], '#_0': ['._1'], '._1': ['._1', '#_1'], '#_1': ['#_2'], '#_2': ['#_3'], '#_3': ['#_4'], '#_4': ['#_5'], '#_5': ['._2'], '._2': ['._2', '#_6'], '#_6': ['._3'], '._3': ['._3', '#_7'], '#_7': ['._4'], '._4': ['._4', '#_8'], '#_8': ['._5'], '._5': ['._5']}\n",
      " End States:  ['._5', '#_8']\n",
      "Number possible ends 3\n"
     ]
    },
    {
     "name": "stderr",
     "output_type": "stream",
     "text": [
      "\n"
     ]
    },
    {
     "data": {
      "text/plain": [
       "3"
      ]
     },
     "execution_count": 67,
     "metadata": {},
     "output_type": "execute_result"
    }
   ],
   "source": [
    "# Part 2\n",
    "\n",
    "# based on https://github.com/clrfl/AdventOfCode2023/blob/master/12/explanation.ipynb\n",
    "\n",
    "data = aocd.get_data(day=12, year=2023).split('\\n')\n",
    "\n",
    "\n",
    "def move_forward(values, counts, possible_transitions):\n",
    "    new_counts = {key: 0 for key in counts}\n",
    "    for key in counts:\n",
    "        transitions = possible_transitions[key]\n",
    "        for t in transitions:\n",
    "            if t[0] in values:\n",
    "                new_counts[t] += counts[key]\n",
    "    return new_counts\n",
    "\n",
    "def transition_to_dot(counts, possible_transitions):\n",
    "    return move_forward(['.'], counts, possible_transitions)\n",
    "\n",
    "def transition_to_hash(counts, possible_transitions):\n",
    "    return move_forward(['#'], counts, possible_transitions)\n",
    "\n",
    "def transition_to_dot_or_hash(counts, possible_transitions):\n",
    "    return move_forward(['.','#'], counts, possible_transitions)\n",
    "\n",
    "_sum = 0\n",
    "for line in tqdm(data):\n",
    "    condition, contig_damaged = line.split(' ')\n",
    "    #print('\\nLine:',condition, contig_damaged)\n",
    "    contig_damaged = contig_damaged.split(',')\n",
    "    contig_damaged = [int(x) for x in contig_damaged]\n",
    "\n",
    "    \n",
    "    condition = ((condition + '?')*5)[:-1]\n",
    "    contig_damaged = contig_damaged*5\n",
    "    \n",
    "    possible_states = []\n",
    "    possible_transitions = {}\n",
    "    counts = {}\n",
    "    damaged_part_no = 0\n",
    "    no_damaged_groups = len(contig_damaged)\n",
    "    for group_i in range(no_damaged_groups):\n",
    "        possible_states += [f'._{group_i}']\n",
    "        possible_transitions[f'._{group_i}'] = [f'._{group_i}', f'#_{damaged_part_no}']\n",
    "        counts[f'._{group_i}'] = 0\n",
    "        \n",
    "        no_damaged_in_group_i = contig_damaged[group_i]\n",
    "        for k in range(no_damaged_in_group_i):\n",
    "            possible_states += [f'#_{damaged_part_no}']\n",
    "            \n",
    "            if k == no_damaged_in_group_i - 1:\n",
    "                possible_transitions[f'#_{damaged_part_no}'] = [f'._{group_i + 1}']\n",
    "            else:\n",
    "                possible_transitions[f'#_{damaged_part_no}'] = [f'#_{damaged_part_no + 1}']\n",
    "            \n",
    "            counts[f'#_{damaged_part_no}'] = 0\n",
    "            \n",
    "            damaged_part_no += 1\n",
    "    end_states = [f'._{group_i+1}', f'#_{damaged_part_no - 1}']\n",
    "    possible_states += [f'._{group_i+1}']\n",
    "    possible_transitions[f'._{group_i + 1}'] = [f'._{group_i +1 }']\n",
    "    counts[f'._{group_i + 1}'] = 0\n",
    "            \n",
    "\n",
    "    \n",
    "    \n",
    "    #print('\\nLine',condition, contig_damaged)\n",
    "    #print(' Possible States: ', possible_states)\n",
    "    #print(' Possible Transitions: ', possible_transitions)\n",
    "    #print(' End States: ', end_states)\n",
    "    \n",
    "    counts['._0'] = 1\n",
    "    l = 0\n",
    "    for char in condition:\n",
    "        if l == 10:\n",
    "            pass#break\n",
    "        l += 1\n",
    "        #print('\\nBefore: ',char, {k:v for k,v in counts.items() if v > 0})\n",
    "        if char == '?':\n",
    "            counts = transition_to_dot_or_hash(counts, possible_transitions)\n",
    "        elif char == '.':\n",
    "            counts = transition_to_dot(counts, possible_transitions)\n",
    "        else:\n",
    "            counts = transition_to_hash(counts, possible_transitions)\n",
    "        #print('After:    ',{k:v for k,v in counts.items() if v > 0})\n",
    "    no_possible_ends = sum([counts[end_state] for end_state in end_states])\n",
    "    _sum += no_possible_ends\n",
    "    print('Number possible ends', no_possible_ends)\n",
    "_sum"
   ]
  },
  {
   "cell_type": "code",
   "execution_count": null,
   "metadata": {},
   "outputs": [],
   "source": []
  }
 ],
 "metadata": {
  "kernelspec": {
   "display_name": "Python 3",
   "language": "python",
   "name": "python3"
  },
  "language_info": {
   "codemirror_mode": {
    "name": "ipython",
    "version": 3
   },
   "file_extension": ".py",
   "mimetype": "text/x-python",
   "name": "python",
   "nbconvert_exporter": "python",
   "pygments_lexer": "ipython3",
   "version": "3.8.5"
  }
 },
 "nbformat": 4,
 "nbformat_minor": 4
}
