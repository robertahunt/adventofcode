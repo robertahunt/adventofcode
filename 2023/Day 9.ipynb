{
 "cells": [
  {
   "cell_type": "code",
   "execution_count": 44,
   "metadata": {},
   "outputs": [],
   "source": [
    "import os\n",
    "import re\n",
    "import aocd\n",
    "import string\n",
    "import numpy as np\n",
    "import pandas as pd\n",
    "from tqdm import tqdm\n",
    "from copy import deepcopy\n",
    "from aocd import submit\n",
    "\n",
    "#Part 1\n",
    "\n",
    "data = aocd.get_data(day=9, year=2023).split('\\n')\n",
    "\n",
    "data = [x.split(' ') for x in data]\n"
   ]
  },
  {
   "cell_type": "code",
   "execution_count": 48,
   "metadata": {},
   "outputs": [
    {
     "name": "stderr",
     "output_type": "stream",
     "text": [
      "100%|██████████| 200/200 [00:00<00:00, 11311.35it/s]\n"
     ]
    },
    {
     "data": {
      "text/plain": [
       "966"
      ]
     },
     "execution_count": 48,
     "metadata": {},
     "output_type": "execute_result"
    }
   ],
   "source": [
    "total = 0\n",
    "for line in tqdm(data):\n",
    "    line = line[::-1] # part 2\n",
    "    heap = []\n",
    "\n",
    "    line = np.array([int(x) for x in line])\n",
    "    heap += [line]\n",
    "    while (line != 0).any():\n",
    "        line = line[1:] - line[:-1]\n",
    "        heap += [line]\n",
    "\n",
    "    pred = sum([x[-1] for x in heap])\n",
    "    total += pred\n",
    "total"
   ]
  },
  {
   "cell_type": "code",
   "execution_count": null,
   "metadata": {},
   "outputs": [],
   "source": []
  }
 ],
 "metadata": {
  "kernelspec": {
   "display_name": "Python 3",
   "language": "python",
   "name": "python3"
  },
  "language_info": {
   "codemirror_mode": {
    "name": "ipython",
    "version": 3
   },
   "file_extension": ".py",
   "mimetype": "text/x-python",
   "name": "python",
   "nbconvert_exporter": "python",
   "pygments_lexer": "ipython3",
   "version": "3.8.5"
  }
 },
 "nbformat": 4,
 "nbformat_minor": 4
}
