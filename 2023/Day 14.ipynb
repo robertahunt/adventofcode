{
 "cells": [
  {
   "cell_type": "code",
   "execution_count": 101,
   "metadata": {},
   "outputs": [],
   "source": [
    "import os\n",
    "import re\n",
    "import aocd\n",
    "import string\n",
    "import itertools\n",
    "import numpy as np\n",
    "import pandas as pd\n",
    "import seaborn as sns\n",
    "import matplotlib.pyplot as plt\n",
    "from tqdm import tqdm\n",
    "from copy import deepcopy\n",
    "from aocd import submit\n",
    "import pprint\n",
    "\n",
    "\n",
    "#Part 1\n",
    "data = aocd.get_data(day=14, year=2023).split('\\n')"
   ]
  },
  {
   "cell_type": "code",
   "execution_count": 99,
   "metadata": {},
   "outputs": [],
   "source": [
    "data = \"\"\"O....#....\n",
    "O.OO#....#\n",
    ".....##...\n",
    "OO.#O....O\n",
    ".O.....O#.\n",
    "O.#..O.#.#\n",
    "..O..#O..O\n",
    ".......O..\n",
    "#....###..\n",
    "#OO..#....\"\"\".split('\\n')"
   ]
  },
  {
   "cell_type": "code",
   "execution_count": 59,
   "metadata": {},
   "outputs": [
    {
     "data": {
      "text/plain": [
       "110779"
      ]
     },
     "execution_count": 59,
     "metadata": {},
     "output_type": "execute_result"
    }
   ],
   "source": [
    "_map = np.array([[x for x in y] for y in data])\n",
    "\n",
    "def roll_up(_map):\n",
    "    # work on each column seperately\n",
    "    for j in range(len(_map[0])):\n",
    "        col = ''.join(_map[:,j])\n",
    "        col = col.split('#')\n",
    "        new_col = []\n",
    "        for section in col:\n",
    "            new_col += [''.join(sorted(section, reverse=True))]\n",
    "        new_col = '#'.join(new_col)\n",
    "\n",
    "        _map[:,j] = [x for x in new_col]\n",
    "    return _map\n",
    "\n",
    "#part 1\n",
    "_map = roll_up(_map)\n",
    "\n",
    "row_val = np.arange(1, len(_map)+1)[::-1]\n",
    "row_val = np.tile(row_val,len(_map)).reshape(len(_map),len(_map)).T\n",
    "row_val[np.where(_map == 'O')].sum()"
   ]
  },
  {
   "cell_type": "code",
   "execution_count": 103,
   "metadata": {},
   "outputs": [
    {
     "data": {
      "text/plain": [
       "86069"
      ]
     },
     "execution_count": 103,
     "metadata": {},
     "output_type": "execute_result"
    }
   ],
   "source": [
    "# part 2\n",
    "def cycle_once(_map):\n",
    "    new_map = _map.copy()\n",
    "    for _ in range(4):\n",
    "        new_map = roll_up(new_map)\n",
    "        new_map = np.rot90(new_map, k=3)\n",
    "    return new_map\n",
    "\n",
    "def map_in_history(m, history):\n",
    "    for i  in range(len(history)):\n",
    "        h = history[i]\n",
    "        if (m == h).all():\n",
    "            return i\n",
    "    return None\n",
    "\n",
    "_map = np.array([[x for x in y] for y in data])\n",
    "_map\n",
    "\n",
    "row_val = np.arange(1, len(_map)+1)[::-1]\n",
    "row_val = np.tile(row_val,len(_map)).reshape(len(_map),len(_map)).T\n",
    "\n",
    "\n",
    "history = []\n",
    "while map_in_history(_map, history) is None:\n",
    "    history += [_map]\n",
    "    _map = cycle_once(_map)\n",
    "    \n",
    "cycle_start = map_in_history(_map, history)\n",
    "cycle_end = len(history)\n",
    "cycle_length = cycle_end - cycle_start\n",
    "\n",
    "no_cycles = 1_000_000_000 - cycle_start\n",
    "last_cycle = no_cycles % cycle_length\n",
    "row_val[np.where(history[cycle_start + last_cycle] == 'O')].sum()\n"
   ]
  },
  {
   "cell_type": "code",
   "execution_count": null,
   "metadata": {},
   "outputs": [],
   "source": []
  }
 ],
 "metadata": {
  "kernelspec": {
   "display_name": "Python 3",
   "language": "python",
   "name": "python3"
  },
  "language_info": {
   "codemirror_mode": {
    "name": "ipython",
    "version": 3
   },
   "file_extension": ".py",
   "mimetype": "text/x-python",
   "name": "python",
   "nbconvert_exporter": "python",
   "pygments_lexer": "ipython3",
   "version": "3.8.5"
  }
 },
 "nbformat": 4,
 "nbformat_minor": 4
}
