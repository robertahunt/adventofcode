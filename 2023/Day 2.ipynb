{
 "cells": [
  {
   "cell_type": "code",
   "execution_count": 1,
   "metadata": {},
   "outputs": [],
   "source": [
    "import os\n",
    "import re\n",
    "import aocd\n",
    "import string\n",
    "import numpy as np\n",
    "import pandas as pd\n",
    "from copy import deepcopy\n",
    "from aocd import submit\n",
    "\n",
    "\n",
    "data = aocd.get_data(day=2, year=2023).split('\\n')"
   ]
  },
  {
   "cell_type": "code",
   "execution_count": 21,
   "metadata": {},
   "outputs": [
    {
     "data": {
      "text/plain": [
       "(2449, 63981)"
      ]
     },
     "execution_count": 21,
     "metadata": {},
     "output_type": "execute_result"
    }
   ],
   "source": [
    "# Modified based on reddit solutions\n",
    "limit = {'green':13,'red':12,'blue':14}\n",
    "p1 = 0\n",
    "p2 = 0\n",
    "for line in data:\n",
    "    _id = int(line.split(':')[0].split(' ')[-1])\n",
    "    revealed = line.split(':')[-1].split(';')\n",
    "    possible = True\n",
    "    _min = {'green':0,'red':0,'blue':0}\n",
    "    for trial in revealed:\n",
    "        res = trial.split(',')\n",
    "        for r in res:\n",
    "            r = r.strip()\n",
    "            no, color = r.split(' ')\n",
    "            color = color.strip()\n",
    "            if int(no) > limit[color]:\n",
    "                possible = False\n",
    "                \n",
    "            if int(no) > _min[color]:\n",
    "                _min[color] = int(no)\n",
    "    if possible:\n",
    "         p1 += _id\n",
    "    power = _min['green']*_min['red']*_min['blue']\n",
    "    p2 += power\n",
    "p1, p2"
   ]
  },
  {
   "cell_type": "code",
   "execution_count": null,
   "metadata": {},
   "outputs": [],
   "source": []
  }
 ],
 "metadata": {
  "kernelspec": {
   "display_name": "Python 3",
   "language": "python",
   "name": "python3"
  },
  "language_info": {
   "codemirror_mode": {
    "name": "ipython",
    "version": 3
   },
   "file_extension": ".py",
   "mimetype": "text/x-python",
   "name": "python",
   "nbconvert_exporter": "python",
   "pygments_lexer": "ipython3",
   "version": "3.8.5"
  }
 },
 "nbformat": 4,
 "nbformat_minor": 4
}
