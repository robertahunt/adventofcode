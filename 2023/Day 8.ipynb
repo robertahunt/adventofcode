{
 "cells": [
  {
   "cell_type": "code",
   "execution_count": 74,
   "metadata": {},
   "outputs": [],
   "source": [
    "import os\n",
    "import re\n",
    "import aocd\n",
    "import string\n",
    "import numpy as np\n",
    "import pandas as pd\n",
    "from tqdm import tqdm\n",
    "from copy import deepcopy\n",
    "from aocd import submit\n",
    "\n",
    "#Part 1\n",
    "\n",
    "data = aocd.get_data(day=8, year=2023).split('\\n')\n",
    "\n",
    "\n",
    "directions = data[0]\n",
    "_map = {}\n",
    "for line in data[2:]:\n",
    "    start,lr  = line.split('=')\n",
    "    start = start.strip()\n",
    "    l,r = lr.strip().split(',')\n",
    "    l = l.replace('(','').replace(')','').strip()\n",
    "    r = r.replace('(','').replace(')','').strip()\n",
    "    \n",
    "    _map[start] = [l,r]\n",
    "_map\n",
    "\n",
    "pos = 'AAA'\n",
    "steps = 0\n",
    "while pos != 'ZZZ':\n",
    "    for d in directions:\n",
    "        if d == 'L':\n",
    "            new_pos = _map[pos][0]\n",
    "        else:\n",
    "            new_pos = _map[pos][1]\n",
    "        pos = new_pos\n",
    "        steps += 1\n",
    "        if pos == 'ZZZ':\n",
    "            print(steps)\n",
    "            done\n",
    "        pos"
   ]
  },
  {
   "cell_type": "code",
   "execution_count": 76,
   "metadata": {},
   "outputs": [
    {
     "name": "stdout",
     "output_type": "stream",
     "text": [
      "1 14363\n",
      "2 15989\n",
      "3 16531\n",
      "4 19241\n",
      "5 19783\n",
      "0 21409\n"
     ]
    },
    {
     "data": {
      "text/plain": [
       "21165830176709"
      ]
     },
     "execution_count": 76,
     "metadata": {},
     "output_type": "execute_result"
    }
   ],
   "source": [
    "# Part 2\n",
    "pos = [x for x in _map.keys() if x.endswith('A')]\n",
    "\n",
    "repeats = {}\n",
    "steps = 0\n",
    "last_of_pos = ''.join([x[2] for x in pos])\n",
    "while (last_of_pos != 'ZZZZZZ'):\n",
    "    for d in directions:\n",
    "        new_pos = []\n",
    "        if d == 'L':\n",
    "            for x in pos:\n",
    "                new_pos += [_map[x][0]]\n",
    "        else:\n",
    "            for x in pos:\n",
    "                new_pos += [_map[x][1]]\n",
    "        \n",
    "        for i in range(len(pos)):\n",
    "            if pos[i][-1] == 'Z':\n",
    "                if i not in repeats.keys():\n",
    "                    repeats[i] = steps\n",
    "                    print(i, steps)\n",
    "        pos = new_pos\n",
    "        steps += 1\n",
    "    if len(repeats.keys()) == 6:\n",
    "        break\n",
    "repeats = np.array([x for x in repeats.values()])\n",
    "\n",
    "primes = []\n",
    "for i in a:\n",
    "    primes += list(primefac.primefac(int(i)))\n",
    "np.product(np.unique(primes))"
   ]
  },
  {
   "cell_type": "code",
   "execution_count": 77,
   "metadata": {},
   "outputs": [
    {
     "data": {
      "text/plain": [
       "[53, 271, 59, 271, 61, 271, 71, 271, 73, 271, 79, 271]"
      ]
     },
     "execution_count": 77,
     "metadata": {},
     "output_type": "execute_result"
    }
   ],
   "source": [
    "primes"
   ]
  },
  {
   "cell_type": "code",
   "execution_count": 79,
   "metadata": {},
   "outputs": [
    {
     "data": {
      "text/plain": [
       "(21409, [79, 271])"
      ]
     },
     "execution_count": 79,
     "metadata": {},
     "output_type": "execute_result"
    }
   ],
   "source": [
    "i, list(primefac.primefac(int(i)))"
   ]
  },
  {
   "cell_type": "code",
   "execution_count": 80,
   "metadata": {},
   "outputs": [
    {
     "data": {
      "text/plain": [
       "21409"
      ]
     },
     "execution_count": 80,
     "metadata": {},
     "output_type": "execute_result"
    }
   ],
   "source": []
  },
  {
   "cell_type": "code",
   "execution_count": null,
   "metadata": {},
   "outputs": [],
   "source": []
  }
 ],
 "metadata": {
  "kernelspec": {
   "display_name": "Python 3",
   "language": "python",
   "name": "python3"
  },
  "language_info": {
   "codemirror_mode": {
    "name": "ipython",
    "version": 3
   },
   "file_extension": ".py",
   "mimetype": "text/x-python",
   "name": "python",
   "nbconvert_exporter": "python",
   "pygments_lexer": "ipython3",
   "version": "3.8.5"
  }
 },
 "nbformat": 4,
 "nbformat_minor": 4
}
