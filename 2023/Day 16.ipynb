{
 "cells": [
  {
   "cell_type": "code",
   "execution_count": 5,
   "metadata": {},
   "outputs": [],
   "source": [
    "import os\n",
    "import re\n",
    "import aocd\n",
    "import string\n",
    "import numpy as np\n",
    "import pandas as pd\n",
    "import seaborn as sns\n",
    "import matplotlib.pyplot as plt\n",
    "from tqdm import tqdm\n",
    "from copy import deepcopy\n",
    "from aocd import submit\n",
    "\n",
    "#Part 1\n",
    "rdata = aocd.get_data(day=16, year=2023).split('\\n')\n",
    "#with open('example_input.txt') as f:\n",
    "#    rdata = f.readlines()\n"
   ]
  },
  {
   "cell_type": "code",
   "execution_count": 6,
   "metadata": {},
   "outputs": [
    {
     "data": {
      "text/plain": [
       "array([['>', '.', '.', ..., '.', '.', '.'],\n",
       "       ['.', '/', '.', ..., '.', '.', '.'],\n",
       "       ['|', '.', '.', ..., '/', '.', '.'],\n",
       "       ...,\n",
       "       ['.', '.', '.', ..., '.', '.', '.'],\n",
       "       ['.', '.', '.', ..., '.', '.', '.'],\n",
       "       ['.', '.', '.', ..., '.', '.', '.']], dtype='<U1')"
      ]
     },
     "execution_count": 6,
     "metadata": {},
     "output_type": "execute_result"
    }
   ],
   "source": [
    "data = [line.strip() for line in rdata]\n",
    "data = [line.replace('\\\\','>') for line in data]\n",
    "data = np.array([[y for y in line] for line in data])\n",
    "data"
   ]
  },
  {
   "cell_type": "code",
   "execution_count": 40,
   "metadata": {},
   "outputs": [
    {
     "data": {
      "text/plain": [
       "7046"
      ]
     },
     "execution_count": 40,
     "metadata": {},
     "output_type": "execute_result"
    }
   ],
   "source": [
    "# keep track of each laser point and direction at each timestep\n",
    "# keep a boolean for if we have visited this position in this direction before...\n",
    "\n",
    "\n",
    "directions = dict(u = (-1,0),\n",
    "                    d = (1,0),\n",
    "                    r = (0,1),\n",
    "                    l = (0,-1))\n",
    "def add(a,b):\n",
    "    return tuple(sum(i) for i in zip(a,b))\n",
    "\n",
    "\n",
    "def go_left(pos, start_dir):\n",
    "    return add(pos, directions['l']), 'l'\n",
    "def go_right(pos, start_dir):\n",
    "    return add(pos, directions['r']), 'r'\n",
    "def go_up(pos, start_dir):\n",
    "    return add(pos, directions['u']), 'u'\n",
    "def go_down(pos, start_dir):\n",
    "    return add(pos, directions['d']), 'd'\n",
    "def no_change(pos, start_dir):\n",
    "    return add(pos, directions[start_dir]), start_dir\n",
    "\n",
    "def is_outside(grid, position):\n",
    "    if (position[0] < 0) or (position[1] < 0):\n",
    "        return True\n",
    "    if (position[0] >= grid.shape[0]) or (position[1] >= grid.shape[1]):\n",
    "        return True\n",
    "\n",
    "\n",
    "\n",
    "def get_no_energized(heads):\n",
    "    visited = dict(u = np.zeros_like(data, dtype=bool),\n",
    "                d = np.zeros_like(data, dtype=bool),\n",
    "                r = np.zeros_like(data, dtype=bool),\n",
    "                l = np.zeros_like(data, dtype=bool))\n",
    "    i = 0\n",
    "    while len(heads):\n",
    "        #print(i, heads)\n",
    "        position, start_direction = heads.pop()\n",
    "        if is_outside(data, position):\n",
    "            #outside map\n",
    "            continue\n",
    "\n",
    "        # if we have already been in this position and direction, drop head\n",
    "        if visited[start_direction][position]:\n",
    "            continue\n",
    "\n",
    "        obstacle = data[position]\n",
    "        if obstacle == '.':\n",
    "            new_position, new_direction = no_change(position, start_direction)\n",
    "            heads += [(new_position, new_direction)]\n",
    "        elif (obstacle == '-') & (start_direction in ['l','r']):\n",
    "            new_position, new_direction = no_change(position, start_direction)\n",
    "            heads += [(new_position, new_direction)]\n",
    "        elif (obstacle == '|') & (start_direction in ['u','d']):\n",
    "            new_position, new_direction = no_change(position, start_direction)\n",
    "            heads += [(new_position, new_direction)]\n",
    "        elif (obstacle == '-') & (start_direction in ['u','d']):\n",
    "            # split beam\n",
    "            new_position, new_direction = go_left(position, start_direction)\n",
    "            heads += [(new_position, new_direction)]\n",
    "            new_position, new_direction = go_right(position, start_direction)\n",
    "            heads += [(new_position, new_direction)]\n",
    "        elif (obstacle == '|') & (start_direction in ['l','r']):\n",
    "            # split beam\n",
    "            new_position, new_direction = go_up(position, start_direction)\n",
    "            heads += [(new_position, new_direction)]\n",
    "            new_position, new_direction = go_down(position, start_direction)\n",
    "            heads += [(new_position, new_direction)]\n",
    "        elif (obstacle == '/'):\n",
    "            if start_direction == 'u':\n",
    "                new_position, new_direction = go_right(position, start_direction)\n",
    "            elif start_direction == 'l':\n",
    "                new_position, new_direction = go_down(position, start_direction)\n",
    "            elif start_direction == 'r':\n",
    "                new_position, new_direction = go_up(position, start_direction)\n",
    "            elif start_direction == 'd':\n",
    "                new_position, new_direction = go_left(position, start_direction)\n",
    "            heads += [(new_position, new_direction)]\n",
    "        elif (obstacle == '>'): # \\\n",
    "            if start_direction == 'u':\n",
    "                new_position, new_direction = go_left(position, start_direction)\n",
    "            elif start_direction == 'l':\n",
    "                new_position, new_direction = go_up(position, start_direction)\n",
    "            elif start_direction == 'r':\n",
    "                new_position, new_direction = go_down(position, start_direction)\n",
    "            elif start_direction == 'd':\n",
    "                new_position, new_direction = go_right(position, start_direction)\n",
    "            heads += [(new_position, new_direction)]\n",
    "        else:\n",
    "            wtf\n",
    "\n",
    "\n",
    "        visited[start_direction][position] = True\n",
    "        i += 1\n",
    "    visited_full = visited['u'] | visited['d'] | visited['r'] | visited['l']\n",
    "    return visited_full.sum()\n",
    "position = (0,0)\n",
    "start_direction = \"r\"\n",
    "heads = [(position, start_direction)]\n",
    "get_no_energized(heads)"
   ]
  },
  {
   "cell_type": "code",
   "execution_count": 38,
   "metadata": {},
   "outputs": [
    {
     "name": "stderr",
     "output_type": "stream",
     "text": [
      "100%|██████████| 440/440 [00:07<00:00, 62.78it/s]\n"
     ]
    },
    {
     "data": {
      "text/plain": [
       "7313"
      ]
     },
     "execution_count": 38,
     "metadata": {},
     "output_type": "execute_result"
    }
   ],
   "source": [
    "#part 2\n",
    "import itertools \n",
    "\n",
    "def combine(rows, columns, direction):\n",
    "    combined = itertools.product(rows, columns)\n",
    "    combined = itertools.product(combined, np.array([direction]))\n",
    "    return list(combined)\n",
    "\n",
    "up_starts = combine(rows = np.array([0]),\n",
    "                    columns = np.arange(110),\n",
    "                    direction = 'd')\n",
    "down_starts = combine(rows = np.array([109]),\n",
    "                    columns = np.arange(110),\n",
    "                    direction = 'u')\n",
    "left_starts = combine(rows = np.arange(110),\n",
    "                    columns = np.array([0]),\n",
    "                    direction = 'r')\n",
    "right_starts = combine(rows = np.arange(110),\n",
    "                    columns = np.array([109]),\n",
    "                    direction = 'l')\n",
    "\n",
    "potential_starts = up_starts + down_starts + left_starts + right_starts\n",
    "potential_starts\n",
    "\n",
    "energized = []\n",
    "\n",
    "for start in tqdm(potential_starts):\n",
    "    heads = [start]\n",
    "    energized += [get_no_energized(heads)]\n",
    "max(energized)"
   ]
  },
  {
   "cell_type": "code",
   "execution_count": null,
   "metadata": {},
   "outputs": [],
   "source": []
  }
 ],
 "metadata": {
  "kernelspec": {
   "display_name": "Python 3",
   "language": "python",
   "name": "python3"
  },
  "language_info": {
   "codemirror_mode": {
    "name": "ipython",
    "version": 3
   },
   "file_extension": ".py",
   "mimetype": "text/x-python",
   "name": "python",
   "nbconvert_exporter": "python",
   "pygments_lexer": "ipython3",
   "version": "3.8.5"
  }
 },
 "nbformat": 4,
 "nbformat_minor": 4
}
