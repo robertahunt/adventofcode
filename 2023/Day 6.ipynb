{
 "cells": [
  {
   "cell_type": "code",
   "execution_count": 2,
   "metadata": {},
   "outputs": [],
   "source": [
    "import os\n",
    "import re\n",
    "import aocd\n",
    "import string\n",
    "import numpy as np\n",
    "import pandas as pd\n",
    "from copy import deepcopy\n",
    "from aocd import submit\n",
    "\n",
    "digits = ['0','1','2','3','4','5','6','7','8','9']\n",
    "\n",
    "data = aocd.get_data(day=6, year=2023).split('\\n')"
   ]
  },
  {
   "cell_type": "code",
   "execution_count": 26,
   "metadata": {},
   "outputs": [
    {
     "data": {
      "text/plain": [
       "43663323"
      ]
     },
     "execution_count": 26,
     "metadata": {},
     "output_type": "execute_result"
    }
   ],
   "source": [
    "times = [[53,250],[91,1330],[67,1081],[68,1025]]\n",
    "times = [[53916768,250133010811025]]\n",
    "#times = [[30,200]]\n",
    "\n",
    "prods = []\n",
    "for max_time, best_distance in tqdm(times):\n",
    "    your_times = []\n",
    "    for held_down in range(max_time):\n",
    "        your_distance = (max_time - held_down)*held_down\n",
    "        #print(held_down, best_distance, your_distance)\n",
    "        if your_distance > best_distance:\n",
    "            your_times += [your_distance]\n",
    "    prods += [len(your_times)]\n",
    "    #print(max_time, best_distance, your_times)\n",
    "np.product(prods)"
   ]
  },
  {
   "cell_type": "code",
   "execution_count": null,
   "metadata": {},
   "outputs": [],
   "source": []
  }
 ],
 "metadata": {
  "kernelspec": {
   "display_name": "Python 3",
   "language": "python",
   "name": "python3"
  },
  "language_info": {
   "codemirror_mode": {
    "name": "ipython",
    "version": 3
   },
   "file_extension": ".py",
   "mimetype": "text/x-python",
   "name": "python",
   "nbconvert_exporter": "python",
   "pygments_lexer": "ipython3",
   "version": "3.8.5"
  }
 },
 "nbformat": 4,
 "nbformat_minor": 4
}
