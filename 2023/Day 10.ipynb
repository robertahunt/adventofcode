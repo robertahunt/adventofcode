{
 "cells": [
  {
   "cell_type": "code",
   "execution_count": 328,
   "metadata": {},
   "outputs": [],
   "source": [
    "import os\n",
    "import re\n",
    "import aocd\n",
    "import string\n",
    "import numpy as np\n",
    "import pandas as pd\n",
    "import matplotlib.pyplot as plt\n",
    "from tqdm import tqdm\n",
    "from copy import deepcopy\n",
    "from aocd import submit\n",
    "\n",
    "#Part 1\n",
    "data = aocd.get_data(day=10, year=2023).split('\\n')"
   ]
  },
  {
   "cell_type": "code",
   "execution_count": 299,
   "metadata": {},
   "outputs": [],
   "source": [
    "data = \"\"\"FF7FSF7F7F7F7F7F---7\n",
    "L|LJ||||||||||||F--J\n",
    "FL-7LJLJ||||||LJL-77\n",
    "F--JF--7||LJLJ7F7FJ-\n",
    "L---JF-JLJ.||-FJLJJ7\n",
    "|F|F-JF---7F7-L7L|7|\n",
    "|FFJF7L7F-JF7|JL---7\n",
    "7-L-JL7||F7|L7F-7F7|\n",
    "L.L7LFJ|||||FJL7||LJ\n",
    "L7JLJL-JLJLJL--JLJ.L\"\"\".split('\\n')"
   ]
  },
  {
   "cell_type": "code",
   "execution_count": 329,
   "metadata": {},
   "outputs": [
    {
     "data": {
      "text/plain": [
       "array([['.', '.', '.', ..., '.', '.', '.'],\n",
       "       ['.', 'F', '.', ..., '7', '7', '.'],\n",
       "       ['.', '|', '7', ..., 'L', 'J', '.'],\n",
       "       ...,\n",
       "       ['.', 'F', 'J', ..., '|', '|', '.'],\n",
       "       ['.', 'F', 'L', ..., '-', '7', '.'],\n",
       "       ['.', '.', '.', ..., '.', '.', '.']], dtype='<U1')"
      ]
     },
     "execution_count": 329,
     "metadata": {},
     "output_type": "execute_result"
    }
   ],
   "source": [
    "data = [[x for x in y] for y in data]\n",
    "data = np.array(data)\n",
    "data = np.pad(data, constant_values='.', pad_width=1)\n",
    "data"
   ]
  },
  {
   "cell_type": "code",
   "execution_count": 330,
   "metadata": {},
   "outputs": [
    {
     "data": {
      "text/plain": [
       "array([['7', 'F', '7'],\n",
       "       ['L', 'S', '|'],\n",
       "       ['7', 'F', 'J']], dtype='<U1')"
      ]
     },
     "execution_count": 330,
     "metadata": {},
     "output_type": "execute_result"
    }
   ],
   "source": [
    "# Find start\n",
    "si,sj = np.where(data == 'S')\n",
    "si,sj = si[0],sj[0]\n",
    "data[si-1:si+2,sj-1:sj+2]"
   ]
  },
  {
   "cell_type": "code",
   "execution_count": 331,
   "metadata": {},
   "outputs": [
    {
     "ename": "NameError",
     "evalue": "name 'wtf' is not defined",
     "output_type": "error",
     "traceback": [
      "\u001b[0;31m---------------------------------------------------------------------------\u001b[0m",
      "\u001b[0;31mNameError\u001b[0m                                 Traceback (most recent call last)",
      "\u001b[0;32m<ipython-input-331-d4018cd6309b>\u001b[0m in \u001b[0;36m<module>\u001b[0;34m\u001b[0m\n\u001b[1;32m     96\u001b[0m     \u001b[0mnext_i\u001b[0m\u001b[0;34m,\u001b[0m \u001b[0mnext_j\u001b[0m \u001b[0;34m=\u001b[0m \u001b[0mi\u001b[0m \u001b[0;34m+\u001b[0m \u001b[0mdirection\u001b[0m\u001b[0;34m[\u001b[0m\u001b[0;36m0\u001b[0m\u001b[0;34m]\u001b[0m\u001b[0;34m,\u001b[0m \u001b[0mj\u001b[0m \u001b[0;34m+\u001b[0m \u001b[0mdirection\u001b[0m\u001b[0;34m[\u001b[0m\u001b[0;36m1\u001b[0m\u001b[0;34m]\u001b[0m\u001b[0;34m\u001b[0m\u001b[0;34m\u001b[0m\u001b[0m\n\u001b[1;32m     97\u001b[0m     \u001b[0mnext_char\u001b[0m \u001b[0;34m=\u001b[0m \u001b[0mdata\u001b[0m\u001b[0;34m[\u001b[0m\u001b[0mnext_i\u001b[0m\u001b[0;34m,\u001b[0m\u001b[0mnext_j\u001b[0m\u001b[0;34m]\u001b[0m\u001b[0;34m\u001b[0m\u001b[0;34m\u001b[0m\u001b[0m\n\u001b[0;32m---> 98\u001b[0;31m     \u001b[0mnext_direction\u001b[0m \u001b[0;34m=\u001b[0m \u001b[0mget_new_direction\u001b[0m\u001b[0;34m(\u001b[0m\u001b[0mdirection\u001b[0m\u001b[0;34m,\u001b[0m \u001b[0mnext_char\u001b[0m\u001b[0;34m)\u001b[0m\u001b[0;34m\u001b[0m\u001b[0;34m\u001b[0m\u001b[0m\n\u001b[0m\u001b[1;32m     99\u001b[0m     \u001b[0mnext_inside_direction\u001b[0m\u001b[0;34m,\u001b[0m \u001b[0mcorner_inside\u001b[0m \u001b[0;34m=\u001b[0m \u001b[0mget_new_inside_direction\u001b[0m\u001b[0;34m(\u001b[0m\u001b[0minside_direction\u001b[0m\u001b[0;34m,\u001b[0m \u001b[0mdirection\u001b[0m\u001b[0;34m,\u001b[0m \u001b[0mnext_direction\u001b[0m\u001b[0;34m)\u001b[0m\u001b[0;34m\u001b[0m\u001b[0;34m\u001b[0m\u001b[0m\n\u001b[1;32m    100\u001b[0m \u001b[0;34m\u001b[0m\u001b[0m\n",
      "\u001b[0;32m<ipython-input-331-d4018cd6309b>\u001b[0m in \u001b[0;36mget_new_direction\u001b[0;34m(direction, char)\u001b[0m\n\u001b[1;32m     32\u001b[0m             \u001b[0;32mreturn\u001b[0m \u001b[0mup\u001b[0m\u001b[0;34m\u001b[0m\u001b[0;34m\u001b[0m\u001b[0m\n\u001b[1;32m     33\u001b[0m \u001b[0;34m\u001b[0m\u001b[0m\n\u001b[0;32m---> 34\u001b[0;31m     \u001b[0mwtf\u001b[0m\u001b[0;34m\u001b[0m\u001b[0;34m\u001b[0m\u001b[0m\n\u001b[0m\u001b[1;32m     35\u001b[0m \u001b[0;34m\u001b[0m\u001b[0m\n\u001b[1;32m     36\u001b[0m \u001b[0;34m\u001b[0m\u001b[0m\n",
      "\u001b[0;31mNameError\u001b[0m: name 'wtf' is not defined"
     ]
    }
   ],
   "source": [
    "#Instead of following two paths, just follow one and see how far you get\n",
    "#path = np.zeros_like(data)\n",
    "right, left = (0,1), (0,-1)\n",
    "up, down = (-1,0), (1,0)\n",
    "top_left, top_right = (-1,-1), (-1,1)\n",
    "bottom_left, bottom_right = (1,-1), (1,1)\n",
    "\n",
    "\n",
    "def get_new_direction(direction, char):\n",
    "    \n",
    "    if (char == '|') or (char == '-'):\n",
    "        return direction\n",
    "    elif char == 'F':\n",
    "        if direction == up: \n",
    "            return right\n",
    "        else:\n",
    "            return down\n",
    "    elif char == 'L':\n",
    "        if direction == down:\n",
    "            return right\n",
    "        else:\n",
    "            return up\n",
    "    elif char == '7':\n",
    "        if direction == up: \n",
    "            return left\n",
    "        else:\n",
    "            return down\n",
    "    elif char == 'J':\n",
    "        if direction == down:\n",
    "            return left\n",
    "        else:\n",
    "            return up\n",
    "        \n",
    "    wtf\n",
    "\n",
    "    \n",
    "def get_new_inside_direction(inside_direction, direction, next_direction):\n",
    "    if direction == next_direction:\n",
    "        return inside_direction, None\n",
    "    if direction == up:\n",
    "        if next_direction == right:\n",
    "            if inside_direction == right:\n",
    "                return down, None\n",
    "            else:\n",
    "                return up, top_left\n",
    "        elif next_direction == left:\n",
    "            if inside_direction == right:\n",
    "                return up, top_right\n",
    "            else:\n",
    "                return down, None\n",
    "    if direction == down:\n",
    "        if next_direction == right:\n",
    "            if inside_direction == right:\n",
    "                return up, None\n",
    "            else:\n",
    "                return down, bottom_left\n",
    "        elif next_direction == left:\n",
    "            if inside_direction == right:\n",
    "                return down, bottom_right\n",
    "            else:\n",
    "                return up, None\n",
    "    if direction == left:\n",
    "        if next_direction == up:\n",
    "            if inside_direction == up:\n",
    "                return right, None\n",
    "            else:\n",
    "                return left, bottom_left\n",
    "        elif next_direction == down:\n",
    "            if inside_direction == up:\n",
    "                return left, top_left\n",
    "            else:\n",
    "                return right, None\n",
    "    if direction == right:\n",
    "        if next_direction == up:\n",
    "            if inside_direction == up:\n",
    "                return left, None\n",
    "            else:\n",
    "                return right, bottom_right\n",
    "        elif next_direction == down:\n",
    "            if inside_direction == up:\n",
    "                return right, top_right\n",
    "            else:\n",
    "                return left, None\n",
    "    \n",
    "\n",
    "i,j = (si,sj)\n",
    "steps = 0\n",
    "path_map = np.zeros(data.shape)\n",
    "path_map[si,sj] = 1\n",
    "direction = down\n",
    "inside_direction = left\n",
    "inside_map = np.zeros(path_map.shape)\n",
    "\n",
    "path = [(direction, si, sj, inside_direction)]\n",
    "while (data[i,j] != 'S') or (steps == 0):\n",
    "    next_i, next_j = i + direction[0], j + direction[1]\n",
    "    next_char = data[next_i,next_j]\n",
    "    next_direction = get_new_direction(direction, next_char)\n",
    "    next_inside_direction, corner_inside = get_new_inside_direction(inside_direction, direction, next_direction)\n",
    "    \n",
    "    if corner_inside is not None:\n",
    "        inside_map[i + corner_inside[0], j + corner_inside[1]] = 1\n",
    "        \n",
    "    path += [(next_direction, next_i, next_j, next_inside_direction)]\n",
    "    path_map[next_i, next_j] = 1\n",
    "    inside_map[next_i + next_inside_direction[0], next_j + next_inside_direction[1]] = 1\n",
    "    \n",
    "    direction, i, j, inside_direction = path[-1]\n",
    "    \n",
    "    steps += 1\n",
    "    #if steps > 10:\n",
    "    #    break"
   ]
  },
  {
   "cell_type": "code",
   "execution_count": 332,
   "metadata": {},
   "outputs": [
    {
     "data": {
      "text/plain": [
       "<matplotlib.image.AxesImage at 0x7f24580c64f0>"
      ]
     },
     "execution_count": 332,
     "metadata": {},
     "output_type": "execute_result"
    },
    {
     "data": {
      "image/png": "[encoded data removed]",
      "text/plain": [
       "<Figure size 720x720 with 1 Axes>"
      ]
     },
     "metadata": {
      "needs_background": "light"
     },
     "output_type": "display_data"
    }
   ],
   "source": [
    "plt.figure(figsize=(10,10))\n",
    "plt.imshow(path_map)"
   ]
  },
  {
   "cell_type": "code",
   "execution_count": 333,
   "metadata": {},
   "outputs": [
    {
     "data": {
      "text/plain": [
       "<matplotlib.image.AxesImage at 0x7f2457d121f0>"
      ]
     },
     "execution_count": 333,
     "metadata": {},
     "output_type": "execute_result"
    },
    {
     "data": {
      "image/png": "[encoded data removed]",
      "text/plain": [
       "<Figure size 720x720 with 1 Axes>"
      ]
     },
     "metadata": {
      "needs_background": "light"
     },
     "output_type": "display_data"
    }
   ],
   "source": [
    "plt.figure(figsize=(10,10))\n",
    "plt.imshow(inside_map)"
   ]
  },
  {
   "cell_type": "code",
   "execution_count": 334,
   "metadata": {},
   "outputs": [
    {
     "data": {
      "text/plain": [
       "<matplotlib.image.AxesImage at 0x7f2457ce2fd0>"
      ]
     },
     "execution_count": 334,
     "metadata": {},
     "output_type": "execute_result"
    },
    {
     "data": {
      "image/png": "[encoded data removed]",
      "text/plain": [
       "<Figure size 720x720 with 1 Axes>"
      ]
     },
     "metadata": {
      "needs_background": "light"
     },
     "output_type": "display_data"
    }
   ],
   "source": [
    "plt.figure(figsize=(10,10))\n",
    "plt.imshow((inside_map > 0) & (path_map == 0))"
   ]
  },
  {
   "cell_type": "code",
   "execution_count": 335,
   "metadata": {},
   "outputs": [
    {
     "data": {
      "text/plain": [
       "array([[0, 0, 0, ..., 0, 0, 0],\n",
       "       [0, 0, 0, ..., 0, 0, 0],\n",
       "       [0, 0, 0, ..., 0, 0, 0],\n",
       "       ...,\n",
       "       [0, 0, 0, ..., 0, 0, 0],\n",
       "       [0, 0, 0, ..., 0, 0, 0],\n",
       "       [0, 0, 0, ..., 0, 0, 0]], dtype=uint8)"
      ]
     },
     "execution_count": 335,
     "metadata": {},
     "output_type": "execute_result"
    }
   ],
   "source": [
    "import cv2\n",
    "only_inside = (inside_map > 0) & (path_map == 0)\n",
    "new_path_map = path_map.copy().astype('uint8')\n",
    "\n",
    "for i,j in [(np.where(only_inside > 0)[1][i],np.where(only_inside > 0)[0][i]) for i in range(len(np.where(only_inside > 0)[0]))]:\n",
    "\n",
    "    cv2.floodFill(new_path_map,None,(i,j),1)     # line 27\n",
    "new_path_map"
   ]
  },
  {
   "cell_type": "code",
   "execution_count": 336,
   "metadata": {},
   "outputs": [
    {
     "data": {
      "text/plain": [
       "<matplotlib.image.AxesImage at 0x7f2457c428b0>"
      ]
     },
     "execution_count": 336,
     "metadata": {},
     "output_type": "execute_result"
    },
    {
     "data": {
      "image/png": "[encoded data removed]",
      "text/plain": [
       "<Figure size 432x288 with 1 Axes>"
      ]
     },
     "metadata": {
      "needs_background": "light"
     },
     "output_type": "display_data"
    }
   ],
   "source": [
    "plt.imshow(new_path_map)"
   ]
  },
  {
   "cell_type": "code",
   "execution_count": 337,
   "metadata": {},
   "outputs": [
    {
     "data": {
      "text/plain": [
       "297.0"
      ]
     },
     "execution_count": 337,
     "metadata": {},
     "output_type": "execute_result"
    }
   ],
   "source": [
    "new_path_map.sum() - path_map.sum()"
   ]
  },
  {
   "cell_type": "code",
   "execution_count": null,
   "metadata": {},
   "outputs": [],
   "source": []
  }
 ],
 "metadata": {
  "kernelspec": {
   "display_name": "Python 3",
   "language": "python",
   "name": "python3"
  },
  "language_info": {
   "codemirror_mode": {
    "name": "ipython",
    "version": 3
   },
   "file_extension": ".py",
   "mimetype": "text/x-python",
   "name": "python",
   "nbconvert_exporter": "python",
   "pygments_lexer": "ipython3",
   "version": "3.8.5"
  }
 },
 "nbformat": 4,
 "nbformat_minor": 4
}
