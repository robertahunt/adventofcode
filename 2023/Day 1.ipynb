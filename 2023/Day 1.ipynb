{
 "cells": [
  {
   "cell_type": "code",
   "execution_count": 68,
   "metadata": {},
   "outputs": [],
   "source": [
    "import os\n",
    "import re\n",
    "import aocd\n",
    "import string\n",
    "import numpy as np\n",
    "import pandas as pd\n",
    "from copy import deepcopy\n",
    "from aocd import submit\n",
    "\n",
    "\n",
    "data = aocd.get_data(day=1, year=2023).split('\\n')"
   ]
  },
  {
   "cell_type": "code",
   "execution_count": 45,
   "metadata": {},
   "outputs": [],
   "source": [
    "# Example\n",
    "data = \"\"\"two1nine\n",
    "eightwothree\n",
    "abcone2threexyz\n",
    "xtwone3four\n",
    "4nineeightseven2\n",
    "zoneight234\n",
    "7pqrstsixteen\"\"\".split('\\n')"
   ]
  },
  {
   "cell_type": "code",
   "execution_count": 70,
   "metadata": {},
   "outputs": [
    {
     "data": {
      "text/plain": [
       "53348"
      ]
     },
     "execution_count": 70,
     "metadata": {},
     "output_type": "execute_result"
    }
   ],
   "source": [
    "replace = {'one':'1',\n",
    "          'two':'2',\n",
    "          'three':'3',\n",
    "          'four':'4',\n",
    "          'five':'5',\n",
    "          'six':'6',\n",
    "          'seven':'7',\n",
    "          'eight':'8',\n",
    "          'nine':'9',\n",
    "          'ten':'10',\n",
    "          'eleven':'11',\n",
    "          'twelve':'12',\n",
    "          'thirteen':'13',\n",
    "          'fourteen':'14',\n",
    "          'fifteen':'15',\n",
    "          'sixteen':'16',\n",
    "          'seventeen':'17',\n",
    "          'eighteen':'18',\n",
    "          'ninteen':'19',\n",
    "          'twenty':'20'}\n",
    "list_of_nums = list(map(str, range(10)))\n",
    "\n",
    "\n",
    "def find_first(line):\n",
    "    for i in range(len(line)):\n",
    "        if line[i] in list_of_nums:\n",
    "            return line[i]\n",
    "        else: \n",
    "            for key in replace.keys():\n",
    "                length = len(key)\n",
    "                if line[i:i+length] == key:\n",
    "                    return replace[key]\n",
    "                \n",
    "\n",
    "def find_last(line):\n",
    "    for i in range(len(line)):\n",
    "        if line[::-1][i] in list_of_nums:\n",
    "            return line[::-1][i]\n",
    "        else: \n",
    "            for key in replace.keys():\n",
    "                length = len(key)\n",
    "                _max = -i if i >= 1 else None\n",
    "                \n",
    "                if line[-i-length:_max] == key:\n",
    "                    #print(line[-i-length-1:_max])\n",
    "                    return replace[key][-1]\n",
    "\n",
    "\n",
    "numbers = []\n",
    "\n",
    "\n",
    "for line in data:\n",
    "    first = find_first(line)\n",
    "    last = find_last(line)  \n",
    "    \n",
    "    num = first + last\n",
    "    numbers += [int(num)]\n",
    "\n",
    "sum(numbers)"
   ]
  },
  {
   "cell_type": "code",
   "execution_count": null,
   "metadata": {},
   "outputs": [],
   "source": []
  }
 ],
 "metadata": {
  "kernelspec": {
   "display_name": "Python 3",
   "language": "python",
   "name": "python3"
  },
  "language_info": {
   "codemirror_mode": {
    "name": "ipython",
    "version": 3
   },
   "file_extension": ".py",
   "mimetype": "text/x-python",
   "name": "python",
   "nbconvert_exporter": "python",
   "pygments_lexer": "ipython3",
   "version": "3.8.5"
  }
 },
 "nbformat": 4,
 "nbformat_minor": 4
}
