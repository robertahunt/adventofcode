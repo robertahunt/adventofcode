{
 "cells": [
  {
   "cell_type": "code",
   "execution_count": 163,
   "metadata": {},
   "outputs": [
    {
     "name": "stderr",
     "output_type": "stream",
     "text": [
      "current_day is only available in December (EST)\n",
      "current_day is only available in December (EST)\n"
     ]
    },
    {
     "data": {
      "text/plain": [
       "['lf AND lq -> ls', 'iu RSHIFT 1 -> jn', 'bo OR bu -> bv']"
      ]
     },
     "execution_count": 163,
     "metadata": {},
     "output_type": "execute_result"
    }
   ],
   "source": [
    "from aocd import data, submit\n",
    "from aocd.get import get_data\n",
    "from tqdm import tqdm\n",
    "import numpy as np\n",
    "import pandas as pd\n",
    "import re\n",
    "import hashlib\n",
    "import matplotlib.pyplot as plt\n",
    "#Part 1\n",
    "example = \"\"\"123 -> x\n",
    "456 -> y\n",
    "x AND y -> d\n",
    "x OR y -> e\n",
    "x LSHIFT 2 -> f\n",
    "y RSHIFT 2 -> g\n",
    "NOT x -> h\n",
    "NOT y -> i\"\"\"\n",
    "\n",
    "data = get_data(day=7, year=2015).split('\\n')\n",
    "data[:3]"
   ]
  },
  {
   "cell_type": "code",
   "execution_count": 212,
   "metadata": {},
   "outputs": [
    {
     "data": {
      "text/plain": [
       "2797"
      ]
     },
     "execution_count": 212,
     "metadata": {},
     "output_type": "execute_result"
    }
   ],
   "source": [
    "DEBUG = False\n",
    "\n",
    "part = 2\n",
    "\n",
    "if DEBUG:\n",
    "    data = example.split('\\n')\n",
    "else:\n",
    "    data = get_data(day=7, year=2015).split('\\n')\n",
    "vals = {}\n",
    "\n",
    "def exists(key, vals):\n",
    "    return vals.get(key, None) is not None\n",
    "\n",
    "for i in range(200):\n",
    "    for instruction in data:\n",
    "        #print(instruction)\n",
    "        inp, out = instruction.strip().split(' -> ')\n",
    "        # sending direct signal\n",
    "        if re.match('^[0-9]+$', inp):\n",
    "            vals[out] = int(inp)\n",
    "            if part == 2:\n",
    "                vals['b'] = 16076\n",
    "        # only one input \n",
    "        elif re.match('^[a-z]+$', inp):\n",
    "            if exists(inp, vals):\n",
    "                vals[out] = vals[inp]\n",
    "        # Taking not of single input\n",
    "        elif inp.startswith('NOT '):\n",
    "            if exists(inp[4:], vals):\n",
    "                vals[out] = np.bitwise_not(vals[inp[4:]], dtype='uint16')\n",
    "        else:\n",
    "            # two input locations\n",
    "            a, ins, b = inp.split(' ')\n",
    "            if re.match('^[0-9]$',a):\n",
    "                vals[a] = int(a) \n",
    "            if exists(a, vals):\n",
    "                if ins == 'LSHIFT':\n",
    "                    shift = int(b)\n",
    "                    vals[out] = np.left_shift(vals[a], shift, dtype='uint16')\n",
    "                elif ins == 'RSHIFT':\n",
    "                    shift = int(b)\n",
    "                    vals[out] = np.right_shift(vals[a], shift, dtype='uint16')\n",
    "                elif exists(b, vals):\n",
    "                    if ins == 'AND':\n",
    "                        vals[out] = np.bitwise_and(vals[a], vals[b])\n",
    "                    elif ins == 'OR':\n",
    "                        vals[out] = np.bitwise_or(vals[a], vals[b])\n",
    "                    else:\n",
    "                        wtf\n",
    "   \n",
    "            \n",
    "\n",
    "vals['a']"
   ]
  },
  {
   "cell_type": "code",
   "execution_count": null,
   "metadata": {},
   "outputs": [],
   "source": []
  }
 ],
 "metadata": {
  "kernelspec": {
   "display_name": "Python 3",
   "language": "python",
   "name": "python3"
  },
  "language_info": {
   "codemirror_mode": {
    "name": "ipython",
    "version": 3
   },
   "file_extension": ".py",
   "mimetype": "text/x-python",
   "name": "python",
   "nbconvert_exporter": "python",
   "pygments_lexer": "ipython3",
   "version": "3.8.5"
  }
 },
 "nbformat": 4,
 "nbformat_minor": 5
}
