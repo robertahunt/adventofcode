{
 "cells": [
  {
   "cell_type": "code",
   "execution_count": 19,
   "metadata": {},
   "outputs": [
    {
     "name": "stderr",
     "output_type": "stream",
     "text": [
      "current_day is only available in December (EST)\n",
      "current_day is only available in December (EST)\n",
      " 35%|███▍      | 346386/1000000 [00:00<00:01, 638731.38it/s]\n"
     ]
    }
   ],
   "source": [
    "from aocd import data, submit\n",
    "from aocd.get import get_data\n",
    "from tqdm import tqdm\n",
    "import numpy as np\n",
    "import pandas as pd\n",
    "import re\n",
    "import hashlib\n",
    "#Part 1\n",
    "data = get_data(day=4, year=2015)\n",
    "\n",
    "data\n",
    "for i in tqdm(range(1000000)):\n",
    "    \n",
    "    a = hashlib.md5()\n",
    "    a.update(b'iwrupvqb' + str(i).encode('utf-8'))\n",
    "    if a.hexdigest().startswith('00000'):\n",
    "        break"
   ]
  },
  {
   "cell_type": "code",
   "execution_count": 21,
   "metadata": {},
   "outputs": [
    {
     "data": {
      "text/plain": [
       "('0000045c5e2b3911eb937d9d8c574f09', 346386)"
      ]
     },
     "execution_count": 21,
     "metadata": {},
     "output_type": "execute_result"
    }
   ],
   "source": [
    "a.hexdigest(), i"
   ]
  },
  {
   "cell_type": "code",
   "execution_count": 24,
   "metadata": {},
   "outputs": [
    {
     "name": "stderr",
     "output_type": "stream",
     "text": [
      " 10%|▉         | 9958218/100000000 [00:09<01:24, 1061995.40it/s]\n"
     ]
    }
   ],
   "source": [
    "# Part 2\n",
    "for i in tqdm(range(100000000)):\n",
    "    \n",
    "    a = hashlib.md5()\n",
    "    a.update(b'iwrupvqb' + str(i).encode('utf-8'))\n",
    "    if a.hexdigest().startswith('000000'):\n",
    "        break"
   ]
  },
  {
   "cell_type": "code",
   "execution_count": 25,
   "metadata": {},
   "outputs": [
    {
     "data": {
      "text/plain": [
       "('00000094434e1914548b3a1af245fb27', 9958218)"
      ]
     },
     "execution_count": 25,
     "metadata": {},
     "output_type": "execute_result"
    }
   ],
   "source": [
    "a.hexdigest(), i"
   ]
  },
  {
   "cell_type": "code",
   "execution_count": null,
   "metadata": {},
   "outputs": [],
   "source": []
  }
 ],
 "metadata": {
  "kernelspec": {
   "display_name": "Python 3",
   "language": "python",
   "name": "python3"
  },
  "language_info": {
   "codemirror_mode": {
    "name": "ipython",
    "version": 3
   },
   "file_extension": ".py",
   "mimetype": "text/x-python",
   "name": "python",
   "nbconvert_exporter": "python",
   "pygments_lexer": "ipython3",
   "version": "3.8.5"
  }
 },
 "nbformat": 4,
 "nbformat_minor": 4
}
