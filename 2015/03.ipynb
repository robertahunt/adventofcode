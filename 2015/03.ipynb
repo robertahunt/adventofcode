{
 "cells": [
  {
   "cell_type": "code",
   "execution_count": 9,
   "metadata": {},
   "outputs": [
    {
     "name": "stderr",
     "output_type": "stream",
     "text": [
      "current_day is only available in December (EST)\n",
      "current_day is only available in December (EST)\n"
     ]
    },
    {
     "data": {
      "text/plain": [
       "2565"
      ]
     },
     "execution_count": 9,
     "metadata": {},
     "output_type": "execute_result"
    }
   ],
   "source": [
    "from aocd import data, submit\n",
    "from aocd.get import get_data\n",
    "import numpy as np\n",
    "import pandas as pd\n",
    "import re\n",
    "#Part 1\n",
    "data = get_data(day=3, year=2015)\n",
    "\n",
    "data\n",
    "x, y = 0,0\n",
    "visited = [str(x) + ',' + str(y)]\n",
    "for d in data:\n",
    "    if d == '^':\n",
    "        y += 1\n",
    "    elif d == 'v':\n",
    "        y-=1\n",
    "    elif d == '<':\n",
    "        x-=1\n",
    "    elif d == '>':\n",
    "        x += 1\n",
    "    else:\n",
    "        wtf\n",
    "    visited += [str(x) + ',' + str(y)]\n",
    "a, c = np.unique(visited,return_counts=True)\n",
    "len(np.where(c >= 1)[0])"
   ]
  },
  {
   "cell_type": "code",
   "execution_count": 18,
   "metadata": {},
   "outputs": [
    {
     "data": {
      "text/plain": [
       "2639"
      ]
     },
     "execution_count": 18,
     "metadata": {},
     "output_type": "execute_result"
    }
   ],
   "source": [
    "# Part 2\n",
    "def calc_visited(data):\n",
    "    \n",
    "    x, y = 0,0\n",
    "    visited = [str(x) + ',' + str(y)]\n",
    "    for d in data:\n",
    "        if d == '^':\n",
    "            y += 1\n",
    "        elif d == 'v':\n",
    "            y-=1\n",
    "        elif d == '<':\n",
    "            x-=1\n",
    "        elif d == '>':\n",
    "            x += 1\n",
    "        else:\n",
    "            wtf\n",
    "        visited += [str(x) + ',' + str(y)]\n",
    "    return visited\n",
    "santa_instructions = data[::2]\n",
    "robo_instructions = data[1::2]\n",
    "sv = calc_visited(santa_instructions)\n",
    "rv = calc_visited(robo_instructions)\n",
    "a, c = np.unique(sv+rv,return_counts=True)\n",
    "len(np.where(c >= 1)[0])"
   ]
  },
  {
   "cell_type": "code",
   "execution_count": null,
   "metadata": {},
   "outputs": [],
   "source": []
  }
 ],
 "metadata": {
  "kernelspec": {
   "display_name": "Python 3",
   "language": "python",
   "name": "python3"
  },
  "language_info": {
   "codemirror_mode": {
    "name": "ipython",
    "version": 3
   },
   "file_extension": ".py",
   "mimetype": "text/x-python",
   "name": "python",
   "nbconvert_exporter": "python",
   "pygments_lexer": "ipython3",
   "version": "3.8.5"
  }
 },
 "nbformat": 4,
 "nbformat_minor": 4
}
