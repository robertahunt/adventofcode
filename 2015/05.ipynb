{
 "cells": [
  {
   "cell_type": "code",
   "execution_count": 81,
   "metadata": {},
   "outputs": [
    {
     "name": "stderr",
     "output_type": "stream",
     "text": [
      "current_day is only available in December (EST)\n",
      "current_day is only available in December (EST)\n"
     ]
    },
    {
     "data": {
      "text/plain": [
       "255"
      ]
     },
     "execution_count": 81,
     "metadata": {},
     "output_type": "execute_result"
    }
   ],
   "source": [
    "from aocd import data, submit\n",
    "from aocd.get import get_data\n",
    "from tqdm import tqdm\n",
    "import numpy as np\n",
    "import pandas as pd\n",
    "import re\n",
    "import hashlib\n",
    "#Part 1\n",
    "data = get_data(day=5, year=2015).split('\\n')\n",
    "DEBUG = False\n",
    "n_nice = 0\n",
    "for string in data:\n",
    "    if DEBUG:\n",
    "        string = 'ugknbfddgicrmopn'\n",
    "    vowels_rule = len(re.findall('[aeiou]{1}', string)) >= 3\n",
    "    double_rule = len(re.findall(r'([a-z])\\1',string)) > 0\n",
    "    remove_rule = len(re.findall('ab|cd|pq|xy', string)) == 0\n",
    "    if vowels_rule & double_rule & remove_rule:\n",
    "        n_nice += 1\n",
    "\n",
    "    if DEBUG:\n",
    "        break\n",
    "n_nice"
   ]
  },
  {
   "cell_type": "code",
   "execution_count": 101,
   "metadata": {},
   "outputs": [
    {
     "data": {
      "text/plain": [
       "55"
      ]
     },
     "execution_count": 101,
     "metadata": {},
     "output_type": "execute_result"
    }
   ],
   "source": [
    "DEBUG = False\n",
    "n_nice = 0\n",
    "for string in data:\n",
    "    if DEBUG:\n",
    "        string = 'ieodomkazucvgmuy'\n",
    "    pair_rule = len(re.findall(r'([a-z]{2}).*\\1', string)) > 0\n",
    "    between_rule = len(re.findall(r'([a-z])[a-z]\\1',string)) > 0\n",
    "    if pair_rule & between_rule:\n",
    "        n_nice += 1\n",
    "\n",
    "    if DEBUG:\n",
    "        break\n",
    "n_nice"
   ]
  }
 ],
 "metadata": {
  "kernelspec": {
   "display_name": "Python 3 (ipykernel)",
   "language": "python",
   "name": "python3"
  },
  "language_info": {
   "codemirror_mode": {
    "name": "ipython",
    "version": 3
   },
   "file_extension": ".py",
   "mimetype": "text/x-python",
   "name": "python",
   "nbconvert_exporter": "python",
   "pygments_lexer": "ipython3",
   "version": "3.12.7"
  }
 },
 "nbformat": 4,
 "nbformat_minor": 4
}
