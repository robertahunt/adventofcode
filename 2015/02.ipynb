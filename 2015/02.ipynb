{
 "cells": [
  {
   "cell_type": "code",
   "execution_count": 10,
   "metadata": {},
   "outputs": [
    {
     "name": "stderr",
     "output_type": "stream",
     "text": [
      "current_day is only available in December (EST)\n",
      "current_day is only available in December (EST)\n"
     ]
    },
    {
     "data": {
      "text/plain": [
       "1588178"
      ]
     },
     "execution_count": 10,
     "metadata": {},
     "output_type": "execute_result"
    }
   ],
   "source": [
    "from aocd import data, submit\n",
    "from aocd.get import get_data\n",
    "import numpy as np\n",
    "import pandas as pd\n",
    "import re\n",
    "#Part 1\n",
    "data = get_data(day=2, year=2015).split('\\n')\n",
    "\n",
    "data = [sorted([int(y) for y in x.split('x')]) for x in data]\n",
    "out = [ 3*x[0]*x[1] + 2*x[0]*x[2] + 2*x[1]*x[2] for x in data]\n",
    "sum(out)"
   ]
  },
  {
   "cell_type": "code",
   "execution_count": 12,
   "metadata": {},
   "outputs": [
    {
     "data": {
      "text/plain": [
       "3783758"
      ]
     },
     "execution_count": 12,
     "metadata": {},
     "output_type": "execute_result"
    }
   ],
   "source": [
    "# Part 2\n",
    "out = [2*x[0] + 2*x[1] + np.product(x) for x in data]\n",
    "sum(out)"
   ]
  },
  {
   "cell_type": "code",
   "execution_count": null,
   "metadata": {},
   "outputs": [],
   "source": []
  }
 ],
 "metadata": {
  "kernelspec": {
   "display_name": "Python 3",
   "language": "python",
   "name": "python3"
  },
  "language_info": {
   "codemirror_mode": {
    "name": "ipython",
    "version": 3
   },
   "file_extension": ".py",
   "mimetype": "text/x-python",
   "name": "python",
   "nbconvert_exporter": "python",
   "pygments_lexer": "ipython3",
   "version": "3.8.5"
  }
 },
 "nbformat": 4,
 "nbformat_minor": 4
}
