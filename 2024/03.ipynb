{
 "cells": [
  {
   "cell_type": "code",
   "execution_count": 22,
   "metadata": {},
   "outputs": [
    {
     "data": {
      "text/plain": [
       "'-:-]what()(+/mul(957,396)?mul('"
      ]
     },
     "execution_count": 22,
     "metadata": {},
     "output_type": "execute_result"
    }
   ],
   "source": [
    "import os\n",
    "import re\n",
    "import aocd\n",
    "import string\n",
    "import numpy as np\n",
    "import pandas as pd\n",
    "from tqdm import tqdm\n",
    "from copy import deepcopy\n",
    "from aocd import submit\n",
    "\n",
    "data = aocd.get_data(day=3, year=2024)#.split('\\n')\n",
    "data[:30]"
   ]
  },
  {
   "cell_type": "code",
   "execution_count": 14,
   "metadata": {},
   "outputs": [
    {
     "data": {
      "text/plain": [
       "170778545"
      ]
     },
     "execution_count": 14,
     "metadata": {},
     "output_type": "execute_result"
    }
   ],
   "source": [
    "# Part 1\n",
    "muls = re.findall('mul\\([0-9]+,[0-9]+\\)',data)\n",
    "muls = [list(map(int,x[4:-1].split(','))) for x in muls]\n",
    "muls = np.array(muls)\n",
    "(muls[:,0]*muls[:,1]).sum()"
   ]
  },
  {
   "cell_type": "code",
   "execution_count": 20,
   "metadata": {},
   "outputs": [
    {
     "data": {
      "text/plain": [
       "82868252"
      ]
     },
     "execution_count": 20,
     "metadata": {},
     "output_type": "execute_result"
    }
   ],
   "source": [
    "# Part 2\n",
    "muls = re.findall(\"mul\\([0-9]+,[0-9]+\\)|do\\(\\)|don\\'t\\(\\)\",data)\n",
    "do = True\n",
    "_sum=0\n",
    "for m in muls:\n",
    "    if m == \"do()\":\n",
    "        do = True\n",
    "    elif m == \"don't()\":\n",
    "        do = False\n",
    "    elif do:\n",
    "        m = list(map(int,m[4:-1].split(',')))\n",
    "        m = np.array(m)\n",
    "        _sum += np.product(m)\n",
    "_sum"
   ]
  },
  {
   "cell_type": "code",
   "execution_count": null,
   "metadata": {},
   "outputs": [],
   "source": []
  }
 ],
 "metadata": {
  "kernelspec": {
   "display_name": "Python 3",
   "language": "python",
   "name": "python3"
  },
  "language_info": {
   "codemirror_mode": {
    "name": "ipython",
    "version": 3
   },
   "file_extension": ".py",
   "mimetype": "text/x-python",
   "name": "python",
   "nbconvert_exporter": "python",
   "pygments_lexer": "ipython3",
   "version": "3.8.5"
  }
 },
 "nbformat": 4,
 "nbformat_minor": 4
}
