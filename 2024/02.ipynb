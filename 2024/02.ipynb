{
 "cells": [
  {
   "cell_type": "code",
   "execution_count": 38,
   "metadata": {},
   "outputs": [
    {
     "data": {
      "text/plain": [
       "['74 76 78 79 76', '38 40 43 44 44', '1 2 4 6 8 9 13']"
      ]
     },
     "execution_count": 38,
     "metadata": {},
     "output_type": "execute_result"
    }
   ],
   "source": [
    "import os\n",
    "import re\n",
    "import aocd\n",
    "import string\n",
    "import numpy as np\n",
    "import pandas as pd\n",
    "from tqdm import tqdm\n",
    "from copy import deepcopy\n",
    "from aocd import submit\n",
    "\n",
    "data = aocd.get_data(day=2, year=2024).split('\\n')\n",
    "data[:3]\n"
   ]
  },
  {
   "cell_type": "code",
   "execution_count": 39,
   "metadata": {},
   "outputs": [
    {
     "data": {
      "text/plain": [
       "257"
      ]
     },
     "execution_count": 39,
     "metadata": {},
     "output_type": "execute_result"
    }
   ],
   "source": [
    "safe = 0\n",
    "for line in data:\n",
    "    line = np.array(list(map(int,line.split(' '))))\n",
    "    shifts = (line - np.roll(line, 1))[1:]\n",
    "    if (np.array(list(map(abs, shifts))) < 4).all():\n",
    "        \n",
    "        if (shifts >= 1).all() or (shifts <= -1).all():\n",
    "            safe += 1\n",
    "\n",
    "safe"
   ]
  },
  {
   "cell_type": "code",
   "execution_count": 47,
   "metadata": {},
   "outputs": [
    {
     "data": {
      "text/plain": [
       "328"
      ]
     },
     "execution_count": 47,
     "metadata": {},
     "output_type": "execute_result"
    }
   ],
   "source": [
    "safe = 0\n",
    "for line in data:\n",
    "    s = 0\n",
    "    line = np.array(list(map(int,line.split(' '))))\n",
    "    shifts = (line - np.roll(line, 1))[1:]\n",
    "    if (np.array(list(map(abs, shifts))) < 4).all():\n",
    "        if (shifts >= 1).all() or (shifts <= -1).all():\n",
    "            s = 1\n",
    "            \n",
    "    for j in range(len(line)):\n",
    "        subline = np.delete(line, j)\n",
    "        shifts = (subline - np.roll(subline, 1))[1:]\n",
    "\n",
    "        if (np.array(list(map(abs, shifts))) < 4).all():\n",
    "            if (shifts >= 1).all() or (shifts <= -1).all():\n",
    "                s = 1\n",
    "                    \n",
    "    safe += s\n",
    "\n",
    "safe\n",
    "    "
   ]
  },
  {
   "cell_type": "code",
   "execution_count": 43,
   "metadata": {},
   "outputs": [
    {
     "data": {
      "text/plain": [
       "(array([59, 58, 55, 53]), array([59, 58, 55, 53, 52]), 313)"
      ]
     },
     "execution_count": 43,
     "metadata": {},
     "output_type": "execute_result"
    }
   ],
   "source": [
    "subline, line, safe"
   ]
  },
  {
   "cell_type": "code",
   "execution_count": 18,
   "metadata": {},
   "outputs": [
    {
     "data": {
      "text/plain": [
       "array([59, 58, 55, 53, 52])"
      ]
     },
     "execution_count": 18,
     "metadata": {},
     "output_type": "execute_result"
    }
   ],
   "source": [
    "line"
   ]
  },
  {
   "cell_type": "code",
   "execution_count": null,
   "metadata": {},
   "outputs": [],
   "source": []
  }
 ],
 "metadata": {
  "kernelspec": {
   "display_name": "Python 3",
   "language": "python",
   "name": "python3"
  },
  "language_info": {
   "codemirror_mode": {
    "name": "ipython",
    "version": 3
   },
   "file_extension": ".py",
   "mimetype": "text/x-python",
   "name": "python",
   "nbconvert_exporter": "python",
   "pygments_lexer": "ipython3",
   "version": "3.8.5"
  }
 },
 "nbformat": 4,
 "nbformat_minor": 4
}
