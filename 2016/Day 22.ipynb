{
 "cells": [
  {
   "cell_type": "code",
   "execution_count": 1,
   "metadata": {},
   "outputs": [
    {
     "name": "stderr",
     "output_type": "stream",
     "text": [
      "current_day is only available in December (EST)\n"
     ]
    }
   ],
   "source": [
    "import os\n",
    "import re\n",
    "import aocd\n",
    "import string\n",
    "import numpy as np\n",
    "import pandas as pd\n",
    "from copy import deepcopy\n",
    "from aocd import submit\n",
    "from tqdm import tqdm\n",
    "# My solution\n",
    "\n",
    "data = aocd.get_data(day=22, year=2016).split('\\n')\n",
    "\n",
    "out = []\n",
    "for line in data[2:]:\n",
    "    path, size, used, avail, _ = line.split()\n",
    "    out += [[path, size, used, avail]]\n",
    "df = pd.DataFrame(out, columns=['path','size','used','avail'])\n",
    "df['size'] = df['size'].map(lambda x: int(x[:-1]))\n",
    "df['used'] = df['used'].map(lambda x: int(x[:-1]))\n",
    "df['avail'] = df['avail'].map(lambda x: int(x[:-1]))"
   ]
  },
  {
   "cell_type": "code",
   "execution_count": 5,
   "metadata": {},
   "outputs": [
    {
     "name": "stderr",
     "output_type": "stream",
     "text": [
      "100%|██████████| 999/999 [00:49<00:00, 20.16it/s]\n"
     ]
    }
   ],
   "source": [
    "viable_pairs = []\n",
    "for name, a in tqdm(df.iterrows(), total=len(df)):\n",
    "    for name, b in df.iterrows():\n",
    "        if a['path'] == b['path']:\n",
    "            continue\n",
    "        if a['used'] > 0:\n",
    "            if a['used'] <= b['avail']:\n",
    "                viable_pairs += [[a['path'],b['path']]]\n"
   ]
  },
  {
   "cell_type": "code",
   "execution_count": 6,
   "metadata": {},
   "outputs": [
    {
     "data": {
      "text/plain": [
       "976"
      ]
     },
     "execution_count": 6,
     "metadata": {},
     "output_type": "execute_result"
    }
   ],
   "source": [
    "len(viable_pairs)"
   ]
  },
  {
   "cell_type": "code",
   "execution_count": null,
   "metadata": {},
   "outputs": [],
   "source": []
  }
 ],
 "metadata": {
  "kernelspec": {
   "display_name": "Python 3",
   "language": "python",
   "name": "python3"
  },
  "language_info": {
   "codemirror_mode": {
    "name": "ipython",
    "version": 3
   },
   "file_extension": ".py",
   "mimetype": "text/x-python",
   "name": "python",
   "nbconvert_exporter": "python",
   "pygments_lexer": "ipython3",
   "version": "3.8.5"
  }
 },
 "nbformat": 4,
 "nbformat_minor": 4
}
