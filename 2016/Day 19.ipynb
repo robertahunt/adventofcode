{
 "cells": [
  {
   "cell_type": "code",
   "execution_count": 204,
   "metadata": {},
   "outputs": [
    {
     "name": "stderr",
     "output_type": "stream",
     "text": [
      "current_day is only available in December (EST)\n"
     ]
    }
   ],
   "source": [
    "import os\n",
    "import re\n",
    "import aocd\n",
    "import string\n",
    "import numpy as np\n",
    "import pandas as pd\n",
    "from copy import deepcopy\n",
    "from aocd import submit\n",
    "\n",
    "\n",
    "data = aocd.get_data(day=19, year=2016).split('\\n')[0]\n",
    "data = int(data)\n",
    "#data = 5"
   ]
  },
  {
   "cell_type": "code",
   "execution_count": 4,
   "metadata": {},
   "outputs": [],
   "source": [
    "# if the total number of elves is even,\n",
    "# every even number one is removed\n",
    "# if the total number of elves is odd, every even numbered elf is removed and then the first elf is also removed"
   ]
  },
  {
   "cell_type": "code",
   "execution_count": 28,
   "metadata": {},
   "outputs": [
    {
     "data": {
      "text/plain": [
       "[2, 4]"
      ]
     },
     "execution_count": 28,
     "metadata": {},
     "output_type": "execute_result"
    }
   ],
   "source": [
    "elves_list = list(range(1,data+1))\n",
    "elves_list[1::2]"
   ]
  },
  {
   "cell_type": "code",
   "execution_count": 31,
   "metadata": {},
   "outputs": [],
   "source": [
    "elves_list = list(range(1,data+1))\n",
    "\n",
    "while(len(elves_list) > 1):\n",
    "    #print('\\nBefore', elves_list)\n",
    "    length = len(elves_list)\n",
    "    if (length % 2) == 0:\n",
    "        elves_list = elves_list[::2]\n",
    "    else:\n",
    "        elves_list = elves_list[::2][1:]\n",
    "    #print('After',elves_list)"
   ]
  },
  {
   "cell_type": "code",
   "execution_count": 32,
   "metadata": {},
   "outputs": [
    {
     "data": {
      "text/plain": [
       "[1842613]"
      ]
     },
     "execution_count": 32,
     "metadata": {},
     "output_type": "execute_result"
    }
   ],
   "source": [
    "elves_list"
   ]
  },
  {
   "cell_type": "code",
   "execution_count": 50,
   "metadata": {},
   "outputs": [
    {
     "name": "stdout",
     "output_type": "stream",
     "text": [
      "   a 0 days 00:00:00.000031\n"
     ]
    }
   ],
   "source": [
    "\n",
    "\n",
    "def start_timer():\n",
    "    global start_time\n",
    "    start_time = pd.Timestamp.now()\n",
    "    \n",
    "def tick(msg=''):\n",
    "    now = pd.Timestamp.now()\n",
    "    print('  ', msg, now-start_time )\n",
    "    \n",
    "start_timer()\n",
    "tick('a')"
   ]
  },
  {
   "cell_type": "code",
   "execution_count": 55,
   "metadata": {},
   "outputs": [
    {
     "name": "stdout",
     "output_type": "stream",
     "text": [
      "\n",
      "Before [1, 2, 3, 4, 5]\n",
      "5\r",
      "   1 0 days 00:00:00.000664\n",
      "   2 0 days 00:00:00.000866\n",
      "   3 0 days 00:00:00.000974\n",
      "After [1, 2, 4, 5]\n",
      "\n",
      "Before [1, 2, 4, 5]\n",
      "4\r",
      "   1 0 days 00:00:00.000058\n",
      "   2 0 days 00:00:00.000166\n",
      "   3 0 days 00:00:00.000352\n",
      "After [1, 2, 5]\n",
      "\n",
      "Before [1, 2, 5]\n",
      "3\r",
      "   1 0 days 00:00:00.000523\n",
      "   2 0 days 00:00:00.000643\n",
      "   3 0 days 00:00:00.000732\n",
      "After [1, 5]\n",
      "\n",
      "Before [1, 5]\n",
      "2\r",
      "   1 0 days 00:00:00.000170\n",
      "   2 0 days 00:00:00.000255\n",
      "   3 0 days 00:00:00.000451\n",
      "After [1]\n"
     ]
    }
   ],
   "source": [
    "#part 2\n",
    "data = 5\n",
    "elves_list = list(range(1,data+1))\n",
    "elfs_turn = 1\n",
    "while(len(elves_list) > 1):\n",
    "    start_timer()\n",
    "    print('\\nBefore', elves_list)\n",
    "    length = len(elves_list)\n",
    "    print(length, end='\\r')\n",
    "    elfs_position = elves_list.index(elfs_turn)\n",
    "    tick(1)\n",
    "    elf_opposite_position = (elfs_position + length // 2) % length\n",
    "    tick(2)\n",
    "    elves_list.remove(elves_list[elf_opposite_position])\n",
    "    #elves_list = elves_list[:elf_opposite_position] + elves_list[elf_opposite_position+1:]\n",
    "    \n",
    "    tick(3)\n",
    "    print('After',elves_list)"
   ]
  },
  {
   "cell_type": "code",
   "execution_count": 67,
   "metadata": {},
   "outputs": [
    {
     "name": "stdout",
     "output_type": "stream",
     "text": [
      "\n",
      "Before [1, 2, 3, 4, 5]\n",
      "After [1, 2, 4, 5]\n",
      "\n",
      "Before [1, 2, 4, 5]\n",
      "After [1, 2, 4]\n",
      "\n",
      "Before [1, 2, 4]\n",
      "After [2, 4]\n",
      "\n",
      "Before [2, 4]\n",
      "After [2]\n"
     ]
    }
   ],
   "source": [
    "\n",
    "data = 5\n",
    "elves_list = np.array(list(range(1,data+1)))\n",
    "\n",
    "for _ in range(int(np.ceil(np.log(data)/np.log(2)))):\n",
    "    i = 0\n",
    "    while i < len(elves_list):\n",
    "        print('\\nBefore', elves_list)\n",
    "        #print(length, end='\\r')\n",
    "        length = len(elves_list)\n",
    "        elf_opposite_position = (i + length // 2) % length\n",
    "        #del elves_list[elf_opposite_position]\n",
    "        print('After',elves_list)\n",
    "        i += 1\n",
    "    if len(elves_list) == 1:\n",
    "        break"
   ]
  },
  {
   "cell_type": "code",
   "execution_count": 120,
   "metadata": {},
   "outputs": [
    {
     "name": "stdout",
     "output_type": "stream",
     "text": [
      "2963016\r"
     ]
    },
    {
     "ename": "KeyboardInterrupt",
     "evalue": "",
     "output_type": "error",
     "traceback": [
      "\u001b[0;31m---------------------------------------------------------------------------\u001b[0m",
      "\u001b[0;31mKeyboardInterrupt\u001b[0m                         Traceback (most recent call last)",
      "\u001b[0;32m<ipython-input-120-a98c6c9b4fa5>\u001b[0m in \u001b[0;36m<module>\u001b[0;34m\u001b[0m\n\u001b[1;32m      6\u001b[0m     \u001b[0;32mif\u001b[0m \u001b[0mlen\u001b[0m\u001b[0;34m(\u001b[0m\u001b[0me\u001b[0m\u001b[0;34m[\u001b[0m\u001b[0me\u001b[0m\u001b[0;34m]\u001b[0m\u001b[0;34m)\u001b[0m \u001b[0;34m==\u001b[0m \u001b[0;36m1\u001b[0m\u001b[0;34m:\u001b[0m\u001b[0;34m\u001b[0m\u001b[0;34m\u001b[0m\u001b[0m\n\u001b[1;32m      7\u001b[0m         \u001b[0;32mbreak\u001b[0m\u001b[0;34m\u001b[0m\u001b[0;34m\u001b[0m\u001b[0m\n\u001b[0;32m----> 8\u001b[0;31m     \u001b[0;32mwhile\u001b[0m \u001b[0mi\u001b[0m \u001b[0;34m<\u001b[0m \u001b[0mlen\u001b[0m\u001b[0;34m(\u001b[0m\u001b[0me\u001b[0m\u001b[0;34m[\u001b[0m\u001b[0me\u001b[0m\u001b[0;34m]\u001b[0m\u001b[0;34m)\u001b[0m\u001b[0;34m:\u001b[0m\u001b[0;34m\u001b[0m\u001b[0;34m\u001b[0m\u001b[0m\n\u001b[0m\u001b[1;32m      9\u001b[0m         \u001b[0;31m#print('\\nBefore', np.where(e)[0])\u001b[0m\u001b[0;34m\u001b[0m\u001b[0;34m\u001b[0m\u001b[0;34m\u001b[0m\u001b[0m\n\u001b[1;32m     10\u001b[0m         \u001b[0;31m#print(elves_list[elves_list !=0][i])\u001b[0m\u001b[0;34m\u001b[0m\u001b[0;34m\u001b[0m\u001b[0;34m\u001b[0m\u001b[0m\n",
      "\u001b[0;31mKeyboardInterrupt\u001b[0m: "
     ]
    }
   ],
   "source": [
    "\n",
    "#data = \n",
    "e = np.ones(data, dtype='bool')\n",
    "\n",
    "for _ in range(int(np.ceil(np.log(data)/np.log(2)))):\n",
    "    i = 0\n",
    "    if len(e[e]) == 1:\n",
    "        break\n",
    "    while i < len(e[e]):\n",
    "        #print('\\nBefore', np.where(e)[0])\n",
    "        #print(elves_list[elves_list !=0][i])\n",
    "        print(length, end='\\r')\n",
    "        length = len(e[e])\n",
    "        elf_opposite_position = (i + length // 2) % length\n",
    "        #del \n",
    "        #print(elves_list[elves_list !=0][elf_opposite_position])\n",
    "        elf_opposite_position = np.where(e)[0][elf_opposite_position]\n",
    "        e[elf_opposite_position] = 0\n",
    "        #print('After',np.where(e)[0])\n",
    "        i += 1\n",
    "    #print('_')\n",
    "        "
   ]
  },
  {
   "cell_type": "code",
   "execution_count": 113,
   "metadata": {},
   "outputs": [
    {
     "data": {
      "text/plain": [
       "5"
      ]
     },
     "execution_count": 113,
     "metadata": {},
     "output_type": "execute_result"
    }
   ],
   "source": [
    "data"
   ]
  },
  {
   "cell_type": "code",
   "execution_count": 77,
   "metadata": {},
   "outputs": [
    {
     "data": {
      "text/plain": [
       "True"
      ]
     },
     "execution_count": 77,
     "metadata": {},
     "output_type": "execute_result"
    }
   ],
   "source": []
  },
  {
   "cell_type": "code",
   "execution_count": null,
   "metadata": {},
   "outputs": [],
   "source": [
    "# takes from 1 + (length // 2)%length, 2 + ((length-1)//2)%2\n"
   ]
  },
  {
   "cell_type": "code",
   "execution_count": 206,
   "metadata": {},
   "outputs": [
    {
     "name": "stdout",
     "output_type": "stream",
     "text": [
      "[ 1  2  3  4  5  6  7  8  9 10 11 12]\n",
      "remove indices 6\n",
      "remove indices 7\n",
      "remove indices 9\n",
      "remove indices 10\n",
      "remove indices 0\n",
      "remove indices 1\n",
      "[ 3  4  5  6  9 12] 5 4\n",
      "[ 9 12  3  4  5  6]\n",
      "[ 9 12  3  4  5  6]\n",
      "remove indices 3\n",
      "remove indices 4\n",
      "remove indices 0\n",
      "[12  3  6] 2 2\n",
      "[ 6 12  3]\n",
      "[ 6 12  3]\n",
      "remove indices 1\n",
      "[6 3] 0 1\n",
      "[3 6]\n",
      "[3 6]\n",
      "remove indices 1\n",
      "[3] 0 1\n",
      "[3]\n"
     ]
    },
    {
     "data": {
      "text/plain": [
       "array([3])"
      ]
     },
     "execution_count": 206,
     "metadata": {},
     "output_type": "execute_result"
    }
   ],
   "source": [
    "data=12\n",
    "\n",
    "elves_list = np.array(list(range(1,data+1)))\n",
    "for _ in range(int(np.ceil(np.log(data)/np.log(2)))):\n",
    "    \n",
    "    remove = []\n",
    "    length = len(elves_list)\n",
    "    print(elves_list)\n",
    "    for i in range(0,len(elves_list)//2):\n",
    "        remove += [(i + (length - (i))//2 + (i))%length]\n",
    "        print('remove indices',remove[-1])\n",
    "    roll_to = elves_list[i]\n",
    "    # reset to start from 0 again\n",
    "    elves_list = np.delete(elves_list,remove)\n",
    "    roll_to = np.where(elves_list == roll_to)[0][0] + 1\n",
    "    \n",
    "    print(elves_list, i, roll_to)\n",
    "    elves_list = np.roll(elves_list, -roll_to)\n",
    "    print(elves_list)\n",
    "elves_list"
   ]
  },
  {
   "cell_type": "code",
   "execution_count": 143,
   "metadata": {},
   "outputs": [
    {
     "data": {
      "text/plain": [
       "array([1, 2, 3, 4, 5, 6, 7, 8, 9, 0])"
      ]
     },
     "execution_count": 143,
     "metadata": {},
     "output_type": "execute_result"
    }
   ],
   "source": [
    "np.roll(range(10), -(i+1))"
   ]
  },
  {
   "cell_type": "code",
   "execution_count": 144,
   "metadata": {},
   "outputs": [
    {
     "data": {
      "text/plain": [
       "0"
      ]
     },
     "execution_count": 144,
     "metadata": {},
     "output_type": "execute_result"
    }
   ],
   "source": [
    "1006236"
   ]
  },
  {
   "cell_type": "code",
   "execution_count": null,
   "metadata": {},
   "outputs": [],
   "source": []
  }
 ],
 "metadata": {
  "kernelspec": {
   "display_name": "Python 3",
   "language": "python",
   "name": "python3"
  },
  "language_info": {
   "codemirror_mode": {
    "name": "ipython",
    "version": 3
   },
   "file_extension": ".py",
   "mimetype": "text/x-python",
   "name": "python",
   "nbconvert_exporter": "python",
   "pygments_lexer": "ipython3",
   "version": "3.8.5"
  }
 },
 "nbformat": 4,
 "nbformat_minor": 4
}
