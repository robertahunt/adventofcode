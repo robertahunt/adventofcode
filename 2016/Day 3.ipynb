{
 "cells": [
  {
   "cell_type": "code",
   "execution_count": 11,
   "metadata": {},
   "outputs": [
    {
     "name": "stderr",
     "output_type": "stream",
     "text": [
      "current_day is only available in December (EST)\n"
     ]
    }
   ],
   "source": [
    "import os\n",
    "import re\n",
    "import aocd\n",
    "import numpy as np\n",
    "import pandas as pd\n",
    "from copy import deepcopy\n",
    "from aocd import submit\n",
    "# My solution\n",
    "\n",
    "data = aocd.get_data(day=3, year=2016).split('\\n')\n",
    "data = [sorted(list(map(int,x.split()))) for x in data]"
   ]
  },
  {
   "cell_type": "code",
   "execution_count": 14,
   "metadata": {},
   "outputs": [
    {
     "data": {
      "text/plain": [
       "982"
      ]
     },
     "execution_count": 14,
     "metadata": {},
     "output_type": "execute_result"
    }
   ],
   "source": [
    "len([x for x in data if x[0] + x[1] > x[2]])"
   ]
  },
  {
   "cell_type": "code",
   "execution_count": 35,
   "metadata": {},
   "outputs": [
    {
     "data": {
      "text/plain": [
       "1826"
      ]
     },
     "execution_count": 35,
     "metadata": {},
     "output_type": "execute_result"
    }
   ],
   "source": [
    "no_possible_triangles = 0\n",
    "\n",
    "data = aocd.get_data(day=3, year=2016).split('\\n')\n",
    "data = np.array([list(map(int,x.split())) for x in data])\n",
    "data = data.T.flatten()\n",
    "for i in range(0,len(data),3):\n",
    "    triangle = sorted(data[i:i+3])\n",
    "    if triangle[0] + triangle[1] > triangle[2]:\n",
    "        no_possible_triangles += 1\n",
    "no_possible_triangles"
   ]
  },
  {
   "cell_type": "code",
   "execution_count": null,
   "metadata": {},
   "outputs": [],
   "source": []
  }
 ],
 "metadata": {
  "kernelspec": {
   "display_name": "Python 3",
   "language": "python",
   "name": "python3"
  },
  "language_info": {
   "codemirror_mode": {
    "name": "ipython",
    "version": 3
   },
   "file_extension": ".py",
   "mimetype": "text/x-python",
   "name": "python",
   "nbconvert_exporter": "python",
   "pygments_lexer": "ipython3",
   "version": "3.8.5"
  }
 },
 "nbformat": 4,
 "nbformat_minor": 4
}
