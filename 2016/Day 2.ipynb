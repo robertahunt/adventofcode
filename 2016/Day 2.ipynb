{
 "cells": [
  {
   "cell_type": "code",
   "execution_count": 64,
   "metadata": {},
   "outputs": [
    {
     "name": "stderr",
     "output_type": "stream",
     "text": [
      "current_day is only available in December (EST)\n"
     ]
    }
   ],
   "source": [
    "import os\n",
    "import re\n",
    "import aocd\n",
    "import numpy as np\n",
    "import pandas as pd\n",
    "from copy import deepcopy\n",
    "from aocd import submit\n",
    "# My solution\n",
    "\n",
    "data = \"\"\"ULL\n",
    "RRDDD\n",
    "LURDL\n",
    "UUUUD\"\"\".split('\\n')\n",
    "data = aocd.get_data(day=2, year=2016).split('\\n')\n"
   ]
  },
  {
   "cell_type": "code",
   "execution_count": 65,
   "metadata": {},
   "outputs": [
    {
     "name": "stdout",
     "output_type": "stream",
     "text": [
      "[1 0]\n",
      "6\n",
      "[ 1 -1]\n",
      "9\n",
      "[1 0]\n",
      "6\n",
      "[-1  0]\n",
      "4\n",
      "[0 1]\n",
      "2\n"
     ]
    }
   ],
   "source": [
    "pos = np.array([0,0])\n",
    "ins_to_move = {'D':np.array([0,-1]),'U':np.array([0,1]),'L':np.array([-1,0]),'R':np.array([1,0])}\n",
    "\n",
    "\n",
    "code_grid = np.array([[1,2,3],[4,5,6],[7,8,9]])\n",
    "\n",
    "for line in data:\n",
    "    for ins in line:\n",
    "        #print('\\n')\n",
    "        #print(pos)\n",
    "        #print(ins)\n",
    "        move = ins_to_move[ins]\n",
    "        pos += move\n",
    "        pos = np.sign(pos)\n",
    "        #print(pos)\n",
    "    print(pos)\n",
    "    print(code_grid[-pos[1]+1][pos[0]+1])\n"
   ]
  },
  {
   "cell_type": "code",
   "execution_count": 67,
   "metadata": {},
   "outputs": [
    {
     "name": "stdout",
     "output_type": "stream",
     "text": [
      "[2 3]\n",
      "8\n",
      "[3 3]\n",
      "C\n",
      "[3 2]\n",
      "B\n",
      "[1 1]\n",
      "2\n",
      "[1 2]\n",
      "3\n"
     ]
    }
   ],
   "source": [
    "\n",
    "code_grid = np.array([[0,0,1,0,0],\n",
    "                     [0,2,3,4,0],\n",
    "                     [5,6,7,8,9],\n",
    "                     [0,'A','B','C',0],\n",
    "                     [0,0,'D',0,0]])\n",
    "\n",
    "ins_to_move = {'D':np.array([1,0]),'U':np.array([-1,0]),'L':np.array([0,-1]),'R':np.array([0,1])}\n",
    "\n",
    "pos = np.array([2,0])\n",
    "for line in data:\n",
    "    for ins in line:\n",
    "        move = ins_to_move[ins]\n",
    "        new_pos = pos + move\n",
    "        \n",
    "        #ensure not going outside grid\n",
    "        for i in range(len(new_pos)):\n",
    "            new_pos[i] = max(new_pos[i],0)\n",
    "            new_pos[i] = min(new_pos[i],4)\n",
    "            \n",
    "        if code_grid[new_pos[0]][new_pos[1]] != '0':\n",
    "            pos = deepcopy(new_pos)\n",
    "            \n",
    "    print(pos)\n",
    "    print(code_grid[pos[0]][pos[1]])"
   ]
  },
  {
   "cell_type": "code",
   "execution_count": null,
   "metadata": {},
   "outputs": [],
   "source": []
  }
 ],
 "metadata": {
  "kernelspec": {
   "display_name": "Python 3",
   "language": "python",
   "name": "python3"
  },
  "language_info": {
   "codemirror_mode": {
    "name": "ipython",
    "version": 3
   },
   "file_extension": ".py",
   "mimetype": "text/x-python",
   "name": "python",
   "nbconvert_exporter": "python",
   "pygments_lexer": "ipython3",
   "version": "3.8.5"
  }
 },
 "nbformat": 4,
 "nbformat_minor": 4
}
