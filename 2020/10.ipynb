{
 "cells": [
  {
   "cell_type": "code",
   "execution_count": 49,
   "metadata": {},
   "outputs": [
    {
     "data": {
      "text/plain": [
       "[165,\n",
       " 78,\n",
       " 151,\n",
       " 15,\n",
       " 138,\n",
       " 97,\n",
       " 152,\n",
       " 64,\n",
       " 4,\n",
       " 111,\n",
       " 7,\n",
       " 90,\n",
       " 91,\n",
       " 156,\n",
       " 73,\n",
       " 113,\n",
       " 93,\n",
       " 135,\n",
       " 100,\n",
       " 70,\n",
       " 119,\n",
       " 54,\n",
       " 80,\n",
       " 170,\n",
       " 139,\n",
       " 33,\n",
       " 123,\n",
       " 92,\n",
       " 86,\n",
       " 57,\n",
       " 39,\n",
       " 173,\n",
       " 22,\n",
       " 106,\n",
       " 166,\n",
       " 142,\n",
       " 53,\n",
       " 96,\n",
       " 158,\n",
       " 63,\n",
       " 51,\n",
       " 81,\n",
       " 46,\n",
       " 36,\n",
       " 126,\n",
       " 59,\n",
       " 98,\n",
       " 2,\n",
       " 16,\n",
       " 141,\n",
       " 120,\n",
       " 35,\n",
       " 140,\n",
       " 99,\n",
       " 121,\n",
       " 122,\n",
       " 58,\n",
       " 1,\n",
       " 60,\n",
       " 47,\n",
       " 10,\n",
       " 87,\n",
       " 103,\n",
       " 42,\n",
       " 132,\n",
       " 17,\n",
       " 75,\n",
       " 12,\n",
       " 29,\n",
       " 112,\n",
       " 3,\n",
       " 145,\n",
       " 131,\n",
       " 18,\n",
       " 153,\n",
       " 74,\n",
       " 161,\n",
       " 174,\n",
       " 68,\n",
       " 34,\n",
       " 21,\n",
       " 24,\n",
       " 85,\n",
       " 164,\n",
       " 52,\n",
       " 69,\n",
       " 65,\n",
       " 45,\n",
       " 109,\n",
       " 148,\n",
       " 11,\n",
       " 23,\n",
       " 129,\n",
       " 84,\n",
       " 167,\n",
       " 27,\n",
       " 28,\n",
       " 116,\n",
       " 110,\n",
       " 79,\n",
       " 48,\n",
       " 32,\n",
       " 157,\n",
       " 130]"
      ]
     },
     "execution_count": 49,
     "metadata": {},
     "output_type": "execute_result"
    }
   ],
   "source": [
    "from aocd import data, submit\n",
    "from aocd.get import get_data\n",
    "import numpy as np\n",
    "import pandas as pd\n",
    "import re\n",
    "#Part 1\n",
    "data = get_data(day=10, year=2020).split('\\n')\n",
    "\n",
    "data = [int(x) for x in data]\n",
    "data"
   ]
  },
  {
   "cell_type": "code",
   "execution_count": 50,
   "metadata": {},
   "outputs": [],
   "source": [
    "my_joltage = max(data) + 3\n",
    "data += [0, my_joltage]"
   ]
  },
  {
   "cell_type": "code",
   "execution_count": 52,
   "metadata": {},
   "outputs": [
    {
     "data": {
      "text/plain": [
       "array([1, 1, 1, 1, 3, 3, 1, 1, 3, 1, 1, 1, 3, 1, 1, 1, 3, 1, 1, 3, 1, 1,\n",
       "       1, 1, 3, 3, 3, 1, 1, 1, 3, 1, 1, 1, 3, 1, 1, 1, 3, 1, 1, 3, 1, 1,\n",
       "       3, 1, 1, 3, 1, 1, 1, 3, 1, 1, 1, 3, 1, 1, 1, 3, 1, 1, 1, 1, 3, 3,\n",
       "       3, 1, 1, 1, 1, 3, 3, 1, 1, 1, 1, 3, 3, 1, 1, 1, 3, 3, 1, 1, 1, 1,\n",
       "       3, 3, 3, 1, 1, 3, 1, 1, 3, 3, 1, 1, 1, 3, 3, 1, 3])"
      ]
     },
     "execution_count": 52,
     "metadata": {},
     "output_type": "execute_result"
    }
   ],
   "source": []
  },
  {
   "cell_type": "code",
   "execution_count": 51,
   "metadata": {},
   "outputs": [
    {
     "data": {
      "text/plain": [
       "2484"
      ]
     },
     "execution_count": 51,
     "metadata": {},
     "output_type": "execute_result"
    }
   ],
   "source": [
    "diffs = np.diff(sorted(data))\n",
    "len(np.where(diffs==1)[0])*len(np.where(diffs==3)[0])"
   ]
  },
  {
   "cell_type": "code",
   "execution_count": 46,
   "metadata": {},
   "outputs": [
    {
     "data": {
      "text/plain": [
       "[0, 1, 4, 5, 6, 7, 10, 11, 12, 15, 16, 19, 22]"
      ]
     },
     "execution_count": 46,
     "metadata": {},
     "output_type": "execute_result"
    }
   ],
   "source": [
    "sorted(data)"
   ]
  },
  {
   "cell_type": "code",
   "execution_count": 59,
   "metadata": {},
   "outputs": [],
   "source": [
    "#Part 2\n",
    "diffs\n",
    "no_1s_in_a_row = 0\n",
    "permutations = 1\n",
    "\n",
    "for diff in diffs:\n",
    "    if diff == 1:\n",
    "        no_1s_in_a_row += 1\n",
    "    if diff == 3:\n",
    "        reset = True\n",
    "        if no_1s_in_a_row == 0:\n",
    "            pass\n",
    "        elif no_1s_in_a_row == 1:\n",
    "            permutations *= 1\n",
    "        elif no_1s_in_a_row == 2:\n",
    "            permutations *= 2\n",
    "        elif no_1s_in_a_row == 3:\n",
    "            permutations *= 4\n",
    "        elif no_1s_in_a_row == 4:\n",
    "            permutations *= 7\n",
    "        else:\n",
    "            asdfe\n",
    "        no_1s_in_a_row = 0"
   ]
  },
  {
   "cell_type": "code",
   "execution_count": 63,
   "metadata": {},
   "outputs": [
    {
     "data": {
      "text/plain": [
       "15790581481472"
      ]
     },
     "execution_count": 63,
     "metadata": {},
     "output_type": "execute_result"
    }
   ],
   "source": [
    "permutations"
   ]
  },
  {
   "cell_type": "code",
   "execution_count": 48,
   "metadata": {},
   "outputs": [
    {
     "data": {
      "text/plain": [
       "[16, 10, 15, 5, 1, 11, 7, 19, 6, 12, 4, 0, 22]"
      ]
     },
     "execution_count": 48,
     "metadata": {},
     "output_type": "execute_result"
    }
   ],
   "source": [
    "#If there is 1 1 before a 3, you can't remove it - 1\n",
    "#If there are 2 1s before a 3, you can remove the first one only - 2\n",
    "#If there are 3 1s before a 3, you can remove either of the first two, or both - 4\n",
    "#If there are 4 1s before a 3 (did this on paper): 7 - that is the max in this example"
   ]
  },
  {
   "cell_type": "code",
   "execution_count": null,
   "metadata": {},
   "outputs": [],
   "source": []
  }
 ],
 "metadata": {
  "kernelspec": {
   "display_name": "Python 3",
   "language": "python",
   "name": "python3"
  },
  "language_info": {
   "codemirror_mode": {
    "name": "ipython",
    "version": 3
   },
   "file_extension": ".py",
   "mimetype": "text/x-python",
   "name": "python",
   "nbconvert_exporter": "python",
   "pygments_lexer": "ipython3",
   "version": "3.7.9"
  }
 },
 "nbformat": 4,
 "nbformat_minor": 4
}
