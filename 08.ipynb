{
 "cells": [
  {
   "cell_type": "code",
   "execution_count": 27,
   "metadata": {},
   "outputs": [],
   "source": [
    "from aocd import data, submit\n",
    "from aocd.get import get_data\n",
    "import numpy as np\n",
    "import pandas as pd\n",
    "import re\n",
    "#Part 1\n",
    "data = get_data(day=8, year=2020).split('\\n')\n",
    "data = [x.split(' ') for x in data]\n"
   ]
  },
  {
   "cell_type": "code",
   "execution_count": 28,
   "metadata": {},
   "outputs": [
    {
     "ename": "ValueError",
     "evalue": "too many values to unpack (expected 2)",
     "output_type": "error",
     "traceback": [
      "\u001b[0;31m---------------------------------------------------------------------------\u001b[0m",
      "\u001b[0;31mValueError\u001b[0m                                Traceback (most recent call last)",
      "\u001b[0;32m<ipython-input-28-fd0ea1073355>\u001b[0m in \u001b[0;36m<module>\u001b[0;34m()\u001b[0m\n\u001b[1;32m      6\u001b[0m \u001b[0;34m\u001b[0m\u001b[0m\n\u001b[1;32m      7\u001b[0m \u001b[0;32mwhile\u001b[0m \u001b[0;32mTrue\u001b[0m\u001b[0;34m:\u001b[0m\u001b[0;34m\u001b[0m\u001b[0;34m\u001b[0m\u001b[0m\n\u001b[0;32m----> 8\u001b[0;31m     \u001b[0minst\u001b[0m\u001b[0;34m,\u001b[0m \u001b[0mamount\u001b[0m \u001b[0;34m=\u001b[0m \u001b[0mdata\u001b[0m\u001b[0;34m[\u001b[0m\u001b[0mi\u001b[0m\u001b[0;34m]\u001b[0m\u001b[0;34m\u001b[0m\u001b[0;34m\u001b[0m\u001b[0m\n\u001b[0m\u001b[1;32m      9\u001b[0m     \u001b[0mamount\u001b[0m \u001b[0;34m=\u001b[0m \u001b[0mint\u001b[0m\u001b[0;34m(\u001b[0m\u001b[0mamount\u001b[0m\u001b[0;34m)\u001b[0m\u001b[0;34m\u001b[0m\u001b[0;34m\u001b[0m\u001b[0m\n\u001b[1;32m     10\u001b[0m \u001b[0;34m\u001b[0m\u001b[0m\n",
      "\u001b[0;31mValueError\u001b[0m: too many values to unpack (expected 2)"
     ]
    }
   ],
   "source": [
    "acc_value = 0\n",
    "i = 0\n",
    "no_loops = 0\n",
    "\n",
    "while True:\n",
    "    inst, amount = data[i]\n",
    "    amount = int(amount)\n",
    "    \n",
    "    if inst == 'nop':\n",
    "        ni=i+1\n",
    "    elif inst == 'acc':\n",
    "        acc_value += amount\n",
    "        ni=i+1\n",
    "    elif inst == 'jmp':\n",
    "        ni=i+amount\n",
    "    else:\n",
    "        print('wtf')\n",
    "        break\n",
    "        \n",
    "    data[i] += [no_loops]\n",
    "    i = ni\n",
    "    no_loops += 1\n",
    "    if no_loops > 1000:\n",
    "        break"
   ]
  },
  {
   "cell_type": "code",
   "execution_count": 56,
   "metadata": {},
   "outputs": [
    {
     "ename": "NameError",
     "evalue": "name 'asfde' is not defined",
     "output_type": "error",
     "traceback": [
      "\u001b[0;31m---------------------------------------------------------------------------\u001b[0m",
      "\u001b[0;31mNameError\u001b[0m                                 Traceback (most recent call last)",
      "\u001b[0;32m<ipython-input-56-23f57ad9cd26>\u001b[0m in \u001b[0;36m<module>\u001b[0;34m()\u001b[0m\n\u001b[1;32m     40\u001b[0m \u001b[0;34m\u001b[0m\u001b[0m\n\u001b[1;32m     41\u001b[0m             \u001b[0;32mif\u001b[0m \u001b[0mi\u001b[0m \u001b[0;34m==\u001b[0m \u001b[0mlen\u001b[0m\u001b[0;34m(\u001b[0m\u001b[0mdata\u001b[0m\u001b[0;34m)\u001b[0m\u001b[0;34m:\u001b[0m\u001b[0;34m\u001b[0m\u001b[0;34m\u001b[0m\u001b[0m\n\u001b[0;32m---> 42\u001b[0;31m                 \u001b[0masfde\u001b[0m\u001b[0;34m\u001b[0m\u001b[0;34m\u001b[0m\u001b[0m\n\u001b[0m\u001b[1;32m     43\u001b[0m \u001b[0;34m\u001b[0m\u001b[0m\n\u001b[1;32m     44\u001b[0m             \u001b[0mno_loops\u001b[0m \u001b[0;34m+=\u001b[0m \u001b[0;36m1\u001b[0m\u001b[0;34m\u001b[0m\u001b[0;34m\u001b[0m\u001b[0m\n",
      "\u001b[0;31mNameError\u001b[0m: name 'asfde' is not defined"
     ]
    }
   ],
   "source": [
    "from copy import deepcopy\n",
    "orig_data = get_data(day=8, year=2020).split('\\n')\n",
    "orig_data = [x.split(' ') for x in orig_data]\n",
    "\n",
    "for j in range(len(orig_data)):\n",
    "    data = deepcopy(orig_data)\n",
    "    changed = 0\n",
    "    if data[j][0] == 'nop':\n",
    "        data[j][0] = 'jmp'\n",
    "        changed = 1\n",
    "    elif data[j][0] == 'jmp':\n",
    "        data[j][0] = 'nop'\n",
    "        changed = 1\n",
    "    \n",
    "    if changed:\n",
    "        acc_value = 0\n",
    "        i = 0\n",
    "        no_loops = 0\n",
    "\n",
    "        while True:\n",
    "            if len(data[i]) == 3:\n",
    "                break\n",
    "            inst, amount = data[i]\n",
    "            amount = int(amount)\n",
    "\n",
    "            if inst == 'nop':\n",
    "                ni=i+1\n",
    "            elif inst == 'acc':\n",
    "                acc_value += amount\n",
    "                ni=i+1\n",
    "            elif inst == 'jmp':\n",
    "                ni=i+amount\n",
    "\n",
    "            else:\n",
    "                print('wtf')\n",
    "                break\n",
    "\n",
    "            data[i] += [no_loops]\n",
    "            i = ni\n",
    "\n",
    "            if i == len(data):\n",
    "                asfde\n",
    "\n",
    "            no_loops += 1\n",
    "            if no_loops > 1000:\n",
    "                break\n"
   ]
  },
  {
   "cell_type": "code",
   "execution_count": 58,
   "metadata": {},
   "outputs": [
    {
     "data": {
      "text/plain": [
       "920"
      ]
     },
     "execution_count": 58,
     "metadata": {},
     "output_type": "execute_result"
    }
   ],
   "source": [
    "acc_value"
   ]
  },
  {
   "cell_type": "code",
   "execution_count": null,
   "metadata": {},
   "outputs": [],
   "source": []
  }
 ],
 "metadata": {
  "kernelspec": {
   "display_name": "Python 3",
   "language": "python",
   "name": "python3"
  },
  "language_info": {
   "codemirror_mode": {
    "name": "ipython",
    "version": 3
   },
   "file_extension": ".py",
   "mimetype": "text/x-python",
   "name": "python",
   "nbconvert_exporter": "python",
   "pygments_lexer": "ipython3",
   "version": "3.7.9"
  }
 },
 "nbformat": 4,
 "nbformat_minor": 4
}
